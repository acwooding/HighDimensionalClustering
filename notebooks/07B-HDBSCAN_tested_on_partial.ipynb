{
 "cells": [
  {
   "cell_type": "markdown",
   "id": "e4e429df",
   "metadata": {
    "tags": []
   },
   "source": [
    "# Testing HDBSCAN on weighted adjacency matrices\n",
    "\n",
    "This notebook is used to test the validity of the function hdbscan on graphs. To test it, we build the UMAP graph and we weight the edges with the low dimensional distances - after a full UMAP projection. We compare the results of HDBSCAN run on the low dimensional points with the results of the graph HDBSCAN version run on the partial distance (low-dim-distance-weighted graph).\n",
    "\n",
    "## Conclusions:\n",
    "\n",
    "The graph HDBSCAN code works well: so much better than what I had written myself. For this reason, many of the analysis I had run before (notebooks 07 and 07A) will need to be run again with this functi"
   ]
  },
  {
   "cell_type": "code",
   "execution_count": 1,
   "id": "e4875757-c802-423c-8bf8-8efd45ff78e3",
   "metadata": {},
   "outputs": [
    {
     "name": "stdout",
     "output_type": "stream",
     "text": [
      "* \u001b[32mmaster\u001b[m\n"
     ]
    }
   ],
   "source": [
    "!git branch"
   ]
  },
  {
   "cell_type": "code",
   "execution_count": 1,
   "id": "52d3bdf4-9b88-4008-93e6-5e6f656e5b94",
   "metadata": {},
   "outputs": [
    {
     "name": "stdout",
     "output_type": "stream",
     "text": [
      "['pendigits', 'coil', 'mnist', 'usps', 'buildings', 'clusterable']\n"
     ]
    }
   ],
   "source": [
    "execfile('functions/data_specifics.py')\n",
    "execfile('functions/graph_functions.py')\n",
    "print(data_set_list)"
   ]
  },
  {
   "cell_type": "code",
   "execution_count": 2,
   "id": "84a03c0f",
   "metadata": {},
   "outputs": [],
   "source": [
    "from IPython.display import display, Markdown, Latex\n",
    "from sklearn.metrics import adjusted_rand_score, adjusted_mutual_info_score, silhouette_score\n",
    "from sklearn import cluster\n",
    "\n",
    "import numpy as np\n",
    "import pandas as pd\n",
    "\n",
    "import matplotlib.pyplot as plt\n",
    "import seaborn as sns\n",
    "\n",
    "import umap\n",
    "from collections import Counter\n",
    "from scipy.stats import mode\n",
    "\n",
    "from scipy.spatial.distance import euclidean\n",
    "\n",
    "sns.set()"
   ]
  },
  {
   "cell_type": "code",
   "execution_count": 3,
   "id": "7941f209-c136-4981-8066-31a64b6e2723",
   "metadata": {},
   "outputs": [],
   "source": [
    "import hdbscan\n",
    "import scipy.sparse as sp\n",
    "import sklearn.cluster\n",
    "from hdbscan._hdbscan_tree import (\n",
    "    condense_tree,\n",
    "    compute_stability,\n",
    "    get_clusters,\n",
    "    outlier_scores,\n",
    ")\n",
    "from hdbscan.plots import CondensedTree, SingleLinkageTree, MinimumSpanningTree"
   ]
  },
  {
   "cell_type": "markdown",
   "id": "26877179-761c-423a-8588-cdcd30adb10a",
   "metadata": {},
   "source": [
    "## Get clusters from a (disconnected) sparse distance matrix\n",
    "\n",
    "* The 0-values indicate \"far away\" points\n",
    "\n",
    "If the matrix has disconnected components (when viewed as a graph), HDBSCAN does not work. To get around this, we have tried clustering each component separately or just adding edges to glue the different parts together."
   ]
  },
  {
   "cell_type": "code",
   "execution_count": 17,
   "id": "0e1448e9-2e0c-4120-93e4-cce1acdad897",
   "metadata": {},
   "outputs": [],
   "source": [
    "def hdbscan_on_graph(distance_graph):\n",
    "    if scipy.sparse.csgraph.connected_components(distance_graph)[0] > 1:\n",
    "        n_components, components = scipy.sparse.csgraph.connected_components(distance_graph)\n",
    "        rj_labels = np.full(distance_graph.shape[0], -1, dtype=np.int64)\n",
    "        for i in range(n_components):\n",
    "            if np.sum(components == i) <= 90:\n",
    "                subgraph_labels = np.zeros(np.sum(components == i), dtype=np.int64)\n",
    "            else:\n",
    "                subgraph = distance_graph[components == i, :][:, components == i]\n",
    "                subgraph_labels = hdbscan.HDBSCAN(metric=\"precomputed\", min_samples=2, min_cluster_size=30, allow_single_cluster=subgraph.shape[0] < 300).fit_predict(subgraph)\n",
    "            subgraph_labels[subgraph_labels >= 0] += (rj_labels.max() + 1)\n",
    "            rj_labels[components == i] = subgraph_labels\n",
    "            # print(i, np.sum(components == i), Counter(subgraph_labels))\n",
    "    else:\n",
    "        rj_labels = hdbscan.HDBSCAN(metric=\"precomputed\", min_samples=2, min_cluster_size=30).fit_predict(distance_graph)\n",
    "    return(rj_labels)"
   ]
  },
  {
   "cell_type": "markdown",
   "id": "98d169fe-f792-44f3-804f-2491582d49d1",
   "metadata": {},
   "source": [
    "# Clustering algorithm\n",
    "These are the steps we use to feed a sparse distance matrix to the single linkage...\n",
    "We are not using HDBSCAN at the moment, but this is where we would like to go."
   ]
  },
  {
   "cell_type": "markdown",
   "id": "fa3e0edb-43b9-4afe-8d0f-01b21faf3004",
   "metadata": {},
   "source": [
    "## Get data, UMAP graph and UMAP low dimensional vectors"
   ]
  },
  {
   "cell_type": "code",
   "execution_count": 5,
   "id": "87352309-e8d9-4c70-97ac-175132259798",
   "metadata": {},
   "outputs": [],
   "source": [
    "dataset_id=0\n",
    "raw_data, targets, dataset_name = get_dataset(dataset_id=dataset_id)\n",
    "\n",
    "k = get_dataset_params(dataset_id)['n_neighbors']\n",
    "\n",
    "A_umap, sigmas, rhos, dists = umap.umap_.fuzzy_simplicial_set(X=raw_data, \n",
    "                                             n_neighbors=k, \n",
    "                                             random_state=0, \n",
    "                                             metric='euclidean', \n",
    "                                             return_dists=True,\n",
    "                                             set_op_mix_ratio=1)\n",
    "\n",
    "A_knn = knn_adjacency(raw_data, k=k)\n",
    "\n",
    "umap_rep = get_umap_vectors(dataset_id=dataset_id, raw_data=raw_data)"
   ]
  },
  {
   "cell_type": "markdown",
   "id": "079000e5-3584-492d-b928-de4ae7d1aa47",
   "metadata": {},
   "source": [
    "## Build the partial distance matrix based of UMAP graph"
   ]
  },
  {
   "cell_type": "code",
   "execution_count": 6,
   "id": "0e1faf25-52a6-4e3e-9926-7822edf3edcf",
   "metadata": {},
   "outputs": [],
   "source": [
    "# Symmetric D\n",
    "D = A_umap.copy()\n",
    "rows = [x for v in [[i]*v for i, v in enumerate(A_umap.indptr[1:] - A_umap.indptr[:-1])] for x in v]\n",
    "D.data = np.array([euclidean( umap_rep[rows[i]], \n",
    "                                         umap_rep[A_umap.indices[i]])\n",
    "            for i in range(len(rows))\n",
    "           ])"
   ]
  },
  {
   "cell_type": "markdown",
   "id": "197dd5d2-073d-43b4-86c6-c3ac0aedc604",
   "metadata": {},
   "source": [
    "## Compare robust single-linkage (portions of HDBSCAN) on partial distance vs. on low dim projection"
   ]
  },
  {
   "cell_type": "code",
   "execution_count": 8,
   "id": "e1fbcbe3-fce2-4dff-8522-6ed482fd322b",
   "metadata": {},
   "outputs": [
    {
     "name": "stdout",
     "output_type": "stream",
     "text": [
      "ARI = 0.9065482347624224 and AMI = 0.9238583306873789\n"
     ]
    }
   ],
   "source": [
    "labels = hdbscan_on_graph(D)\n",
    "\n",
    "ari = adjusted_rand_score(targets, labels)\n",
    "ami = adjusted_mutual_info_score(targets, labels)\n",
    "print(f'ARI = {ari} and AMI = {ami}')"
   ]
  },
  {
   "cell_type": "code",
   "execution_count": 9,
   "id": "10595951-da7e-4bf2-a6b0-639ed26b65d0",
   "metadata": {},
   "outputs": [
    {
     "name": "stdout",
     "output_type": "stream",
     "text": [
      "ARI = 0.9185149200427103 and AMI = 0.9320899303214291\n"
     ]
    }
   ],
   "source": [
    "hd_umap_labels = h_dbscan(umap_rep, which_algo='hdbscan', dataset_id=dataset_id)\n",
    "\n",
    "ari = adjusted_rand_score(targets, hd_umap_labels)\n",
    "ami = adjusted_mutual_info_score(targets, hd_umap_labels)\n",
    "print(f'ARI = {ari} and AMI = {ami}')"
   ]
  },
  {
   "cell_type": "markdown",
   "id": "acdec4a3-5306-49f4-b3f0-970cb15c15c9",
   "metadata": {},
   "source": [
    "The difference between the HDBSCAN results on the low-dimensional dataset and HDBSCAN results on the partial distance matrix limited to the UMAP graph entries is huge. Is this normal or is it some issues with my HDBSCAN code?"
   ]
  },
  {
   "cell_type": "markdown",
   "id": "cec10411-8ccb-4dba-86ec-91edc2273b36",
   "metadata": {},
   "source": [
    "# Add mutual reachability"
   ]
  },
  {
   "cell_type": "code",
   "execution_count": 10,
   "id": "cb2fe79c-c848-4a8c-ac3a-dfa8369bc394",
   "metadata": {},
   "outputs": [
    {
     "name": "stdout",
     "output_type": "stream",
     "text": [
      "ARI = 0.9040986701693291 and AMI = 0.9209138850765751\n"
     ]
    }
   ],
   "source": [
    "D_sparse_lil = D.tolil()\n",
    "D_mr = hdbscan.hdbscan_.sparse_mutual_reachability(D_sparse_lil)\n",
    "\n",
    "labels = hdbscan_on_graph(D_mr)\n",
    "\n",
    "ari = adjusted_rand_score(targets, labels)\n",
    "ami = adjusted_mutual_info_score(targets, labels)\n",
    "print(f'ARI = {ari} and AMI = {ami}')"
   ]
  },
  {
   "cell_type": "markdown",
   "id": "80774d7a-06e2-4526-aabd-ccb661ee2f8f",
   "metadata": {},
   "source": [
    "## Non-symmetrical matrices"
   ]
  },
  {
   "cell_type": "code",
   "execution_count": 11,
   "id": "540c8168-78e7-4d23-8fba-0f6b820637bf",
   "metadata": {},
   "outputs": [
    {
     "name": "stdout",
     "output_type": "stream",
     "text": [
      "ARI = 0.39813849659122247 and AMI = 0.7081322939635483\n"
     ]
    }
   ],
   "source": [
    "D_sparse_lil = dists.tolil()\n",
    "D_mr = hdbscan.hdbscan_.sparse_mutual_reachability(D_sparse_lil)\n",
    "\n",
    "labels = hdbscan_on_graph(D_mr)\n",
    "\n",
    "ari = adjusted_rand_score(targets, labels)\n",
    "ami = adjusted_mutual_info_score(targets, labels)\n",
    "print(f'ARI = {ari} and AMI = {ami}')"
   ]
  },
  {
   "cell_type": "code",
   "execution_count": 12,
   "id": "e513f5a7-9727-4f81-887b-e9948d459871",
   "metadata": {},
   "outputs": [],
   "source": [
    "# Non-Symmetric D\n",
    "rows, cols = A_knn.nonzero()\n",
    "data = np.array([euclidean( umap_rep[rows[i]], umap_rep[cols[i]] ) for i in range(len(rows))])\n",
    "D_knn = sp.coo_matrix((data, (rows, cols)), shape=A_knn.shape)"
   ]
  },
  {
   "cell_type": "code",
   "execution_count": 13,
   "id": "82c68cf3-2f36-48e5-8099-81c85ea135ee",
   "metadata": {},
   "outputs": [
    {
     "name": "stdout",
     "output_type": "stream",
     "text": [
      "ARI = 0.9031072081545124 and AMI = 0.9199781241822763\n"
     ]
    }
   ],
   "source": [
    "D_sparse_lil = D_knn.tolil()\n",
    "D_mr = hdbscan.hdbscan_.sparse_mutual_reachability(D_sparse_lil)\n",
    "\n",
    "labels = hdbscan_on_graph(D_mr)\n",
    "\n",
    "ari = adjusted_rand_score(targets, labels)\n",
    "ami = adjusted_mutual_info_score(targets, labels)\n",
    "print(f'ARI = {ari} and AMI = {ami}')"
   ]
  },
  {
   "cell_type": "markdown",
   "id": "60213c5a-dbee-4812-86a9-d4e373cba030",
   "metadata": {},
   "source": [
    "# Run on all datasets"
   ]
  },
  {
   "cell_type": "code",
   "execution_count": 14,
   "id": "4423fa32-dfd4-487e-b3eb-8a8c2de9c711",
   "metadata": {},
   "outputs": [],
   "source": [
    "def get_single_linkage_clustering(dataset_id, distance_function, k=None):\n",
    "    raw_data, targets, dataset_name = get_dataset(dataset_id=dataset_id)\n",
    "    display(Markdown(f'### {dataset_name}'))\n",
    "    \n",
    "    if(distance_function.__name__ == \"get_avg_neighbor_distance\"):\n",
    "        D = distance_function(raw_data)\n",
    "    else:\n",
    "        if(k is None):\n",
    "            k = get_dataset_params(dataset_id)['n_neighbors']\n",
    "\n",
    "        A_umap, sigmas, rhos, dists = umap.umap_.fuzzy_simplicial_set(X=raw_data, \n",
    "                                                         n_neighbors=k, \n",
    "                                                         random_state=0, \n",
    "                                                         metric='euclidean', \n",
    "                                                         return_dists=True,\n",
    "                                                         set_op_mix_ratio=0.5)\n",
    "        umap_rep = get_umap_vectors(dataset_id=dataset_id, raw_data=raw_data)\n",
    "        D = distance_function(A_umap, umap_rep)\n",
    "\n",
    "    labels = hdbscan_on_graph(D)\n",
    "\n",
    "    ari = adjusted_rand_score(targets, labels)\n",
    "    ami = adjusted_mutual_info_score(targets, labels)\n",
    "    print(f'PARTIAL DISTANCE:\\nARI = {ari} and AMI = {ami}\\n')\n",
    "    \n",
    "    hd_umap_labels = h_dbscan(umap_rep, which_algo='hdbscan', dataset_id=dataset_id)\n",
    "\n",
    "    ari = adjusted_rand_score(targets, hd_umap_labels)\n",
    "    ami = adjusted_mutual_info_score(targets, hd_umap_labels)\n",
    "    print(f'UMAP+HDBSCAN:\\nARI = {ari} and AMI = {ami}\\n\\n')\n",
    "    \n",
    "    return(labels, ari, ami, targets)"
   ]
  },
  {
   "cell_type": "code",
   "execution_count": 18,
   "id": "0962c2be-5641-44ef-88b6-6d9ecac140e7",
   "metadata": {},
   "outputs": [],
   "source": [
    "def low_dim_distance(A_umap, umap_rep):\n",
    "    D = A_umap.copy()\n",
    "    rows = [x for v in [[i]*v for i, v in enumerate(A_umap.indptr[1:] - A_umap.indptr[:-1])] for x in v]\n",
    "    D.data = np.array([euclidean( umap_rep[rows[i]], \n",
    "                                             umap_rep[A_umap.indices[i]])\n",
    "                for i in range(len(rows))\n",
    "               ])\n",
    "    return(D)"
   ]
  },
  {
   "cell_type": "code",
   "execution_count": 19,
   "id": "1e416da9-5460-41fc-bc14-86da2b25f4ba",
   "metadata": {},
   "outputs": [
    {
     "data": {
      "text/markdown": [
       "### pendigits"
      ],
      "text/plain": [
       "<IPython.core.display.Markdown object>"
      ]
     },
     "metadata": {},
     "output_type": "display_data"
    },
    {
     "name": "stdout",
     "output_type": "stream",
     "text": [
      "PARTIAL DISTANCE:\n",
      "ARI = 0.9065482347624224 and AMI = 0.9238583306873789\n",
      "\n",
      "UMAP+HDBSCAN:\n",
      "ARI = 0.9185149200427103 and AMI = 0.9320899303214291\n",
      "\n",
      "\n"
     ]
    },
    {
     "data": {
      "text/markdown": [
       "### coil"
      ],
      "text/plain": [
       "<IPython.core.display.Markdown object>"
      ]
     },
     "metadata": {},
     "output_type": "display_data"
    },
    {
     "name": "stderr",
     "output_type": "stream",
     "text": [
      "/work/home/vmpouli/.conda/envs/HighDimensionalClustering/lib/python3.7/site-packages/sklearn/manifold/_spectral_embedding.py:261: UserWarning: Graph is not fully connected, spectral embedding may not work as expected.\n",
      "  \"Graph is not fully connected, spectral embedding may not work as expected.\"\n"
     ]
    },
    {
     "name": "stdout",
     "output_type": "stream",
     "text": [
      "PARTIAL DISTANCE:\n",
      "ARI = 0.8087548896884135 and AMI = 0.9506610006990772\n",
      "\n",
      "UMAP+HDBSCAN:\n",
      "ARI = 0.7794373675775127 and AMI = 0.9370434150630383\n",
      "\n",
      "\n"
     ]
    },
    {
     "data": {
      "text/markdown": [
       "### mnist"
      ],
      "text/plain": [
       "<IPython.core.display.Markdown object>"
      ]
     },
     "metadata": {},
     "output_type": "display_data"
    },
    {
     "name": "stdout",
     "output_type": "stream",
     "text": [
      "PARTIAL DISTANCE:\n",
      "ARI = 0.8231718815265149 and AMI = 0.8694581975997987\n",
      "\n",
      "UMAP+HDBSCAN:\n",
      "ARI = 0.9091249505277993 and AMI = 0.8944098663863804\n",
      "\n",
      "\n"
     ]
    },
    {
     "data": {
      "text/markdown": [
       "### usps"
      ],
      "text/plain": [
       "<IPython.core.display.Markdown object>"
      ]
     },
     "metadata": {},
     "output_type": "display_data"
    },
    {
     "name": "stdout",
     "output_type": "stream",
     "text": [
      "PARTIAL DISTANCE:\n",
      "ARI = 0.8823920433016351 and AMI = 0.8997656607126547\n",
      "\n",
      "UMAP+HDBSCAN:\n",
      "ARI = 0.8824676944734986 and AMI = 0.9004545663772475\n",
      "\n",
      "\n"
     ]
    },
    {
     "data": {
      "text/markdown": [
       "### buildings"
      ],
      "text/plain": [
       "<IPython.core.display.Markdown object>"
      ]
     },
     "metadata": {},
     "output_type": "display_data"
    },
    {
     "name": "stdout",
     "output_type": "stream",
     "text": [
      "PARTIAL DISTANCE:\n",
      "ARI = 0.22386999014479378 and AMI = 0.5875305104687952\n",
      "\n",
      "UMAP+HDBSCAN:\n",
      "ARI = 0.25147767218321093 and AMI = 0.6310982061281075\n",
      "\n",
      "\n"
     ]
    },
    {
     "data": {
      "text/markdown": [
       "### clusterable"
      ],
      "text/plain": [
       "<IPython.core.display.Markdown object>"
      ]
     },
     "metadata": {},
     "output_type": "display_data"
    },
    {
     "name": "stdout",
     "output_type": "stream",
     "text": [
      "PARTIAL DISTANCE:\n",
      "ARI = 0.25073427516095526 and AMI = 0.5597120405889396\n",
      "\n",
      "UMAP+HDBSCAN:\n",
      "ARI = 0.14648646266389906 and AMI = 0.43229025916559943\n",
      "\n",
      "\n"
     ]
    }
   ],
   "source": [
    "for i in range(6):\n",
    "    res = get_single_linkage_clustering(dataset_id=i, distance_function = low_dim_distance)"
   ]
  },
  {
   "cell_type": "code",
   "execution_count": null,
   "id": "b68a91be-8973-43c5-b1bb-93c2294ef226",
   "metadata": {},
   "outputs": [],
   "source": []
  }
 ],
 "metadata": {
  "kernelspec": {
   "display_name": "HighDimensionalClustering",
   "language": "python",
   "name": "highdimensionalclustering"
  },
  "language_info": {
   "codemirror_mode": {
    "name": "ipython",
    "version": 3
   },
   "file_extension": ".py",
   "mimetype": "text/x-python",
   "name": "python",
   "nbconvert_exporter": "python",
   "pygments_lexer": "ipython3",
   "version": "3.7.16"
  }
 },
 "nbformat": 4,
 "nbformat_minor": 5
}
