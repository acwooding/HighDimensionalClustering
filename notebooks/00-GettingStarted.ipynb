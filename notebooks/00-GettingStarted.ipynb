{
 "cells": [
  {
   "cell_type": "markdown",
   "id": "e4e429df",
   "metadata": {
    "tags": []
   },
   "source": [
    "# Building graphs from data\n",
    "\n",
    "In this notebook, we show how to use some of the functions in the folder **functions/data_specifics.py**. This file includes default parameters for each dataset to allow building any object with the same function call for all datasets."
   ]
  },
  {
   "cell_type": "code",
   "execution_count": null,
   "id": "c97229f1-fd04-47ca-a029-7c5f6b3e4603",
   "metadata": {},
   "outputs": [],
   "source": [
    "execfile('functions/data_specifics.py')\n",
    "execfile('functions/graph_functions.py')"
   ]
  },
  {
   "cell_type": "code",
   "execution_count": null,
   "id": "84a03c0f",
   "metadata": {},
   "outputs": [],
   "source": [
    "from sklearn.metrics import adjusted_rand_score, adjusted_mutual_info_score\n",
    "\n",
    "import matplotlib.pyplot as plt\n",
    "import seaborn as sns\n",
    "\n",
    "import hdbscan\n",
    "import umap\n",
    "import umap.plot\n",
    "\n",
    "import igraph as ig\n",
    "from collections import Counter\n",
    "\n",
    "sns.set()"
   ]
  },
  {
   "cell_type": "markdown",
   "id": "bbd41cc7-87d9-457c-a2ec-b4a28d66bb7f",
   "metadata": {},
   "source": [
    "## This is the choice of datasets"
   ]
  },
  {
   "cell_type": "code",
   "execution_count": null,
   "id": "1de2e55f-ee1e-4e66-9724-64240b09354b",
   "metadata": {},
   "outputs": [],
   "source": [
    "print(data_set_list)"
   ]
  },
  {
   "cell_type": "markdown",
   "id": "52f2ff13-6477-40c3-b065-4039a396a3b9",
   "metadata": {},
   "source": [
    "## Function ''get_dataset''\n",
    "\n",
    "Requires a dataset_id, a value between 0 and 4 (according to order in data_set_list)\n",
    "\n",
    "* raw_data are the high dimensional vectors\n",
    "* targets are the labels\n",
    "* dataset_name is clear! \n",
    "* image_list is a list of images that we can display"
   ]
  },
  {
   "cell_type": "code",
   "execution_count": null,
   "id": "2924b5f8-67e3-40bf-b6cd-25fa14937152",
   "metadata": {},
   "outputs": [],
   "source": [
    "dataset_id = 1\n",
    "raw_data, targets, dataset_name, image_list = get_dataset(dataset_id, return_images=True)"
   ]
  },
  {
   "cell_type": "code",
   "execution_count": null,
   "id": "879a6631-f0bb-4380-81ee-09efd845f7ec",
   "metadata": {},
   "outputs": [],
   "source": [
    "# Verify dataset\n",
    "print(dataset_name)"
   ]
  },
  {
   "cell_type": "code",
   "execution_count": null,
   "id": "22916528-187e-4ab9-803b-e5e220002bd9",
   "metadata": {},
   "outputs": [],
   "source": [
    "# What are the targets\n",
    "Counter(targets)"
   ]
  },
  {
   "cell_type": "code",
   "execution_count": null,
   "id": "0a528776-3074-4e0e-ac31-626076f9d88a",
   "metadata": {},
   "outputs": [],
   "source": [
    "# Look at an image\n",
    "plt.imshow(image_list[0], cmap='gray')"
   ]
  },
  {
   "cell_type": "markdown",
   "id": "90ac3f3d-a892-4116-9d6a-6c38d46b8cb1",
   "metadata": {},
   "source": [
    "# Function ''get_umap_graph''\n",
    "\n",
    "Requires a dataset_id, a value between 0 and 4 (according to order in data_set_list). \n",
    "The function has some options on the return values, it can return a graph only of type igraph or networkx, or it can return matrices.\n",
    "\n",
    "The option *set_op_mix_ratio* set at 1 returns the fuzzy union and at 0 returns the fuzzy intersection."
   ]
  },
  {
   "cell_type": "code",
   "execution_count": null,
   "id": "71af9110-5e02-4deb-abc4-d418231b1c5e",
   "metadata": {},
   "outputs": [],
   "source": [
    "G = get_umap_graph(raw_data, dataset_id=dataset_id)"
   ]
  },
  {
   "cell_type": "code",
   "execution_count": null,
   "id": "8130b8ce-1d18-4ae5-80df-056a18ec59d6",
   "metadata": {},
   "outputs": [],
   "source": [
    "G.vcount()"
   ]
  },
  {
   "cell_type": "code",
   "execution_count": null,
   "id": "8c10b50b-e997-4cb5-96b9-6a1e0f79db7e",
   "metadata": {},
   "outputs": [],
   "source": [
    "G.ecount()"
   ]
  },
  {
   "cell_type": "markdown",
   "id": "4efd412c-1f05-4f1c-8032-358fc65d3910",
   "metadata": {},
   "source": [
    "# Function ''get_umap_vectors''\n",
    "\n",
    "Requires a dataset_id, a value between 0 and 4 (according to order in data_set_list). \n",
    "The function has many options that relate to UMAP arguments, however, it has some pre-determined parameters that are dataset dependent.\n",
    "\n",
    "The option *return_vectors* set at true will return the vectors only, set at false will return the UMAP object and has vectors as the attribute *.embedding_*."
   ]
  },
  {
   "cell_type": "code",
   "execution_count": null,
   "id": "49208c85-ae79-4d4d-ad39-88c7da2d47d3",
   "metadata": {},
   "outputs": [],
   "source": [
    "umap_rep = get_umap_vectors(dataset_id=dataset_id, raw_data=raw_data, n_components=2, return_vectors=False)"
   ]
  },
  {
   "cell_type": "code",
   "execution_count": null,
   "id": "aef879d1-5c47-4f33-a9b4-c01db2401402",
   "metadata": {},
   "outputs": [],
   "source": [
    "umap_rep.embedding_"
   ]
  },
  {
   "cell_type": "code",
   "execution_count": null,
   "id": "331835a0-6271-4367-a4bd-eecac0487cb0",
   "metadata": {},
   "outputs": [],
   "source": [
    "umap.plot.points(umap_rep, labels=targets, color_key_cmap='Paired', background='black')"
   ]
  },
  {
   "cell_type": "code",
   "execution_count": null,
   "id": "3b9d20f6-b7d0-474d-ac3b-6ef810baec4c",
   "metadata": {},
   "outputs": [],
   "source": [
    "umap.plot.connectivity(umap_rep)"
   ]
  },
  {
   "cell_type": "markdown",
   "id": "3cb8b12b-c810-4e1d-9846-26e01194b98f",
   "metadata": {},
   "source": [
    "## Get directed knn graph"
   ]
  },
  {
   "cell_type": "code",
   "execution_count": null,
   "id": "6be731a9-9d48-4d33-8b76-2e0cc27da326",
   "metadata": {},
   "outputs": [],
   "source": [
    "G_di = G = knn_digraph(raw_data, k = 25)"
   ]
  },
  {
   "cell_type": "code",
   "execution_count": null,
   "id": "d55961ad-77f6-468a-bcbf-947473797557",
   "metadata": {},
   "outputs": [],
   "source": [
    "G_di.is_directed()"
   ]
  },
  {
   "cell_type": "code",
   "execution_count": null,
   "id": "5aa71374-f2a7-4aff-a846-fa8597ac0ac5",
   "metadata": {},
   "outputs": [],
   "source": [
    "# All nodes have out degree equal to 24 (they are part of their 25 nearest neighbors)\n",
    "G_di.degree(mode='out')[0:10]"
   ]
  },
  {
   "cell_type": "markdown",
   "id": "3a18e6d0-0ae1-4a13-ac36-afe42b30dd59",
   "metadata": {},
   "source": [
    "# Get UMAP + HDBSCAN baseline"
   ]
  },
  {
   "cell_type": "code",
   "execution_count": null,
   "id": "4024ad35-81aa-4424-b197-4a06aecd61f6",
   "metadata": {},
   "outputs": [],
   "source": [
    "dataset_id = 1\n",
    "# Get data and labels\n",
    "raw_data, targets, dataset_name = get_dataset(dataset_id)\n",
    "# Project to lower dimensional space (not in 2-d, the dimension is part of the predetermined parameters)\n",
    "umap_rep = get_umap_vectors(dataset_id=dataset_id, raw_data=raw_data)\n",
    "# Run hdbscan with predetermined parameters\n",
    "hd_umap_labels = h_dbscan(umap_rep, which_algo='hdbscan', dataset_id=dataset_id)"
   ]
  },
  {
   "cell_type": "code",
   "execution_count": null,
   "id": "b729bb88-b8a3-443d-9262-3dafba400d5f",
   "metadata": {},
   "outputs": [],
   "source": [
    "ari = adjusted_rand_score(targets, hd_umap_labels)\n",
    "ami = adjusted_mutual_info_score(targets, hd_umap_labels)"
   ]
  },
  {
   "cell_type": "code",
   "execution_count": null,
   "id": "a73492cb-ba17-4a49-9015-048ee311e228",
   "metadata": {},
   "outputs": [],
   "source": [
    "print(dataset_name)\n",
    "print(f'ARI = {ari}')\n",
    "print(f'AMI = {ami}')"
   ]
  },
  {
   "cell_type": "code",
   "execution_count": null,
   "id": "23848c2c-4386-4018-a12b-9488ed7759bb",
   "metadata": {},
   "outputs": [],
   "source": []
  }
 ],
 "metadata": {
  "kernelspec": {
   "display_name": "high-dim-easydata",
   "language": "python",
   "name": "high-dim-easydata"
  },
  "language_info": {
   "codemirror_mode": {
    "name": "ipython",
    "version": 3
   },
   "file_extension": ".py",
   "mimetype": "text/x-python",
   "name": "python",
   "nbconvert_exporter": "python",
   "pygments_lexer": "ipython3",
   "version": "3.7.13"
  }
 },
 "nbformat": 4,
 "nbformat_minor": 5
}
