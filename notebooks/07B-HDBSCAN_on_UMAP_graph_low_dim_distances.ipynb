{
 "cells": [
  {
   "cell_type": "markdown",
   "id": "e4e429df",
   "metadata": {
    "tags": []
   },
   "source": [
    "# Persistent single-linkage (HDBSCAN) clustering on sparse matrices\n",
    "\n",
    "This is our attempt at running an HDBSCAN approach (persistent single linkage) on a sparse distance matrix. \n",
    "The sparse distance matrix we use here is the UMAP matrix with distances coming from the low dimensional projection from UMAP. We want to see how the code behaves on a partial distance."
   ]
  },
  {
   "cell_type": "code",
   "execution_count": 1,
   "id": "e4875757-c802-423c-8bf8-8efd45ff78e3",
   "metadata": {},
   "outputs": [
    {
     "name": "stdout",
     "output_type": "stream",
     "text": [
      "* \u001b[32mmaster\u001b[m\n"
     ]
    }
   ],
   "source": [
    "!git branch"
   ]
  },
  {
   "cell_type": "code",
   "execution_count": 2,
   "id": "52d3bdf4-9b88-4008-93e6-5e6f656e5b94",
   "metadata": {},
   "outputs": [
    {
     "name": "stdout",
     "output_type": "stream",
     "text": [
      "['pendigits', 'coil', 'mnist', 'usps', 'buildings', 'clusterable']\n"
     ]
    }
   ],
   "source": [
    "execfile('functions/data_specifics.py')\n",
    "execfile('functions/graph_functions.py')\n",
    "print(data_set_list)"
   ]
  },
  {
   "cell_type": "code",
   "execution_count": 3,
   "id": "84a03c0f",
   "metadata": {},
   "outputs": [],
   "source": [
    "from IPython.display import display, Markdown, Latex\n",
    "from sklearn.metrics import adjusted_rand_score, adjusted_mutual_info_score, silhouette_score\n",
    "from sklearn import cluster\n",
    "\n",
    "import numpy as np\n",
    "import pandas as pd\n",
    "\n",
    "import matplotlib.pyplot as plt\n",
    "import seaborn as sns\n",
    "\n",
    "import umap\n",
    "from collections import Counter\n",
    "from scipy.stats import mode\n",
    "\n",
    "from scipy.spatial.distance import euclidean\n",
    "\n",
    "sns.set()"
   ]
  },
  {
   "cell_type": "code",
   "execution_count": 4,
   "id": "7941f209-c136-4981-8066-31a64b6e2723",
   "metadata": {},
   "outputs": [],
   "source": [
    "import hdbscan\n",
    "import scipy.sparse as sp\n",
    "import sklearn.cluster\n",
    "from hdbscan._hdbscan_tree import (\n",
    "    condense_tree,\n",
    "    compute_stability,\n",
    "    get_clusters,\n",
    "    outlier_scores,\n",
    ")\n",
    "from hdbscan.plots import CondensedTree, SingleLinkageTree, MinimumSpanningTree"
   ]
  },
  {
   "cell_type": "markdown",
   "id": "26877179-761c-423a-8588-cdcd30adb10a",
   "metadata": {},
   "source": [
    "## Get clusters from a (disconnected) sparse distance matrix\n",
    "\n",
    "* The 0-values indicate \"far away\" points\n",
    "\n",
    "If the matrix has disconnected components (when viewed as a graph), HDBSCAN does not work. To get around this, we have tried clustering each component separately or just adding edges to glue the different parts together."
   ]
  },
  {
   "cell_type": "code",
   "execution_count": 5,
   "id": "0e1448e9-2e0c-4120-93e4-cce1acdad897",
   "metadata": {},
   "outputs": [],
   "source": [
    "def clustering_from_sparse(D,\n",
    "                       connected_component_method = 'glue', # 'glue' or 'individual'\n",
    "                       cluster_selection_method = 'eom',\n",
    "                       allow_single_cluster=False,\n",
    "                       cluster_selection_epsilon=0.0,\n",
    "                       max_cluster_size=0,\n",
    "                       min_cluster_size=10,\n",
    "                       no_split_size = 100,\n",
    "                       alpha = 1.2):\n",
    "    par = locals()\n",
    "\n",
    "    cc = scipy.sparse.csgraph.connected_components(D)\n",
    "    n = D.shape[0]\n",
    "\n",
    "    if(cc[0] == 1):\n",
    "        labels = clustering_from_sparse_connected(**par)\n",
    "        \n",
    "    elif (connected_component_method == 'glue'):\n",
    "        print(\"Disconnected distance matrix: \\n -Connecting distance matrix\")\n",
    "        labels = clustering_from_sparse_force_connection(**par)\n",
    "        \n",
    "    elif( connected_component_method == 'individual' ):\n",
    "        print(\"Disconnected distance matrix: \\n -Performing clustering on individual connected components\")\n",
    "        labels = clustering_from_sparse_on_individual_cc(**par)\n",
    "        \n",
    "    else:\n",
    "        raise ValueError('Parameter should be glue or individual')\n",
    "        \n",
    "    return(labels)\n",
    "\n",
    "\n",
    "# Single linkage on sparse matrix when the initial distance matrix is connected.\n",
    "def clustering_from_sparse_connected(D,\n",
    "                       connected_component_method = 'glue',\n",
    "                       cluster_selection_method = 'eom',\n",
    "                       allow_single_cluster=False,\n",
    "                       cluster_selection_epsilon=0.0,\n",
    "                       max_cluster_size=0,\n",
    "                       min_cluster_size=10,\n",
    "                       no_split_size = 100,\n",
    "                       alpha = 1.2):\n",
    "    \n",
    "    mst = scipy.sparse.csgraph.minimum_spanning_tree(D)\n",
    "    mst = mst.tocoo()\n",
    "    mst_array = np.vstack([mst.row, mst.col, mst.data]).T\n",
    "    \n",
    "    # Sort edges of the min_spanning_tree by weight\n",
    "    mst_array = mst_array[np.argsort(mst_array.T[2], kind=\"mergesort\"), :]\n",
    "\n",
    "    # Convert edge list into standard hierarchical clustering format\n",
    "    single_linkage_tree = sklearn.cluster._hierarchical_fast._single_linkage_label(mst_array)\n",
    "    \n",
    "    ## HDBSCAN function\n",
    "    cd_tree = condense_tree(single_linkage_tree, min_cluster_size)\n",
    "    \n",
    "    ## HDBSCAN function\n",
    "    stability_dict = compute_stability(cd_tree)\n",
    "    \n",
    "    ## HDBSCAN function\n",
    "    labels, probabilities, stabilities = get_clusters(\n",
    "            cd_tree,\n",
    "            stability_dict,\n",
    "            cluster_selection_method = cluster_selection_method,\n",
    "            allow_single_cluster = allow_single_cluster,\n",
    "            cluster_selection_epsilon=cluster_selection_epsilon,\n",
    "            max_cluster_size=max_cluster_size\n",
    "        )\n",
    "    return(labels)\n",
    "\n",
    "\n",
    "# Performing clustering on individual connected components of the sparse distance matrix\n",
    "def clustering_from_sparse_on_individual_cc(D,\n",
    "                       connected_component_method = 'glue',\n",
    "                       cluster_selection_method = 'eom',\n",
    "                       allow_single_cluster=False,\n",
    "                       cluster_selection_epsilon=0.0,\n",
    "                       max_cluster_size=0,\n",
    "                       min_cluster_size=10,\n",
    "                       no_split_size = 100,\n",
    "                       alpha = 1.2):\n",
    "    \n",
    "    # Check connected components\n",
    "    cc = scipy.sparse.csgraph.connected_components(D)\n",
    "    n = D.shape[0]\n",
    "    \n",
    "    if(cc[0]==1):\n",
    "        labels = clustering_from_sparse_connected(D)\n",
    "    else:\n",
    "        labels = np.array([-1]*n)\n",
    "        for comp in range(cc[0]):\n",
    "            w = (cc[1]==comp)\n",
    "            m = sum(w)\n",
    "            if(m < min_cluster_size):\n",
    "                continue\n",
    "            elif(m < no_split_size):\n",
    "                labels_part = np.zeros(m)\n",
    "            else:\n",
    "                D_part = D[w, :][:, w]\n",
    "                labels_part = clustering_from_sparse_connected(D_part,\n",
    "                                                            cluster_selection_method = cluster_selection_method,\n",
    "                                                            allow_single_cluster = allow_single_cluster,\n",
    "                                                            cluster_selection_epsilon=cluster_selection_epsilon,\n",
    "                                                            max_cluster_size=max_cluster_size,\n",
    "                                                            min_cluster_size=min_cluster_size)\n",
    "                if(sum(labels_part==-1)>(len(labels_part)/2)):\n",
    "                    labels_part = 0*labels_part\n",
    "            w[w] = (labels_part>=0)\n",
    "            labels[w] = (labels_part[labels_part>=0] + max(labels) + 1)\n",
    "    return(labels)\n",
    "\n",
    "\n",
    "# Adding large distance values (alpha * largest) to sparse distance matrix to make it connected\n",
    "def clustering_from_sparse_force_connection(D,\n",
    "                       connected_component_method = 'glue',\n",
    "                       cluster_selection_method = 'eom',\n",
    "                       allow_single_cluster=False,\n",
    "                       cluster_selection_epsilon=0.0,\n",
    "                       max_cluster_size=0,\n",
    "                       min_cluster_size=10,\n",
    "                       no_split_size = 100,\n",
    "                       alpha = 1.2):\n",
    "    \n",
    "    # Check connected components\n",
    "    cc = scipy.sparse.csgraph.connected_components(D)\n",
    "    cc_list = cc[1].tolist()\n",
    "    if(cc[0]>1): # Add edges to connect if more than one connected component\n",
    "        m = max(D.data)\n",
    " \n",
    "        rows = []\n",
    "        cols = []\n",
    "        vals = []\n",
    "        for i in set(cc[1]):\n",
    "            for j in set(cc[1]):\n",
    "                if(i>j):\n",
    "                    new_i = cc_list.index(i)\n",
    "                    new_j = cc_list.index(j)\n",
    "                    rows.extend([new_i, new_j])\n",
    "                    cols.extend([new_j, new_i])\n",
    "                    vals.extend([alpha*m, alpha*m])\n",
    "        D_glue = scipy.sparse.coo_matrix((vals, (rows, cols)), shape=D.shape)\n",
    "        D_new = D + D_glue\n",
    "    else:\n",
    "        D_new = D\n",
    "                       \n",
    "    labels = clustering_from_sparse_connected(D_new)\n",
    "    return(labels)"
   ]
  },
  {
   "cell_type": "markdown",
   "id": "98d169fe-f792-44f3-804f-2491582d49d1",
   "metadata": {},
   "source": [
    "# Clustering algorithm\n",
    "These are the steps we use to feed a sparse distance matrix to the single linkage...\n",
    "We are not using HDBSCAN at the moment, but this is where we would like to go."
   ]
  },
  {
   "cell_type": "markdown",
   "id": "fa3e0edb-43b9-4afe-8d0f-01b21faf3004",
   "metadata": {},
   "source": [
    "## Get data, UMAP graph and UMAP low dimensional vectors"
   ]
  },
  {
   "cell_type": "code",
   "execution_count": 6,
   "id": "87352309-e8d9-4c70-97ac-175132259798",
   "metadata": {},
   "outputs": [],
   "source": [
    "dataset_id=0\n",
    "raw_data, targets, dataset_name = get_dataset(dataset_id=dataset_id)\n",
    "\n",
    "k = get_dataset_params(dataset_id)['n_neighbors']\n",
    "\n",
    "A_umap, sigmas, rhos, dists = umap.umap_.fuzzy_simplicial_set(X=raw_data, \n",
    "                                             n_neighbors=k, \n",
    "                                             random_state=0, \n",
    "                                             metric='euclidean', \n",
    "                                             return_dists=True,\n",
    "                                             set_op_mix_ratio=1)\n",
    "\n",
    "A_knn = knn_adjacency(raw_data, k=k)\n",
    "\n",
    "umap_rep = get_umap_vectors(dataset_id=dataset_id, raw_data=raw_data)"
   ]
  },
  {
   "cell_type": "markdown",
   "id": "079000e5-3584-492d-b928-de4ae7d1aa47",
   "metadata": {},
   "source": [
    "## Build the partial distance matrix based of UMAP graph"
   ]
  },
  {
   "cell_type": "code",
   "execution_count": 360,
   "id": "0e1faf25-52a6-4e3e-9926-7822edf3edcf",
   "metadata": {},
   "outputs": [],
   "source": [
    "# Symmetric D\n",
    "D = A_umap.copy()\n",
    "rows = [x for v in [[i]*v for i, v in enumerate(A_umap.indptr[1:] - A_umap.indptr[:-1])] for x in v]\n",
    "D.data = np.array([euclidean( umap_rep[rows[i]], \n",
    "                                         umap_rep[A_umap.indices[i]])\n",
    "            for i in range(len(rows))\n",
    "           ])"
   ]
  },
  {
   "cell_type": "markdown",
   "id": "197dd5d2-073d-43b4-86c6-c3ac0aedc604",
   "metadata": {},
   "source": [
    "## Compare robust single-linkage (portions of HDBSCAN) on partial distance vs. on low dim projection"
   ]
  },
  {
   "cell_type": "code",
   "execution_count": 361,
   "id": "e1fbcbe3-fce2-4dff-8522-6ed482fd322b",
   "metadata": {},
   "outputs": [
    {
     "name": "stdout",
     "output_type": "stream",
     "text": [
      "ARI = 0.5937845136423342 and AMI = 0.7459900925803741\n"
     ]
    }
   ],
   "source": [
    "labels = clustering_from_sparse(D)\n",
    "\n",
    "ari = adjusted_rand_score(targets, labels)\n",
    "ami = adjusted_mutual_info_score(targets, labels)\n",
    "print(f'ARI = {ari} and AMI = {ami}')"
   ]
  },
  {
   "cell_type": "code",
   "execution_count": 362,
   "id": "10595951-da7e-4bf2-a6b0-639ed26b65d0",
   "metadata": {},
   "outputs": [
    {
     "name": "stdout",
     "output_type": "stream",
     "text": [
      "ARI = 0.9185149200427103 and AMI = 0.9320899303214291\n"
     ]
    }
   ],
   "source": [
    "hd_umap_labels = h_dbscan(umap_rep, which_algo='hdbscan', dataset_id=dataset_id)\n",
    "\n",
    "ari = adjusted_rand_score(targets, hd_umap_labels)\n",
    "ami = adjusted_mutual_info_score(targets, hd_umap_labels)\n",
    "print(f'ARI = {ari} and AMI = {ami}')"
   ]
  },
  {
   "cell_type": "markdown",
   "id": "acdec4a3-5306-49f4-b3f0-970cb15c15c9",
   "metadata": {},
   "source": [
    "The difference between the HDBSCAN results on the low-dimensional dataset and HDBSCAN results on the partial distance matrix limited to the UMAP graph entries is huge. Is this normal or is it some issues with my HDBSCAN code?"
   ]
  },
  {
   "cell_type": "markdown",
   "id": "cec10411-8ccb-4dba-86ec-91edc2273b36",
   "metadata": {},
   "source": [
    "# Add mutual reachability"
   ]
  },
  {
   "cell_type": "code",
   "execution_count": 363,
   "id": "cb2fe79c-c848-4a8c-ac3a-dfa8369bc394",
   "metadata": {},
   "outputs": [
    {
     "name": "stdout",
     "output_type": "stream",
     "text": [
      "ARI = 0.7857591462351462 and AMI = 0.8411578826755054\n"
     ]
    }
   ],
   "source": [
    "D_sparse_lil = D.tolil()\n",
    "D_mr = hdbscan.hdbscan_.sparse_mutual_reachability(D_sparse_lil)\n",
    "\n",
    "labels = clustering_from_sparse(D_mr)\n",
    "\n",
    "ari = adjusted_rand_score(targets, labels)\n",
    "ami = adjusted_mutual_info_score(targets, labels)\n",
    "print(f'ARI = {ari} and AMI = {ami}')"
   ]
  },
  {
   "cell_type": "markdown",
   "id": "80774d7a-06e2-4526-aabd-ccb661ee2f8f",
   "metadata": {},
   "source": [
    "## Non-symmetrical matrices"
   ]
  },
  {
   "cell_type": "code",
   "execution_count": 364,
   "id": "540c8168-78e7-4d23-8fba-0f6b820637bf",
   "metadata": {},
   "outputs": [
    {
     "name": "stdout",
     "output_type": "stream",
     "text": [
      "ARI = 0.4139177488218988 and AMI = 0.7048979826398417\n"
     ]
    }
   ],
   "source": [
    "D_sparse_lil = dists.tolil()\n",
    "D_mr = hdbscan.hdbscan_.sparse_mutual_reachability(D_sparse_lil)\n",
    "\n",
    "labels = clustering_from_sparse(D_mr)\n",
    "\n",
    "ari = adjusted_rand_score(targets, labels)\n",
    "ami = adjusted_mutual_info_score(targets, labels)\n",
    "print(f'ARI = {ari} and AMI = {ami}')"
   ]
  },
  {
   "cell_type": "code",
   "execution_count": 378,
   "id": "e513f5a7-9727-4f81-887b-e9948d459871",
   "metadata": {},
   "outputs": [],
   "source": [
    "# Non-Symmetric D\n",
    "rows, cols = A_knn.nonzero()\n",
    "data = np.array([euclidean( umap_rep[rows[i]], umap_rep[cols[i]] ) for i in range(len(rows))])\n",
    "D_knn = sp.coo_matrix((data, (rows, cols)), shape=A_knn.shape)"
   ]
  },
  {
   "cell_type": "code",
   "execution_count": 379,
   "id": "82c68cf3-2f36-48e5-8099-81c85ea135ee",
   "metadata": {},
   "outputs": [
    {
     "name": "stdout",
     "output_type": "stream",
     "text": [
      "ARI = 0.8604091972126695 and AMI = 0.8897646915879353\n"
     ]
    }
   ],
   "source": [
    "D_sparse_lil = D_knn.tolil()\n",
    "D_mr = hdbscan.hdbscan_.sparse_mutual_reachability(D_sparse_lil)\n",
    "\n",
    "labels = clustering_from_sparse(D_mr)\n",
    "\n",
    "ari = adjusted_rand_score(targets, labels)\n",
    "ami = adjusted_mutual_info_score(targets, labels)\n",
    "print(f'ARI = {ari} and AMI = {ami}')"
   ]
  },
  {
   "cell_type": "markdown",
   "id": "f1ffbf77-b93d-49b1-8073-bf896980cefa",
   "metadata": {},
   "source": [
    "### WRONG!\n",
    "\n",
    "This should really be close to what we get when we run HDBSCAN on UMAP projections. It's close, but it's not what it should be. For this reason, I still have to make sure my code is doing the right thing."
   ]
  },
  {
   "cell_type": "code",
   "execution_count": 11,
   "id": "c542d89f-7db7-4a4d-8640-c4dd152bd7ba",
   "metadata": {},
   "outputs": [
    {
     "name": "stdout",
     "output_type": "stream",
     "text": [
      "ARI = 0.8164678757564839 and AMI = 0.8576043252211757\n"
     ]
    }
   ],
   "source": [
    "from sklearn.metrics.pairwise import euclidean_distances\n",
    "X = euclidean_distances(umap_rep, umap_rep)\n",
    "\n",
    "X_mr = hdbscan.hdbscan_.mutual_reachability(X)\n",
    "\n",
    "labels = clustering_from_sparse(X_mr)\n",
    "\n",
    "ari = adjusted_rand_score(targets, labels)\n",
    "ami = adjusted_mutual_info_score(targets, labels)\n",
    "print(f'ARI = {ari} and AMI = {ami}')"
   ]
  },
  {
   "cell_type": "markdown",
   "id": "716ad332-6de0-4e18-93d9-410b87f18ff8",
   "metadata": {},
   "source": [
    "### Difference between sparse and non-sparse versions\n",
    "\n",
    "In the HDBSCAN code, I do not get the same results when I use sparse and non-sparse mutual reachability functions. The code at the bottom was my attempt in writing a sparse version of mutual reachability... before I realized there was one written already."
   ]
  },
  {
   "cell_type": "code",
   "execution_count": 350,
   "id": "2cf91cf6-dd19-487f-856e-ab2f9d54a6ac",
   "metadata": {},
   "outputs": [],
   "source": [
    "# Non-symmetric matrix : D_sparse and D_dense are the same matrix where the 0 values in the sparse version are replaced with 'max_value' in the dense version.\n",
    "subset_filter = (targets == 3)\n",
    "\n",
    "D = low_dim_distance(A_knn, umap_rep)\n",
    "\n",
    "# Submatrix\n",
    "D_sparse = D[subset_filter,:][:, subset_filter].copy()\n",
    "\n",
    "# Densify\n",
    "D_dense = D_sparse.toarray()\n",
    "D_dense[D_dense<0.0001] = large_val"
   ]
  },
  {
   "cell_type": "code",
   "execution_count": 352,
   "id": "47aaa0d4-d541-4d47-bd58-c09554744bfb",
   "metadata": {},
   "outputs": [
    {
     "data": {
      "text/plain": [
       "array([10.        , 10.        , 10.        , 10.        , 10.        ,\n",
       "       10.        , 10.        , 10.        , 10.        , 10.        ,\n",
       "       10.        , 10.        , 10.        , 10.        , 10.        ,\n",
       "       10.        , 10.        , 10.        , 10.        , 10.        ,\n",
       "       10.        , 10.        , 10.        , 10.        , 10.        ,\n",
       "       10.        ,  0.15513985, 10.        ,  0.54610425, 10.        ,\n",
       "       10.        , 10.        , 10.        , 10.        , 10.        ,\n",
       "       10.        ,  0.15513985, 10.        , 10.        , 10.        ,\n",
       "       10.        , 10.        , 10.        , 10.        , 10.        ,\n",
       "       10.        , 10.        , 10.        ,  0.26774687,  0.2630457 ,\n",
       "       10.        , 10.        , 10.        , 10.        , 10.        ,\n",
       "       10.        , 10.        , 10.        , 10.        , 10.        ,\n",
       "       10.        , 10.        , 10.        , 10.        , 10.        ,\n",
       "       10.        , 10.        , 10.        , 10.        , 10.        ,\n",
       "       10.        , 10.        , 10.        , 10.        , 10.        ,\n",
       "       10.        , 10.        , 10.        , 10.        , 10.        ,\n",
       "       10.        , 10.        , 10.        , 10.        , 10.        ,\n",
       "       10.        , 10.        , 10.        ,  0.15513985,  0.24766865,\n",
       "       10.        , 10.        , 10.        , 10.        ,  0.23696177,\n",
       "       10.        ,  0.35997349, 10.        , 10.        , 10.        ,\n",
       "       10.        , 10.        , 10.        , 10.        , 10.        ,\n",
       "       10.        , 10.        , 10.        , 10.        , 10.        ,\n",
       "       10.        , 10.        , 10.        , 10.        , 10.        ,\n",
       "       10.        , 10.        , 10.        , 10.        , 10.        ,\n",
       "       10.        , 10.        , 10.        , 10.        , 10.        ,\n",
       "       10.        , 10.        , 10.        , 10.        , 10.        ,\n",
       "       10.        , 10.        , 10.        , 10.        , 10.        ,\n",
       "       10.        , 10.        , 10.        , 10.        , 10.        ,\n",
       "       10.        , 10.        , 10.        , 10.        , 10.        ,\n",
       "       10.        , 10.        , 10.        ,  0.25411701, 10.        ,\n",
       "        0.20584038, 10.        ,  0.25545377, 10.        , 10.        ,\n",
       "       10.        ,  0.21606353, 10.        , 10.        , 10.        ,\n",
       "       10.        , 10.        , 10.        , 10.        , 10.        ,\n",
       "       10.        , 10.        , 10.        , 10.        , 10.        ,\n",
       "        0.27731675, 10.        , 10.        , 10.        , 10.        ,\n",
       "       10.        , 10.        , 10.        , 10.        , 10.        ,\n",
       "       10.        , 10.        , 10.        ])"
      ]
     },
     "execution_count": 352,
     "metadata": {},
     "output_type": "execute_result"
    }
   ],
   "source": [
    "mr = hdbscan.hdbscan_.mutual_reachability(D_dense)\n",
    "mr[0]"
   ]
  },
  {
   "cell_type": "code",
   "execution_count": 355,
   "id": "d5ec0ded-c151-4329-893c-f6f54967fde9",
   "metadata": {},
   "outputs": [
    {
     "data": {
      "text/plain": [
       "array([[0.        , 0.        , 0.        , 0.        , 0.        ,\n",
       "        0.        , 0.        , 0.        , 0.        , 0.        ,\n",
       "        0.        , 0.        , 0.        , 0.        , 0.        ,\n",
       "        0.        , 0.        , 0.        , 0.        , 0.        ,\n",
       "        0.        , 0.        , 0.        , 0.        , 0.        ,\n",
       "        0.        , 0.20584038, 0.        , 0.54610425, 0.        ,\n",
       "        0.        , 0.        , 0.        , 0.        , 0.        ,\n",
       "        0.        , 0.20584038, 0.        , 0.        , 0.        ,\n",
       "        0.        , 0.        , 0.        , 0.        , 0.        ,\n",
       "        0.        , 0.        , 0.        , 0.26774687, 0.2630457 ,\n",
       "        0.        , 0.        , 0.        , 0.        , 0.        ,\n",
       "        0.        , 0.        , 0.        , 0.        , 0.        ,\n",
       "        0.        , 0.        , 0.        , 0.        , 0.        ,\n",
       "        0.        , 0.        , 0.        , 0.        , 0.        ,\n",
       "        0.        , 0.        , 0.        , 0.        , 0.        ,\n",
       "        0.        , 0.        , 0.        , 0.        , 0.        ,\n",
       "        0.        , 0.        , 0.        , 0.        , 0.        ,\n",
       "        0.        , 0.        , 0.        , 0.20584038, 0.24766865,\n",
       "        0.        , 0.        , 0.        , 0.        , 0.23696177,\n",
       "        0.        , 0.35997349, 0.        , 0.        , 0.        ,\n",
       "        0.        , 0.        , 0.        , 0.        , 0.        ,\n",
       "        0.        , 0.        , 0.        , 0.        , 0.        ,\n",
       "        0.        , 0.        , 0.        , 0.        , 0.        ,\n",
       "        0.        , 0.        , 0.        , 0.        , 0.        ,\n",
       "        0.        , 0.        , 0.        , 0.        , 0.        ,\n",
       "        0.        , 0.        , 0.        , 0.        , 0.        ,\n",
       "        0.        , 0.        , 0.        , 0.        , 0.        ,\n",
       "        0.        , 0.        , 0.        , 0.        , 0.        ,\n",
       "        0.        , 0.        , 0.        , 0.        , 0.        ,\n",
       "        0.        , 0.        , 0.        , 0.25411701, 0.        ,\n",
       "        0.20584038, 0.        , 0.25545377, 0.        , 0.        ,\n",
       "        0.        , 0.21606353, 0.        , 0.        , 0.        ,\n",
       "        0.        , 0.        , 0.        , 0.        , 0.        ,\n",
       "        0.        , 0.        , 0.        , 0.        , 0.        ,\n",
       "        0.20584038, 0.        , 0.        , 0.        , 0.        ,\n",
       "        0.        , 0.        , 0.        , 0.        , 0.        ,\n",
       "        0.        , 0.        , 0.        ]])"
      ]
     },
     "execution_count": 355,
     "metadata": {},
     "output_type": "execute_result"
    }
   ],
   "source": [
    "D_sparse_lil = D_sparse.tolil()\n",
    "sparse_mr = hdbscan.hdbscan_.sparse_mutual_reachability(D_sparse_lil)\n",
    "sparse_mr[0].toarray()"
   ]
  },
  {
   "cell_type": "code",
   "execution_count": null,
   "id": "913d5ba3-fa69-43a5-b3e0-c263cf83e7f3",
   "metadata": {},
   "outputs": [],
   "source": []
  },
  {
   "cell_type": "code",
   "execution_count": 381,
   "id": "2ba7a60a-d24a-42dd-8cb9-4400706b814f",
   "metadata": {},
   "outputs": [],
   "source": [
    "def sparse_core_distance(sparse_distance_matrix, min_points, max_val):\n",
    "    def kth_rank(ll, k=min_points, max_val=max_val):\n",
    "        res = max_val\n",
    "        if len(ll)>=(k+1):\n",
    "            res = sorted(ll.data)[k]\n",
    "        return(res)\n",
    "    n_col = sparse_distance_matrix.shape[1]\n",
    "    return(np.array([kth_rank(sparse_distance_matrix[:,i].data) for i in range(n_col)]))"
   ]
  },
  {
   "cell_type": "code",
   "execution_count": 382,
   "id": "788da569-d88b-459a-a1cd-66de563e167a",
   "metadata": {},
   "outputs": [],
   "source": [
    "distance_matrix = D_test\n",
    "min_points = 5\n",
    "core_distances = np.partition(distance_matrix,\n",
    "                              min_points,\n",
    "                              axis=0)[min_points]"
   ]
  },
  {
   "cell_type": "code",
   "execution_count": 384,
   "id": "d7dbe499-c170-472f-993a-63e4ae839f08",
   "metadata": {},
   "outputs": [
    {
     "data": {
      "text/plain": [
       "array([ 0.15513985,  0.1507993 ,  0.18772864, 10.        ,  0.10765006,\n",
       "        0.17710201,  0.0762486 ,  0.08286497,  0.07412623,  0.072634  ,\n",
       "        0.09956087,  0.07378092, 10.        , 10.        ,  0.10927223,\n",
       "        0.14168802,  0.10851032,  0.21560848,  0.16168611,  0.58037549,\n",
       "        0.17015436,  0.06285882,  0.13098511,  0.06637947,  0.09284311,\n",
       "       10.        ,  0.10201158,  0.11199529,  0.17807433,  0.19489038,\n",
       "        0.26800895,  0.17845109,  0.28063136,  0.13569427,  0.1030286 ,\n",
       "        0.2211379 ,  0.0862309 ,  0.28688502,  0.12839273,  0.171564  ,\n",
       "       10.        ,  0.03405412, 10.        ,  0.08702035, 10.        ,\n",
       "        0.11955469,  0.13806805,  0.07851825,  0.04539296,  0.03049082,\n",
       "       10.        ,  0.08786056, 10.        ,  0.09154192,  0.04712409,\n",
       "        0.05771601,  0.05298838,  0.05260412, 10.        ,  0.11792402,\n",
       "        0.02778008,  0.05000826,  0.03326573,  0.03211796,  0.03779933,\n",
       "        0.04393745,  0.1695765 ,  0.15168063,  0.25202227, 10.        ,\n",
       "        0.1062156 ,  0.11024548,  0.12627354,  0.14682177,  0.0879522 ,\n",
       "       10.        , 10.        ,  0.1188714 ,  0.13340761, 10.        ,\n",
       "        0.17944489,  0.13119617,  0.15771738,  0.30500597, 10.        ,\n",
       "       10.        ,  0.88676685,  0.29322663,  0.12772551,  0.15112504,\n",
       "        0.16047812,  0.59924018,  0.19100158,  0.18318059,  0.1097338 ,\n",
       "       10.        ,  0.18318059,  0.22361308, 10.        , 10.        ,\n",
       "       10.        ,  0.20339186, 10.        ,  0.15367737, 10.        ,\n",
       "        0.13522495,  0.14272767,  0.123519  ,  0.19693503,  0.12201354,\n",
       "        0.18294355,  0.17775705,  0.14770997,  0.11492978,  0.1215604 ,\n",
       "       10.        ,  0.12300468, 10.        ,  0.23852879,  0.21558237,\n",
       "       10.        ,  0.10233033, 10.        ,  0.14751522,  0.2420086 ,\n",
       "        0.30712169,  0.12336716,  0.1206331 , 10.        ,  0.71035558,\n",
       "        0.16273604,  0.34381741,  0.13298286,  0.24907033,  0.16605988,\n",
       "        0.11995117,  0.19709575,  0.16292343,  0.21533482,  0.17879987,\n",
       "        0.08161504,  0.43274879,  0.11024548,  0.13285483,  0.08009553,\n",
       "        0.0678899 ,  0.13804857,  0.13969946,  0.05953121,  0.19265549,\n",
       "        0.12771   ,  0.15466051,  0.11621487,  0.11025267, 10.        ,\n",
       "        0.19238029,  0.1284553 ,  0.16736403, 10.        ,  0.11100955,\n",
       "        0.10806187,  0.23621649,  0.10999191,  7.98647213,  0.09128184,\n",
       "        0.12331826,  0.14254802, 10.        ,  0.08539204,  0.1011164 ,\n",
       "        0.27731675,  0.16192551, 10.        , 10.        , 10.        ,\n",
       "       10.        , 10.        ,  0.14502665,  0.31079355,  0.10033892,\n",
       "        0.29961413, 10.        ,  0.37587968])"
      ]
     },
     "execution_count": 384,
     "metadata": {},
     "output_type": "execute_result"
    }
   ],
   "source": [
    "core_test = sparse_partition(D_sparse, min_points, max_val=10)\n",
    "sum([core_test[i]==core_distancers"
   ]
  },
  {
   "cell_type": "code",
   "execution_count": 298,
   "id": "004078f2-866b-4303-a1ef-3c46c1fbdd39",
   "metadata": {},
   "outputs": [],
   "source": [
    "def low_dim_distance(M, umap_rep):\n",
    "    D = M.tocsr().copy()\n",
    "    rows = [x for v in [[i]*v for i, v in enumerate(D.indptr[1:] - D.indptr[:-1])] for x in v]\n",
    "    D.data = np.array([euclidean( umap_rep[rows[i]], \n",
    "                                             umap_rep[D.indices[i]])\n",
    "                for i in range(len(rows))\n",
    "               ])\n",
    "    return(D)"
   ]
  },
  {
   "cell_type": "code",
   "execution_count": 299,
   "id": "373809da-ae34-438f-82bd-ac39bdf4df83",
   "metadata": {},
   "outputs": [],
   "source": [
    "# Symmetric matrix\n",
    "D = low_dim_distance(A_umap, umap_rep)\n",
    "\n",
    "# Submatrix\n",
    "D_sparse = D[subset_filter,:][:, subset_filter].copy()\n",
    "\n",
    "# Densify\n",
    "D_test = D_sparse.toarray()\n",
    "D_test[D_test<0.0001] = large_val"
   ]
  },
  {
   "cell_type": "code",
   "execution_count": 335,
   "id": "cb4130ff-a68e-493d-80ec-02c438e569ec",
   "metadata": {},
   "outputs": [],
   "source": [
    "def sparse_mutual_reachability(matrix, min_points=5, alpha=1.0, max_dist=0., max_val=10):\n",
    "    \n",
    "    lil_matrix = matrix.tolil()\n",
    "    result = sparse_matrix(lil_matrix.shape)\n",
    "    \n",
    "    csr_matrix = matrix.tocsr()\n",
    "    core_distance = sparse_partition(csr_matrix, min_points, max_val)\n",
    "\n",
    "    if alpha != 1.0:\n",
    "        lil_matrix = lil_matrix / alpha\n",
    "\n",
    "    nz_row_data, nz_col_data = lil_matrix.nonzero()\n",
    "\n",
    "    for n in range(nz_row_data.shape[0]):\n",
    "        i = nz_row_data[n]\n",
    "        j = nz_col_data[n]\n",
    "\n",
    "        mr_dist = max(core_distance[i], core_distance[j], lil_matrix[i, j])\n",
    "        if np.isfinite(mr_dist):\n",
    "            result[i, j] = mr_dist\n",
    "        elif max_dist > 0:\n",
    "            result[i, j] = max_dist\n",
    "\n",
    "    return result.tocsr()"
   ]
  },
  {
   "cell_type": "code",
   "execution_count": 341,
   "id": "f8916114-3551-495e-912e-072705a5e93b",
   "metadata": {},
   "outputs": [],
   "source": [
    "mr = hdbscan.hdbscan_.mutual_reachability(D_test)"
   ]
  },
  {
   "cell_type": "code",
   "execution_count": 342,
   "id": "233f01b7-d57f-42aa-b12a-767a40ca7c9d",
   "metadata": {},
   "outputs": [
    {
     "data": {
      "text/plain": [
       "array([10.        , 10.        , 10.        , 10.        , 10.        ,\n",
       "       10.        , 10.        , 10.        , 10.        , 10.        ,\n",
       "       10.        , 10.        , 10.        , 10.        , 10.        ,\n",
       "       10.        , 10.        , 10.        , 10.        , 10.        ,\n",
       "       10.        , 10.        , 10.        , 10.        , 10.        ,\n",
       "       10.        ,  0.15513985, 10.        ,  0.54610425, 10.        ,\n",
       "       10.        , 10.        , 10.        , 10.        , 10.        ,\n",
       "       10.        ,  0.15513985, 10.        , 10.        , 10.        ,\n",
       "       10.        , 10.        , 10.        , 10.        , 10.        ,\n",
       "       10.        , 10.        , 10.        ,  0.26774687,  0.2630457 ,\n",
       "       10.        , 10.        , 10.        , 10.        , 10.        ,\n",
       "       10.        , 10.        , 10.        , 10.        , 10.        ,\n",
       "       10.        , 10.        , 10.        , 10.        , 10.        ,\n",
       "       10.        , 10.        , 10.        , 10.        , 10.        ,\n",
       "       10.        , 10.        , 10.        , 10.        , 10.        ,\n",
       "       10.        , 10.        , 10.        , 10.        , 10.        ,\n",
       "       10.        , 10.        , 10.        , 10.        , 10.        ,\n",
       "       10.        , 10.        , 10.        ,  0.15513985,  0.24766865,\n",
       "       10.        , 10.        , 10.        , 10.        ,  0.23696177,\n",
       "       10.        ,  0.35997349, 10.        , 10.        , 10.        ,\n",
       "       10.        , 10.        , 10.        , 10.        , 10.        ,\n",
       "       10.        , 10.        , 10.        , 10.        , 10.        ,\n",
       "       10.        , 10.        , 10.        , 10.        , 10.        ,\n",
       "       10.        , 10.        , 10.        , 10.        , 10.        ,\n",
       "       10.        , 10.        , 10.        , 10.        , 10.        ,\n",
       "       10.        , 10.        , 10.        , 10.        , 10.        ,\n",
       "       10.        , 10.        , 10.        , 10.        , 10.        ,\n",
       "       10.        , 10.        , 10.        , 10.        , 10.        ,\n",
       "       10.        , 10.        , 10.        , 10.        , 10.        ,\n",
       "       10.        , 10.        , 10.        ,  0.25411701, 10.        ,\n",
       "        0.20584038, 10.        ,  0.25545377, 10.        , 10.        ,\n",
       "       10.        ,  0.21606353, 10.        , 10.        , 10.        ,\n",
       "       10.        , 10.        , 10.        , 10.        , 10.        ,\n",
       "       10.        , 10.        , 10.        , 10.        , 10.        ,\n",
       "        0.27731675, 10.        , 10.        , 10.        , 10.        ,\n",
       "       10.        , 10.        , 10.        , 10.        , 10.        ,\n",
       "       10.        , 10.        , 10.        ])"
      ]
     },
     "execution_count": 342,
     "metadata": {},
     "output_type": "execute_result"
    }
   ],
   "source": [
    "mr[0]"
   ]
  },
  {
   "cell_type": "code",
   "execution_count": 346,
   "id": "d2b99b03-78da-46b9-af01-5d472cd8381b",
   "metadata": {},
   "outputs": [],
   "source": [
    "D_sparse_lil = D_sparse.tolil()\n",
    "sparse_mr = hdbscan.hdbscan_.sparse_mutual_reachability(D_sparse_lil)"
   ]
  },
  {
   "cell_type": "code",
   "execution_count": 347,
   "id": "7cab64e7-e445-4d50-97d1-e904ff9a1391",
   "metadata": {},
   "outputs": [
    {
     "data": {
      "text/plain": [
       "matrix([[0.        , 0.        , 0.        , 0.        , 0.        ,\n",
       "         0.        , 0.        , 0.        , 0.        , 0.        ,\n",
       "         0.        , 0.        , 0.        , 0.        , 0.        ,\n",
       "         0.        , 0.        , 0.        , 0.        , 0.        ,\n",
       "         0.        , 0.        , 0.        , 0.        , 0.        ,\n",
       "         0.        , 0.20584038, 0.        , 0.54610425, 0.        ,\n",
       "         0.        , 0.        , 0.        , 0.        , 0.        ,\n",
       "         0.        , 0.20584038, 0.        , 0.        , 0.        ,\n",
       "         0.        , 0.        , 0.        , 0.        , 0.        ,\n",
       "         0.        , 0.        , 0.        , 0.26774687, 0.2630457 ,\n",
       "         0.        , 0.        , 0.        , 0.        , 0.        ,\n",
       "         0.        , 0.        , 0.        , 0.        , 0.        ,\n",
       "         0.        , 0.        , 0.        , 0.        , 0.        ,\n",
       "         0.        , 0.        , 0.        , 0.        , 0.        ,\n",
       "         0.        , 0.        , 0.        , 0.        , 0.        ,\n",
       "         0.        , 0.        , 0.        , 0.        , 0.        ,\n",
       "         0.        , 0.        , 0.        , 0.        , 0.        ,\n",
       "         0.        , 0.        , 0.        , 0.20584038, 0.24766865,\n",
       "         0.        , 0.        , 0.        , 0.        , 0.23696177,\n",
       "         0.        , 0.35997349, 0.        , 0.        , 0.        ,\n",
       "         0.        , 0.        , 0.        , 0.        , 0.        ,\n",
       "         0.        , 0.        , 0.        , 0.        , 0.        ,\n",
       "         0.        , 0.        , 0.        , 0.        , 0.        ,\n",
       "         0.        , 0.        , 0.        , 0.        , 0.        ,\n",
       "         0.        , 0.        , 0.        , 0.        , 0.        ,\n",
       "         0.        , 0.        , 0.        , 0.        , 0.        ,\n",
       "         0.        , 0.        , 0.        , 0.        , 0.        ,\n",
       "         0.        , 0.        , 0.        , 0.        , 0.        ,\n",
       "         0.        , 0.        , 0.        , 0.        , 0.        ,\n",
       "         0.        , 0.        , 0.        , 0.25411701, 0.        ,\n",
       "         0.20584038, 0.        , 0.25545377, 0.        , 0.        ,\n",
       "         0.        , 0.21606353, 0.        , 0.        , 0.        ,\n",
       "         0.        , 0.        , 0.        , 0.        , 0.        ,\n",
       "         0.        , 0.        , 0.        , 0.        , 0.        ,\n",
       "         0.20584038, 0.        , 0.        , 0.        , 0.        ,\n",
       "         0.        , 0.        , 0.        , 0.        , 0.        ,\n",
       "         0.        , 0.        , 0.        ]])"
      ]
     },
     "execution_count": 347,
     "metadata": {},
     "output_type": "execute_result"
    }
   ],
   "source": [
    "sparse_mr.todense()[0]"
   ]
  },
  {
   "cell_type": "code",
   "execution_count": null,
   "id": "d424837f-2214-4605-985b-857851490f57",
   "metadata": {},
   "outputs": [],
   "source": [
    "sparse_mutual_reachability()"
   ]
  },
  {
   "cell_type": "code",
   "execution_count": 330,
   "id": "82e45488-a4f2-4370-94d6-a5a5c635f411",
   "metadata": {},
   "outputs": [],
   "source": [
    "lil_matrix = A_knn.tolil()"
   ]
  },
  {
   "cell_type": "code",
   "execution_count": 331,
   "id": "55fb72ee-4028-4e19-992c-063ee2ce15ca",
   "metadata": {},
   "outputs": [],
   "source": [
    "nz_row_data, nz_col_data = lil_matrix.nonzero()"
   ]
  },
  {
   "cell_type": "code",
   "execution_count": 303,
   "id": "4c26623e-d557-4d4b-accd-06a600b035aa",
   "metadata": {},
   "outputs": [
    {
     "data": {
      "text/plain": [
       "array([ 0.15513985,  0.1507993 ,  0.11902627,  0.33213294,  0.10765006,\n",
       "        0.15511011,  0.0762486 ,  0.08286497,  0.07412623,  0.07051768,\n",
       "        0.09956087,  0.07181428,  0.10064597,  0.08905649,  0.10855202,\n",
       "        0.08008493,  0.10851032,  0.19406435,  0.10214072,  0.15911663,\n",
       "        0.17015436,  0.06285882,  0.1053426 ,  0.06637947,  0.09284311,\n",
       "        0.30223918,  0.10201158,  0.11025267,  0.17807433,  0.19489038,\n",
       "        0.13454135,  0.17845109,  0.20425074,  0.13569427,  0.1030286 ,\n",
       "        0.2211379 ,  0.0862309 ,  0.15381028,  0.12839273,  0.171564  ,\n",
       "        0.25182822,  0.03405412,  0.19693166,  0.08643712,  0.35337457,\n",
       "        0.09080241,  0.13806805,  0.07851825,  0.04539296,  0.03049082,\n",
       "        0.05946289,  0.07446273,  0.08857127,  0.09154192,  0.04712409,\n",
       "        0.05000826,  0.05298838,  0.05260412,  0.50142461,  0.05186893,\n",
       "        0.02778008,  0.04393745,  0.03178142,  0.03211796,  0.03779933,\n",
       "        0.04393745,  0.15957074,  0.1283915 ,  0.14526786,  0.22666228,\n",
       "        0.1062156 ,  0.11024548,  0.12627354,  0.14682177,  0.0879522 ,\n",
       "        0.1051543 ,  0.12772551,  0.11201889,  0.1265236 ,  0.08639042,\n",
       "        0.17944489,  0.12120237,  0.15771738,  0.16592714,  0.21494961,\n",
       "        0.1844386 ,  0.17900498,  0.29322663,  0.12772551,  0.15112504,\n",
       "        0.16047812,  0.1011164 ,  0.19100158,  0.16885355,  0.1080156 ,\n",
       "        0.1175959 ,  0.18188138,  0.19141853,  0.34233299,  0.16794983,\n",
       "        0.30025101,  0.17807433,  0.19100158,  0.12981422,  0.1350735 ,\n",
       "        0.13522495,  0.14272767,  0.123519  ,  0.19693503,  0.11782346,\n",
       "        0.17845109,  0.13045244,  0.14770997,  0.11492978,  0.1215604 ,\n",
       "       10.        ,  0.12300468,  0.19619839,  0.19150884,  0.17898487,\n",
       "        0.13201937,  0.08846071,  0.18294355,  0.14751522,  0.18772864,\n",
       "        0.25040698,  0.12336716,  0.1206331 ,  0.24127163,  0.15190028,\n",
       "        0.1224408 ,  0.32374811,  0.13298286,  0.18966284,  0.1254528 ,\n",
       "        0.11995117,  0.12545753,  0.14776097,  0.13873008,  0.17879987,\n",
       "        0.08161504,  0.18266548,  0.11024548,  0.13285483,  0.08009553,\n",
       "        0.0678899 ,  0.13804857,  0.13969946,  0.05953121,  0.19265549,\n",
       "        0.10251208,  0.15466051,  0.11621487,  0.11025267,  0.18112665,\n",
       "        0.19238029,  0.1284553 ,  0.09868738,  0.30960539,  0.11100955,\n",
       "        0.10806187,  0.23621649,  0.10999191,  7.98647213,  0.09128184,\n",
       "        0.12331826,  0.14254802,  0.34866893,  0.08539204,  0.1011164 ,\n",
       "        0.11880637,  0.16192551,  0.30746025,  0.10353265,  0.57188553,\n",
       "        7.97837305,  0.31397295,  0.14502665,  0.31079355,  0.10033892,\n",
       "        0.14526786,  1.08260214,  0.30724514])"
      ]
     },
     "execution_count": 303,
     "metadata": {},
     "output_type": "execute_result"
    }
   ],
   "source": [
    "core_test = sparse_partition(D_sparse, min_points, max_val=10)\n",
    "core_test"
   ]
  },
  {
   "cell_type": "code",
   "execution_count": 304,
   "id": "512e21e0-8ed0-4852-9363-6588efc999fe",
   "metadata": {},
   "outputs": [
    {
     "data": {
      "text/plain": [
       "array([5, 5, 5, 5, 5, 5, 5, 5, 5, 5, 5, 5, 5, 5, 5, 5, 5, 5, 5, 5, 5, 5,\n",
       "       5, 5, 5, 5, 5, 5, 5, 5, 5, 5, 5, 5, 5, 5, 5, 5, 5, 5, 5, 5, 5, 5,\n",
       "       5, 5, 5, 5, 5, 5, 5, 5, 5, 5, 5, 5, 5, 5, 5, 5, 5, 5, 5, 5, 5, 5,\n",
       "       5, 5, 5, 5, 5, 5, 5, 5, 5, 5, 5, 5, 5, 5, 5, 5, 5, 5, 5, 5, 5, 5,\n",
       "       5, 5, 5, 5, 5, 5, 5, 5, 5, 5, 5, 5, 5, 5, 5, 5, 5, 5, 5, 5, 5, 5,\n",
       "       5, 5, 5, 5, 5, 1, 5, 5, 5, 5, 5, 5, 5, 5, 5, 5, 5, 5, 5, 5, 5, 5,\n",
       "       5, 5, 5, 5, 5, 5, 5, 5, 5, 5, 5, 5, 5, 5, 5, 5, 5, 5, 5, 5, 5, 5,\n",
       "       5, 5, 5, 5, 5, 5, 5, 5, 5, 5, 5, 5, 5, 5, 5, 5, 5, 5, 5, 5, 5, 5,\n",
       "       5, 5, 5, 5, 5, 5, 5])"
      ]
     },
     "execution_count": 304,
     "metadata": {},
     "output_type": "execute_result"
    }
   ],
   "source": [
    "sum(core_distances > distance_matrix)"
   ]
  },
  {
   "cell_type": "markdown",
   "id": "970f38c0-91fd-4556-9498-c71fc676a5c5",
   "metadata": {},
   "source": [
    "### On asymmetric matrix (kNN)"
   ]
  },
  {
   "cell_type": "code",
   "execution_count": 305,
   "id": "f1602245-6cbc-492f-8f8a-78ba58f7cd88",
   "metadata": {},
   "outputs": [],
   "source": [
    "# Non-symmetric matrix\n",
    "D = low_dim_distance(A_knn, umap_rep)\n",
    "\n",
    "# Submatrix\n",
    "D_sparse = D[subset_filter,:][:, subset_filter].copy()\n",
    "\n",
    "# Densify\n",
    "D_test = D_sparse.toarray()\n",
    "D_test[D_test<0.0001] = large_val"
   ]
  },
  {
   "cell_type": "code",
   "execution_count": 306,
   "id": "d0907d20-3bfa-49ba-b9fe-1ff703de5490",
   "metadata": {},
   "outputs": [],
   "source": [
    "distance_matrix = D_test\n",
    "min_points = 5\n",
    "core_distances = np.partition(distance_matrix,\n",
    "                              min_points,\n",
    "                              axis=0)[min_points]"
   ]
  },
  {
   "cell_type": "code",
   "execution_count": 316,
   "id": "5ef05faf-d191-4da6-8023-5c1641333536",
   "metadata": {},
   "outputs": [
    {
     "data": {
      "text/plain": [
       "683.9788822224364"
      ]
     },
     "execution_count": 316,
     "metadata": {},
     "output_type": "execute_result"
    }
   ],
   "source": [
    "sum(D_sparse.data)"
   ]
  },
  {
   "cell_type": "code",
   "execution_count": 322,
   "id": "29704e2b-156e-4ca4-b6f9-75627efee82b",
   "metadata": {},
   "outputs": [
    {
     "data": {
      "text/plain": [
       "array([0.15513985, 0.54610425, 0.15513985, 0.28982359, 0.2630457 ,\n",
       "       0.15513985, 0.15513985, 0.15513985, 0.21948646, 0.23696177,\n",
       "       0.18639688, 0.25545377, 0.21606353, 0.18639039, 0.15513985])"
      ]
     },
     "execution_count": 322,
     "metadata": {},
     "output_type": "execute_result"
    }
   ],
   "source": [
    "np.maximum(core_distances[0], x)"
   ]
  },
  {
   "cell_type": "code",
   "execution_count": 326,
   "id": "cbce1f9b-ad5f-4cfa-afbc-fd98092d649e",
   "metadata": {},
   "outputs": [
    {
     "data": {
      "text/plain": [
       "array([0.14072441, 0.54610425, 0.12045969, 0.28982359, 0.2630457 ,\n",
       "       0.11201889, 0.1147987 , 0.15513985, 0.21948646, 0.23696177,\n",
       "       0.18639688, 0.25545377, 0.21606353, 0.18639039, 0.14398976])"
      ]
     },
     "execution_count": 326,
     "metadata": {},
     "output_type": "execute_result"
    }
   ],
   "source": [
    "x = D_sparse[:,0].data\n",
    "D_sparse[:,0].data = np.maximum(core_distances[0], x)\n",
    "D_sparse[:,0].data"
   ]
  },
  {
   "cell_type": "code",
   "execution_count": 307,
   "id": "9efa2d2b-088f-4f9a-a505-0b7ef2575626",
   "metadata": {},
   "outputs": [
    {
     "data": {
      "text/plain": [
       "array([ 0.15513985,  0.1507993 ,  0.18772864, 10.        ,  0.10765006,\n",
       "        0.17710201,  0.0762486 ,  0.08286497,  0.07412623,  0.072634  ,\n",
       "        0.09956087,  0.07378092, 10.        , 10.        ,  0.10927223,\n",
       "        0.14168802,  0.10851032,  0.21560848,  0.16168611,  0.58037549,\n",
       "        0.17015436,  0.06285882,  0.13098511,  0.06637947,  0.09284311,\n",
       "       10.        ,  0.10201158,  0.11199529,  0.17807433,  0.19489038,\n",
       "        0.26800895,  0.17845109,  0.28063136,  0.13569427,  0.1030286 ,\n",
       "        0.2211379 ,  0.0862309 ,  0.28688502,  0.12839273,  0.171564  ,\n",
       "       10.        ,  0.03405412, 10.        ,  0.08702035, 10.        ,\n",
       "        0.11955469,  0.13806805,  0.07851825,  0.04539296,  0.03049082,\n",
       "       10.        ,  0.08786056, 10.        ,  0.09154192,  0.04712409,\n",
       "        0.05771601,  0.05298838,  0.05260412, 10.        ,  0.11792402,\n",
       "        0.02778008,  0.05000826,  0.03326573,  0.03211796,  0.03779933,\n",
       "        0.04393745,  0.1695765 ,  0.15168063,  0.25202227, 10.        ,\n",
       "        0.1062156 ,  0.11024548,  0.12627354,  0.14682177,  0.0879522 ,\n",
       "       10.        , 10.        ,  0.1188714 ,  0.13340761, 10.        ,\n",
       "        0.17944489,  0.13119617,  0.15771738,  0.30500597, 10.        ,\n",
       "       10.        ,  0.88676685,  0.29322663,  0.12772551,  0.15112504,\n",
       "        0.16047812,  0.59924018,  0.19100158,  0.18318059,  0.1097338 ,\n",
       "       10.        ,  0.18318059,  0.22361308, 10.        , 10.        ,\n",
       "       10.        ,  0.20339186, 10.        ,  0.15367737, 10.        ,\n",
       "        0.13522495,  0.14272767,  0.123519  ,  0.19693503,  0.12201354,\n",
       "        0.18294355,  0.17775705,  0.14770997,  0.11492978,  0.1215604 ,\n",
       "       10.        ,  0.12300468, 10.        ,  0.23852879,  0.21558237,\n",
       "       10.        ,  0.10233033, 10.        ,  0.14751522,  0.2420086 ,\n",
       "        0.30712169,  0.12336716,  0.1206331 , 10.        ,  0.71035558,\n",
       "        0.16273604,  0.34381741,  0.13298286,  0.24907033,  0.16605988,\n",
       "        0.11995117,  0.19709575,  0.16292343,  0.21533482,  0.17879987,\n",
       "        0.08161504,  0.43274879,  0.11024548,  0.13285483,  0.08009553,\n",
       "        0.0678899 ,  0.13804857,  0.13969946,  0.05953121,  0.19265549,\n",
       "        0.12771   ,  0.15466051,  0.11621487,  0.11025267, 10.        ,\n",
       "        0.19238029,  0.1284553 ,  0.16736403, 10.        ,  0.11100955,\n",
       "        0.10806187,  0.23621649,  0.10999191,  7.98647213,  0.09128184,\n",
       "        0.12331826,  0.14254802, 10.        ,  0.08539204,  0.1011164 ,\n",
       "        0.27731675,  0.16192551, 10.        , 10.        , 10.        ,\n",
       "       10.        , 10.        ,  0.14502665,  0.31079355,  0.10033892,\n",
       "        0.29961413, 10.        ,  0.37587968])"
      ]
     },
     "execution_count": 307,
     "metadata": {},
     "output_type": "execute_result"
    }
   ],
   "source": [
    "core_distances"
   ]
  },
  {
   "cell_type": "code",
   "execution_count": 308,
   "id": "4337910c-b2b9-4be3-bd61-f9d05e9e1721",
   "metadata": {},
   "outputs": [
    {
     "data": {
      "text/plain": [
       "array([ 0.15513985,  0.1507993 ,  0.18772864, 10.        ,  0.10765006,\n",
       "        0.17710201,  0.0762486 ,  0.08286497,  0.07412623,  0.072634  ,\n",
       "        0.09956087,  0.07378092, 10.        , 10.        ,  0.10927223,\n",
       "        0.14168802,  0.10851032,  0.21560848,  0.16168611,  0.58037549,\n",
       "        0.17015436,  0.06285882,  0.13098511,  0.06637947,  0.09284311,\n",
       "       10.        ,  0.10201158,  0.11199529,  0.17807433,  0.19489038,\n",
       "        0.26800895,  0.17845109,  0.28063136,  0.13569427,  0.1030286 ,\n",
       "        0.2211379 ,  0.0862309 ,  0.28688502,  0.12839273,  0.171564  ,\n",
       "       10.        ,  0.03405412, 10.        ,  0.08702035, 10.        ,\n",
       "        0.11955469,  0.13806805,  0.07851825,  0.04539296,  0.03049082,\n",
       "       10.        ,  0.08786056, 10.        ,  0.09154192,  0.04712409,\n",
       "        0.05771601,  0.05298838,  0.05260412, 10.        ,  0.11792402,\n",
       "        0.02778008,  0.05000826,  0.03326573,  0.03211796,  0.03779933,\n",
       "        0.04393745,  0.1695765 ,  0.15168063,  0.25202227, 10.        ,\n",
       "        0.1062156 ,  0.11024548,  0.12627354,  0.14682177,  0.0879522 ,\n",
       "       10.        , 10.        ,  0.1188714 ,  0.13340761, 10.        ,\n",
       "        0.17944489,  0.13119617,  0.15771738,  0.30500597, 10.        ,\n",
       "       10.        ,  0.88676685,  0.29322663,  0.12772551,  0.15112504,\n",
       "        0.16047812,  0.59924018,  0.19100158,  0.18318059,  0.1097338 ,\n",
       "       10.        ,  0.18318059,  0.22361308, 10.        , 10.        ,\n",
       "       10.        ,  0.20339186, 10.        ,  0.15367737, 10.        ,\n",
       "        0.13522495,  0.14272767,  0.123519  ,  0.19693503,  0.12201354,\n",
       "        0.18294355,  0.17775705,  0.14770997,  0.11492978,  0.1215604 ,\n",
       "       10.        ,  0.12300468, 10.        ,  0.23852879,  0.21558237,\n",
       "       10.        ,  0.10233033, 10.        ,  0.14751522,  0.2420086 ,\n",
       "        0.30712169,  0.12336716,  0.1206331 , 10.        ,  0.71035558,\n",
       "        0.16273604,  0.34381741,  0.13298286,  0.24907033,  0.16605988,\n",
       "        0.11995117,  0.19709575,  0.16292343,  0.21533482,  0.17879987,\n",
       "        0.08161504,  0.43274879,  0.11024548,  0.13285483,  0.08009553,\n",
       "        0.0678899 ,  0.13804857,  0.13969946,  0.05953121,  0.19265549,\n",
       "        0.12771   ,  0.15466051,  0.11621487,  0.11025267, 10.        ,\n",
       "        0.19238029,  0.1284553 ,  0.16736403, 10.        ,  0.11100955,\n",
       "        0.10806187,  0.23621649,  0.10999191,  7.98647213,  0.09128184,\n",
       "        0.12331826,  0.14254802, 10.        ,  0.08539204,  0.1011164 ,\n",
       "        0.27731675,  0.16192551, 10.        , 10.        , 10.        ,\n",
       "       10.        , 10.        ,  0.14502665,  0.31079355,  0.10033892,\n",
       "        0.29961413, 10.        ,  0.37587968])"
      ]
     },
     "execution_count": 308,
     "metadata": {},
     "output_type": "execute_result"
    }
   ],
   "source": [
    "core_test = sparse_partition(D_sparse, min_points, max_val=10)\n",
    "core_test"
   ]
  },
  {
   "cell_type": "code",
   "execution_count": 312,
   "id": "d3612ab6-acda-4900-8d70-060c47b63204",
   "metadata": {},
   "outputs": [
    {
     "data": {
      "text/plain": [
       "array([[False, False,  True],\n",
       "       [False, False,  True],\n",
       "       [False, False,  True]])"
      ]
     },
     "execution_count": 312,
     "metadata": {},
     "output_type": "execute_result"
    }
   ],
   "source": [
    "np.array([.2, .3, 1.1]) > np.ones((3,3))"
   ]
  },
  {
   "cell_type": "code",
   "execution_count": 273,
   "id": "380edaa6-fa61-4963-be69-f780ee93d81c",
   "metadata": {},
   "outputs": [
    {
     "data": {
      "text/plain": [
       "array([ 0.17660187,  0.17710201,  0.33213294,  0.6646533 , 10.        ,\n",
       "       10.        ])"
      ]
     },
     "execution_count": 273,
     "metadata": {},
     "output_type": "execute_result"
    }
   ],
   "source": [
    "np.sort(D_test[:,3])[0:6]"
   ]
  },
  {
   "cell_type": "code",
   "execution_count": 263,
   "id": "08840a27-feda-4b41-a39e-ba837e72ae37",
   "metadata": {},
   "outputs": [
    {
     "data": {
      "text/plain": [
       "array([ 0.15513985,  0.1507993 ,  0.18772864, 10.        ,  0.10765006,\n",
       "        0.17710201,  0.0762486 ,  0.08286497,  0.07412623,  0.072634  ,\n",
       "        0.09956087,  0.07378092, 10.        , 10.        ,  0.10927223,\n",
       "        0.14168802,  0.10851032,  0.21560848,  0.16168611,  0.58037549,\n",
       "        0.17015436,  0.06285882,  0.13098511,  0.06637947,  0.09284311,\n",
       "       10.        ,  0.10201158,  0.11199529,  0.17807433,  0.19489038,\n",
       "        0.26800895,  0.17845109,  0.28063136,  0.13569427,  0.1030286 ,\n",
       "        0.2211379 ,  0.0862309 ,  0.28688502,  0.12839273,  0.171564  ,\n",
       "       10.        ,  0.03405412, 10.        ,  0.08702035, 10.        ,\n",
       "        0.11955469,  0.13806805,  0.07851825,  0.04539296,  0.03049082,\n",
       "       10.        ,  0.08786056, 10.        ,  0.09154192,  0.04712409,\n",
       "        0.05771601,  0.05298838,  0.05260412, 10.        ,  0.11792402,\n",
       "        0.02778008,  0.05000826,  0.03326573,  0.03211796,  0.03779933,\n",
       "        0.04393745,  0.1695765 ,  0.15168063,  0.25202227, 10.        ,\n",
       "        0.1062156 ,  0.11024548,  0.12627354,  0.14682177,  0.0879522 ,\n",
       "       10.        , 10.        ,  0.1188714 ,  0.13340761, 10.        ,\n",
       "        0.17944489,  0.13119617,  0.15771738,  0.30500597, 10.        ,\n",
       "       10.        ,  0.88676685,  0.29322663,  0.12772551,  0.15112504,\n",
       "        0.16047812,  0.59924018,  0.19100158,  0.18318059,  0.1097338 ,\n",
       "       10.        ,  0.18318059,  0.22361308, 10.        , 10.        ,\n",
       "       10.        ,  0.20339186, 10.        ,  0.15367737, 10.        ,\n",
       "        0.13522495,  0.14272767,  0.123519  ,  0.19693503,  0.12201354,\n",
       "        0.18294355,  0.17775705,  0.14770997,  0.11492978,  0.1215604 ,\n",
       "       10.        ,  0.12300468, 10.        ,  0.23852879,  0.21558237,\n",
       "       10.        ,  0.10233033, 10.        ,  0.14751522,  0.2420086 ,\n",
       "        0.30712169,  0.12336716,  0.1206331 , 10.        ,  0.71035558,\n",
       "        0.16273604,  0.34381741,  0.13298286,  0.24907033,  0.16605988,\n",
       "        0.11995117,  0.19709575,  0.16292343,  0.21533482,  0.17879987,\n",
       "        0.08161504,  0.43274879,  0.11024548,  0.13285483,  0.08009553,\n",
       "        0.0678899 ,  0.13804857,  0.13969946,  0.05953121,  0.19265549,\n",
       "        0.12771   ,  0.15466051,  0.11621487,  0.11025267, 10.        ,\n",
       "        0.19238029,  0.1284553 ,  0.16736403, 10.        ,  0.11100955,\n",
       "        0.10806187,  0.23621649,  0.10999191,  7.98647213,  0.09128184,\n",
       "        0.12331826,  0.14254802, 10.        ,  0.08539204,  0.1011164 ,\n",
       "        0.27731675,  0.16192551, 10.        , 10.        , 10.        ,\n",
       "       10.        , 10.        ,  0.14502665,  0.31079355,  0.10033892,\n",
       "        0.29961413, 10.        ,  0.37587968])"
      ]
     },
     "execution_count": 263,
     "metadata": {},
     "output_type": "execute_result"
    }
   ],
   "source": [
    "np.partition(distance_matrix,\n",
    "                              min_points,\n",
    "                              axis=0)[min_points]"
   ]
  },
  {
   "cell_type": "code",
   "execution_count": 256,
   "id": "a726c892-e5a5-48e1-b984-c2969312eb37",
   "metadata": {},
   "outputs": [
    {
     "name": "stdout",
     "output_type": "stream",
     "text": [
      "0 111.70232457760721\n",
      "1 64.53022875078022\n",
      "2 115.43103753495961\n",
      "3 156.82369180116802\n",
      "4 307.82428181916475\n",
      "5 391.3767988476902\n",
      "6 554.4709333255887\n",
      "7 777.4999589584768\n",
      "8 902.4747921265662\n",
      "9 1011.686602383852\n"
     ]
    }
   ],
   "source": [
    "for i in range(10):\n",
    "    print(i, sum(np.partition(distance_matrix,\n",
    "                              min_points,\n",
    "                              axis=0)[i]))"
   ]
  },
  {
   "cell_type": "code",
   "execution_count": 246,
   "id": "51abdc81-b987-4502-b4ac-98c5a2a7e038",
   "metadata": {},
   "outputs": [
    {
     "data": {
      "text/plain": [
       "array([ 0.15513985,  0.1507993 ,  0.18772864, 10.        ,  0.10765006,\n",
       "        0.17710201,  0.0762486 ,  0.08286497,  0.07412623,  0.072634  ,\n",
       "        0.09956087,  0.07378092, 10.        , 10.        ,  0.10927223,\n",
       "        0.14168802,  0.10851032,  0.21560848,  0.16168611,  0.58037549,\n",
       "        0.17015436,  0.06285882,  0.13098511,  0.06637947,  0.09284311,\n",
       "       10.        ,  0.10201158,  0.11199529,  0.17807433,  0.19489038,\n",
       "        0.26800895,  0.17845109,  0.28063136,  0.13569427,  0.1030286 ,\n",
       "        0.2211379 ,  0.0862309 ,  0.28688502,  0.12839273,  0.171564  ,\n",
       "       10.        ,  0.03405412, 10.        ,  0.08702035, 10.        ,\n",
       "        0.11955469,  0.13806805,  0.07851825,  0.04539296,  0.03049082,\n",
       "       10.        ,  0.08786056, 10.        ,  0.09154192,  0.04712409,\n",
       "        0.05771601,  0.05298838,  0.05260412, 10.        ,  0.11792402,\n",
       "        0.02778008,  0.05000826,  0.03326573,  0.03211796,  0.03779933,\n",
       "        0.04393745,  0.1695765 ,  0.15168063,  0.25202227, 10.        ,\n",
       "        0.1062156 ,  0.11024548,  0.12627354,  0.14682177,  0.0879522 ,\n",
       "       10.        , 10.        ,  0.1188714 ,  0.13340761, 10.        ,\n",
       "        0.17944489,  0.13119617,  0.15771738,  0.30500597, 10.        ,\n",
       "       10.        ,  0.88676685,  0.29322663,  0.12772551,  0.15112504,\n",
       "        0.16047812,  0.59924018,  0.19100158,  0.18318059,  0.1097338 ,\n",
       "       10.        ,  0.18318059,  0.22361308, 10.        , 10.        ,\n",
       "       10.        ,  0.20339186, 10.        ,  0.15367737, 10.        ,\n",
       "        0.13522495,  0.14272767,  0.123519  ,  0.19693503,  0.12201354,\n",
       "        0.18294355,  0.17775705,  0.14770997,  0.11492978,  0.1215604 ,\n",
       "       10.        ,  0.12300468, 10.        ,  0.23852879,  0.21558237,\n",
       "       10.        ,  0.10233033, 10.        ,  0.14751522,  0.2420086 ,\n",
       "        0.30712169,  0.12336716,  0.1206331 , 10.        ,  0.71035558,\n",
       "        0.16273604,  0.34381741,  0.13298286,  0.24907033,  0.16605988,\n",
       "        0.11995117,  0.19709575,  0.16292343,  0.21533482,  0.17879987,\n",
       "        0.08161504,  0.43274879,  0.11024548,  0.13285483,  0.08009553,\n",
       "        0.0678899 ,  0.13804857,  0.13969946,  0.05953121,  0.19265549,\n",
       "        0.12771   ,  0.15466051,  0.11621487,  0.11025267, 10.        ,\n",
       "        0.19238029,  0.1284553 ,  0.16736403, 10.        ,  0.11100955,\n",
       "        0.10806187,  0.23621649,  0.10999191,  7.98647213,  0.09128184,\n",
       "        0.12331826,  0.14254802, 10.        ,  0.08539204,  0.1011164 ,\n",
       "        0.27731675,  0.16192551, 10.        , 10.        , 10.        ,\n",
       "       10.        , 10.        ,  0.14502665,  0.31079355,  0.10033892,\n",
       "        0.29961413, 10.        ,  0.37587968])"
      ]
     },
     "execution_count": 246,
     "metadata": {},
     "output_type": "execute_result"
    }
   ],
   "source": [
    "core_distances"
   ]
  },
  {
   "cell_type": "code",
   "execution_count": 275,
   "id": "c76e30a7-2078-4d16-a33b-d5847097e5d0",
   "metadata": {},
   "outputs": [
    {
     "ename": "IndexError",
     "evalue": "list index out of range",
     "output_type": "error",
     "traceback": [
      "\u001b[0;31m---------------------------------------------------------------------------\u001b[0m",
      "\u001b[0;31mIndexError\u001b[0m                                Traceback (most recent call last)",
      "\u001b[0;32m/tmp/ipykernel_4015608/4081757589.py\u001b[0m in \u001b[0;36m<module>\u001b[0;34m\u001b[0m\n\u001b[0;32m----> 1\u001b[0;31m \u001b[0mcore_test\u001b[0m \u001b[0;34m=\u001b[0m \u001b[0msparse_partition\u001b[0m\u001b[0;34m(\u001b[0m\u001b[0mD_sparse\u001b[0m\u001b[0;34m,\u001b[0m \u001b[0mmin_points\u001b[0m\u001b[0;34m,\u001b[0m \u001b[0mmax_val\u001b[0m\u001b[0;34m=\u001b[0m\u001b[0;36m10\u001b[0m\u001b[0;34m)\u001b[0m\u001b[0;34m\u001b[0m\u001b[0;34m\u001b[0m\u001b[0m\n\u001b[0m\u001b[1;32m      2\u001b[0m \u001b[0mcore_test\u001b[0m\u001b[0;34m\u001b[0m\u001b[0;34m\u001b[0m\u001b[0m\n",
      "\u001b[0;32m/tmp/ipykernel_4015608/3681518034.py\u001b[0m in \u001b[0;36msparse_partition\u001b[0;34m(sparse_distance_matrix, min_points, max_val)\u001b[0m\n\u001b[1;32m      6\u001b[0m         \u001b[0;32mreturn\u001b[0m\u001b[0;34m(\u001b[0m\u001b[0mres\u001b[0m\u001b[0;34m)\u001b[0m\u001b[0;34m\u001b[0m\u001b[0;34m\u001b[0m\u001b[0m\n\u001b[1;32m      7\u001b[0m     \u001b[0mn_row\u001b[0m \u001b[0;34m=\u001b[0m \u001b[0msparse_distance_matrix\u001b[0m\u001b[0;34m.\u001b[0m\u001b[0mshape\u001b[0m\u001b[0;34m[\u001b[0m\u001b[0;36m0\u001b[0m\u001b[0;34m]\u001b[0m\u001b[0;34m\u001b[0m\u001b[0;34m\u001b[0m\u001b[0m\n\u001b[0;32m----> 8\u001b[0;31m     \u001b[0;32mreturn\u001b[0m\u001b[0;34m(\u001b[0m\u001b[0mnp\u001b[0m\u001b[0;34m.\u001b[0m\u001b[0marray\u001b[0m\u001b[0;34m(\u001b[0m\u001b[0;34m[\u001b[0m\u001b[0mkth_rank\u001b[0m\u001b[0;34m(\u001b[0m\u001b[0msparse_distance_matrix\u001b[0m\u001b[0;34m[\u001b[0m\u001b[0;34m:\u001b[0m\u001b[0;34m,\u001b[0m\u001b[0mi\u001b[0m\u001b[0;34m]\u001b[0m\u001b[0;34m.\u001b[0m\u001b[0mdata\u001b[0m\u001b[0;34m)\u001b[0m \u001b[0;32mfor\u001b[0m \u001b[0mi\u001b[0m \u001b[0;32min\u001b[0m \u001b[0mrange\u001b[0m\u001b[0;34m(\u001b[0m\u001b[0mn_row\u001b[0m\u001b[0;34m)\u001b[0m\u001b[0;34m]\u001b[0m\u001b[0;34m)\u001b[0m\u001b[0;34m)\u001b[0m\u001b[0;34m\u001b[0m\u001b[0;34m\u001b[0m\u001b[0m\n\u001b[0m",
      "\u001b[0;32m/tmp/ipykernel_4015608/3681518034.py\u001b[0m in \u001b[0;36m<listcomp>\u001b[0;34m(.0)\u001b[0m\n\u001b[1;32m      6\u001b[0m         \u001b[0;32mreturn\u001b[0m\u001b[0;34m(\u001b[0m\u001b[0mres\u001b[0m\u001b[0;34m)\u001b[0m\u001b[0;34m\u001b[0m\u001b[0;34m\u001b[0m\u001b[0m\n\u001b[1;32m      7\u001b[0m     \u001b[0mn_row\u001b[0m \u001b[0;34m=\u001b[0m \u001b[0msparse_distance_matrix\u001b[0m\u001b[0;34m.\u001b[0m\u001b[0mshape\u001b[0m\u001b[0;34m[\u001b[0m\u001b[0;36m0\u001b[0m\u001b[0;34m]\u001b[0m\u001b[0;34m\u001b[0m\u001b[0;34m\u001b[0m\u001b[0m\n\u001b[0;32m----> 8\u001b[0;31m     \u001b[0;32mreturn\u001b[0m\u001b[0;34m(\u001b[0m\u001b[0mnp\u001b[0m\u001b[0;34m.\u001b[0m\u001b[0marray\u001b[0m\u001b[0;34m(\u001b[0m\u001b[0;34m[\u001b[0m\u001b[0mkth_rank\u001b[0m\u001b[0;34m(\u001b[0m\u001b[0msparse_distance_matrix\u001b[0m\u001b[0;34m[\u001b[0m\u001b[0;34m:\u001b[0m\u001b[0;34m,\u001b[0m\u001b[0mi\u001b[0m\u001b[0;34m]\u001b[0m\u001b[0;34m.\u001b[0m\u001b[0mdata\u001b[0m\u001b[0;34m)\u001b[0m \u001b[0;32mfor\u001b[0m \u001b[0mi\u001b[0m \u001b[0;32min\u001b[0m \u001b[0mrange\u001b[0m\u001b[0;34m(\u001b[0m\u001b[0mn_row\u001b[0m\u001b[0;34m)\u001b[0m\u001b[0;34m]\u001b[0m\u001b[0;34m)\u001b[0m\u001b[0;34m)\u001b[0m\u001b[0;34m\u001b[0m\u001b[0;34m\u001b[0m\u001b[0m\n\u001b[0m",
      "\u001b[0;32m/tmp/ipykernel_4015608/3681518034.py\u001b[0m in \u001b[0;36mkth_rank\u001b[0;34m(ll, k, max_val)\u001b[0m\n\u001b[1;32m      3\u001b[0m         \u001b[0mres\u001b[0m \u001b[0;34m=\u001b[0m \u001b[0mmax_val\u001b[0m\u001b[0;34m\u001b[0m\u001b[0;34m\u001b[0m\u001b[0m\n\u001b[1;32m      4\u001b[0m         \u001b[0;32mif\u001b[0m \u001b[0mlen\u001b[0m\u001b[0;34m(\u001b[0m\u001b[0mll\u001b[0m\u001b[0;34m)\u001b[0m\u001b[0;34m>=\u001b[0m\u001b[0mk\u001b[0m\u001b[0;34m:\u001b[0m\u001b[0;34m\u001b[0m\u001b[0;34m\u001b[0m\u001b[0m\n\u001b[0;32m----> 5\u001b[0;31m             \u001b[0mres\u001b[0m \u001b[0;34m=\u001b[0m \u001b[0msorted\u001b[0m\u001b[0;34m(\u001b[0m\u001b[0mll\u001b[0m\u001b[0;34m.\u001b[0m\u001b[0mdata\u001b[0m\u001b[0;34m)\u001b[0m\u001b[0;34m[\u001b[0m\u001b[0mk\u001b[0m\u001b[0;34m]\u001b[0m\u001b[0;34m\u001b[0m\u001b[0;34m\u001b[0m\u001b[0m\n\u001b[0m\u001b[1;32m      6\u001b[0m         \u001b[0;32mreturn\u001b[0m\u001b[0;34m(\u001b[0m\u001b[0mres\u001b[0m\u001b[0;34m)\u001b[0m\u001b[0;34m\u001b[0m\u001b[0;34m\u001b[0m\u001b[0m\n\u001b[1;32m      7\u001b[0m     \u001b[0mn_row\u001b[0m \u001b[0;34m=\u001b[0m \u001b[0msparse_distance_matrix\u001b[0m\u001b[0;34m.\u001b[0m\u001b[0mshape\u001b[0m\u001b[0;34m[\u001b[0m\u001b[0;36m0\u001b[0m\u001b[0;34m]\u001b[0m\u001b[0;34m\u001b[0m\u001b[0;34m\u001b[0m\u001b[0m\n",
      "\u001b[0;31mIndexError\u001b[0m: list index out of range"
     ]
    }
   ],
   "source": [
    "core_test = sparse_partition(D_sparse, min_points, max_val=10)\n",
    "core_test"
   ]
  },
  {
   "cell_type": "code",
   "execution_count": null,
   "id": "94f2c3d7-6e3b-4427-b2cd-b2ba90012217",
   "metadata": {},
   "outputs": [],
   "source": []
  },
  {
   "cell_type": "code",
   "execution_count": null,
   "id": "8e956bd6-7795-40c3-b47b-0430f5fc407f",
   "metadata": {},
   "outputs": [],
   "source": []
  },
  {
   "cell_type": "code",
   "execution_count": 127,
   "id": "359f969c-3aee-4a6d-987d-20c68206881a",
   "metadata": {},
   "outputs": [
    {
     "data": {
      "text/plain": [
       "array([0.14072441, 0.54610425, 0.12045969, ..., 1.05872238, 0.27734983,\n",
       "       0.29902574])"
      ]
     },
     "execution_count": 127,
     "metadata": {},
     "output_type": "execute_result"
    }
   ],
   "source": [
    "D_sparse.T.data"
   ]
  },
  {
   "cell_type": "code",
   "execution_count": 123,
   "id": "68ca3da8-040f-411c-8d27-36375c87ba0c",
   "metadata": {},
   "outputs": [
    {
     "data": {
      "text/plain": [
       "array([0.14072441, 0.54610425, 0.12045969, 0.28982359, 0.26774687,\n",
       "       0.2630457 , 0.11201889, 0.1147987 , 0.15513985, 0.24766865,\n",
       "       0.21948646, 0.23696177, 0.18639688, 0.35997349, 0.25411701,\n",
       "       0.20584038, 0.25545377, 0.21606353, 0.18639039, 0.14398976])"
      ]
     },
     "execution_count": 123,
     "metadata": {},
     "output_type": "execute_result"
    }
   ],
   "source": [
    "D_sparse[0,:].data"
   ]
  },
  {
   "cell_type": "code",
   "execution_count": 125,
   "id": "608f6350-a785-459e-b9c0-40e98a57a852",
   "metadata": {},
   "outputs": [
    {
     "data": {
      "text/plain": [
       "array([0.15513985, 0.54610425, 0.15513985, ..., 1.05872238, 0.30724514,\n",
       "       0.30724514])"
      ]
     },
     "execution_count": 125,
     "metadata": {},
     "output_type": "execute_result"
    }
   ],
   "source": [
    "n_row = D_sparse.shape[0]\n",
    "new_data = np.array(\n",
    "    [x for i in range(n_row)\n",
    "     for x in np.where(core_distances[i] > D_sparse[i,:].data,\n",
    "                      core_distances[i], D_sparse[i,:].data)\n",
    "     \n",
    "    ]\n",
    "     )\n"
   ]
  },
  {
   "cell_type": "markdown",
   "id": "60213c5a-dbee-4812-86a9-d4e373cba030",
   "metadata": {},
   "source": [
    "# Run on all datasets"
   ]
  },
  {
   "cell_type": "code",
   "execution_count": 45,
   "id": "4423fa32-dfd4-487e-b3eb-8a8c2de9c711",
   "metadata": {},
   "outputs": [],
   "source": [
    "def get_single_linkage_clustering(dataset_id, distance_function, k=None):\n",
    "    raw_data, targets, dataset_name = get_dataset(dataset_id=dataset_id)\n",
    "    display(Markdown(f'### {dataset_name}'))\n",
    "    \n",
    "    if(distance_function.__name__ == \"get_avg_neighbor_distance\"):\n",
    "        D = distance_function(raw_data)\n",
    "    else:\n",
    "        if(k is None):\n",
    "            k = get_dataset_params(dataset_id)['n_neighbors']\n",
    "\n",
    "        A_umap, sigmas, rhos, dists = umap.umap_.fuzzy_simplicial_set(X=raw_data, \n",
    "                                                         n_neighbors=k, \n",
    "                                                         random_state=0, \n",
    "                                                         metric='euclidean', \n",
    "                                                         return_dists=True,\n",
    "                                                         set_op_mix_ratio=0.5)\n",
    "        umap_rep = get_umap_vectors(dataset_id=dataset_id, raw_data=raw_data)\n",
    "        D = distance_function(A_umap, umap_rep)\n",
    "\n",
    "    labels = clustering_from_sparse(D)\n",
    "\n",
    "    ari = adjusted_rand_score(targets, labels)\n",
    "    ami = adjusted_mutual_info_score(targets, labels)\n",
    "    print(f'PARTIAL DISTANCE:\\nARI = {ari} and AMI = {ami}\\n')\n",
    "    \n",
    "    hd_umap_labels = h_dbscan(umap_rep, which_algo='hdbscan', dataset_id=dataset_id)\n",
    "\n",
    "    ari = adjusted_rand_score(targets, hd_umap_labels)\n",
    "    ami = adjusted_mutual_info_score(targets, hd_umap_labels)\n",
    "    print(f'UMAP+HDBSCAN:\\nARI = {ari} and AMI = {ami}\\n\\n')\n",
    "    \n",
    "    return(labels, ari, ami, targets)"
   ]
  },
  {
   "cell_type": "code",
   "execution_count": 46,
   "id": "0962c2be-5641-44ef-88b6-6d9ecac140e7",
   "metadata": {},
   "outputs": [],
   "source": [
    "def low_dim_distance(A_umap, umap_rep):\n",
    "    D = A_umap.copy()\n",
    "    rows = [x for v in [[i]*v for i, v in enumerate(A_umap.indptr[1:] - A_umap.indptr[:-1])] for x in v]\n",
    "    D.data = np.array([euclidean( umap_rep[rows[i]], \n",
    "                                             umap_rep[A_umap.indices[i]])\n",
    "                for i in range(len(rows))\n",
    "               ])\n",
    "    return(D)"
   ]
  },
  {
   "cell_type": "code",
   "execution_count": 48,
   "id": "1e416da9-5460-41fc-bc14-86da2b25f4ba",
   "metadata": {},
   "outputs": [
    {
     "data": {
      "text/markdown": [
       "### pendigits"
      ],
      "text/plain": [
       "<IPython.core.display.Markdown object>"
      ]
     },
     "metadata": {},
     "output_type": "display_data"
    },
    {
     "name": "stdout",
     "output_type": "stream",
     "text": [
      "PARTIAL DISTANCE:\n",
      "ARI = 0.5937845136423342 and AMI = 0.7459900925803741\n",
      "\n",
      "UMAP+HDBSCAN:\n",
      "ARI = 0.9185149200427103 and AMI = 0.9320899303214291\n",
      "\n",
      "\n"
     ]
    },
    {
     "data": {
      "text/markdown": [
       "### coil"
      ],
      "text/plain": [
       "<IPython.core.display.Markdown object>"
      ]
     },
     "metadata": {},
     "output_type": "display_data"
    },
    {
     "name": "stderr",
     "output_type": "stream",
     "text": [
      "/disk/home/vmpouli/.conda/envs/high-dim-easydata/lib/python3.7/site-packages/sklearn/manifold/_spectral_embedding.py:261: UserWarning: Graph is not fully connected, spectral embedding may not work as expected.\n",
      "  \"Graph is not fully connected, spectral embedding may not work as expected.\"\n"
     ]
    },
    {
     "name": "stdout",
     "output_type": "stream",
     "text": [
      "Disconnected distance matrix: \n",
      " -Connecting distance matrix\n",
      "PARTIAL DISTANCE:\n",
      "ARI = 0.7366539128552851 and AMI = 0.8614787111461784\n",
      "\n",
      "UMAP+HDBSCAN:\n",
      "ARI = 0.7910813366998825 and AMI = 0.9424028955749346\n",
      "\n",
      "\n"
     ]
    },
    {
     "data": {
      "text/markdown": [
       "### mnist"
      ],
      "text/plain": [
       "<IPython.core.display.Markdown object>"
      ]
     },
     "metadata": {},
     "output_type": "display_data"
    },
    {
     "name": "stdout",
     "output_type": "stream",
     "text": [
      "PARTIAL DISTANCE:\n",
      "ARI = 0.6536270135409726 and AMI = 0.6850632024244153\n",
      "\n",
      "UMAP+HDBSCAN:\n",
      "ARI = 0.8987078065717921 and AMI = 0.8868226537248037\n",
      "\n",
      "\n"
     ]
    },
    {
     "data": {
      "text/markdown": [
       "### usps"
      ],
      "text/plain": [
       "<IPython.core.display.Markdown object>"
      ]
     },
     "metadata": {},
     "output_type": "display_data"
    },
    {
     "name": "stdout",
     "output_type": "stream",
     "text": [
      "PARTIAL DISTANCE:\n",
      "ARI = 0.7406192640111551 and AMI = 0.7621950198047123\n",
      "\n",
      "UMAP+HDBSCAN:\n",
      "ARI = 0.8824676944734986 and AMI = 0.9004545663772475\n",
      "\n",
      "\n"
     ]
    },
    {
     "data": {
      "text/markdown": [
       "### buildings"
      ],
      "text/plain": [
       "<IPython.core.display.Markdown object>"
      ]
     },
     "metadata": {},
     "output_type": "display_data"
    },
    {
     "name": "stdout",
     "output_type": "stream",
     "text": [
      "Disconnected distance matrix: \n",
      " -Connecting distance matrix\n",
      "PARTIAL DISTANCE:\n",
      "ARI = 0.162062153104807 and AMI = 0.5937277651507081\n",
      "\n",
      "UMAP+HDBSCAN:\n",
      "ARI = 0.2458851298996959 and AMI = 0.6307848503576966\n",
      "\n",
      "\n"
     ]
    },
    {
     "data": {
      "text/markdown": [
       "### clusterable"
      ],
      "text/plain": [
       "<IPython.core.display.Markdown object>"
      ]
     },
     "metadata": {},
     "output_type": "display_data"
    },
    {
     "name": "stdout",
     "output_type": "stream",
     "text": [
      "PARTIAL DISTANCE:\n",
      "ARI = 0.09585077605431681 and AMI = 0.4880254512377565\n",
      "\n",
      "UMAP+HDBSCAN:\n",
      "ARI = 0.1478619673703955 and AMI = 0.5132842384271498\n",
      "\n",
      "\n"
     ]
    }
   ],
   "source": [
    "for i in range(6):\n",
    "    res = get_single_linkage_clustering(dataset_id=i, distance_function = low_dim_distance)"
   ]
  },
  {
   "cell_type": "code",
   "execution_count": null,
   "id": "b68a91be-8973-43c5-b1bb-93c2294ef226",
   "metadata": {},
   "outputs": [],
   "source": []
  }
 ],
 "metadata": {
  "kernelspec": {
   "display_name": "high-dim-easydata",
   "language": "python",
   "name": "high-dim-easydata"
  },
  "language_info": {
   "codemirror_mode": {
    "name": "ipython",
    "version": 3
   },
   "file_extension": ".py",
   "mimetype": "text/x-python",
   "name": "python",
   "nbconvert_exporter": "python",
   "pygments_lexer": "ipython3",
   "version": "3.7.13"
  }
 },
 "nbformat": 4,
 "nbformat_minor": 5
}
