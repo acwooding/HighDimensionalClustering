{
 "cells": [
  {
   "cell_type": "markdown",
   "id": "e4e429df",
   "metadata": {
    "tags": []
   },
   "source": [
    "# Ricci Flow Clustering algorithm for high dimensional data\n",
    "\n",
    "Based on: \n",
    "* https://github.com/saibalmars/GraphRicciCurvature/blob/master/notebooks/tutorial.ipynb\n",
    "* https://www.nature.com/articles/s41598-019-46380-9 (graph clustering)\n",
    "* https://arxiv.org/pdf/2303.02561.pdf (dim reduction)\n",
    "\n",
    "There is a recent paper that does dimension reduction using Ricci flows, and it seems very promision. They start by constructing the weighted UMAP graph, and then they modify the weights using a notion of curvature. They compare their results against UMAP and what they get is almost too good to be true. Leland suggested to look into it in order to see if any ideas there could be apply to high dimensional clustering. It turns out that the paper they based their work off is a graph clustering paper that uses Ricci flows on graphs. Those results were published in Nature and their code is available.\n",
    "\n",
    "Here, I try to run their graph clustering code on the UMAP graph we get and the results I get are juste terrible. François did the same on graphs very easy to cluster, and same results for him: nothing works.\n",
    "\n",
    "*Their summary*:\n",
    "By considering networks as geometric objects and communities in a network as a geometric\n",
    "decomposition, we apply curvature and discrete Ricci flow, which have been used to decompose smooth manifolds with\n",
    "astonishing successes in mathematics, to break down communities in networks. We apply this method to k-NN graphs obtained from high dimensional data."
   ]
  },
  {
   "cell_type": "code",
   "execution_count": 1,
   "id": "e4875757-c802-423c-8bf8-8efd45ff78e3",
   "metadata": {},
   "outputs": [
    {
     "name": "stdout",
     "output_type": "stream",
     "text": [
      "* \u001b[32mmaster\u001b[m\n"
     ]
    }
   ],
   "source": [
    "!git branch"
   ]
  },
  {
   "cell_type": "code",
   "execution_count": 2,
   "id": "52d3bdf4-9b88-4008-93e6-5e6f656e5b94",
   "metadata": {},
   "outputs": [
    {
     "name": "stdout",
     "output_type": "stream",
     "text": [
      "['pendigits', 'coil', 'mnist', 'usps', 'buildings', 'clusterable']\n"
     ]
    }
   ],
   "source": [
    "execfile('functions/data_specifics.py')\n",
    "execfile('functions/graph_functions.py')\n",
    "print(data_set_list)"
   ]
  },
  {
   "cell_type": "code",
   "execution_count": 3,
   "id": "84a03c0f",
   "metadata": {},
   "outputs": [],
   "source": [
    "from IPython.display import display, Markdown, Latex\n",
    "from sklearn.metrics import adjusted_rand_score, adjusted_mutual_info_score, silhouette_score\n",
    "from sklearn import cluster\n",
    "\n",
    "import numpy as np\n",
    "import pandas as pd\n",
    "\n",
    "import matplotlib.pyplot as plt\n",
    "import seaborn as sns\n",
    "\n",
    "import umap\n",
    "from collections import Counter\n",
    "from scipy.stats import mode\n",
    "\n",
    "from scipy.spatial.distance import euclidean\n",
    "\n",
    "sns.set()"
   ]
  },
  {
   "cell_type": "code",
   "execution_count": 4,
   "id": "7b1f30b8-7d64-4e5b-b1e6-7b3c6e584a4e",
   "metadata": {},
   "outputs": [
    {
     "name": "stdout",
     "output_type": "stream",
     "text": [
      "0.5.3.1\n"
     ]
    }
   ],
   "source": [
    "import GraphRicciCurvature\n",
    "print(GraphRicciCurvature.__version__)"
   ]
  },
  {
   "cell_type": "code",
   "execution_count": 5,
   "id": "35393160-b981-490b-b46b-e5db421894e6",
   "metadata": {},
   "outputs": [
    {
     "data": {
      "text/html": [
       "\n",
       "\t\t\t<script type=\"text/javascript\">\n",
       "\t\t\t<!--\n",
       "\t\t\t\t\n",
       "\t\t\t{\n",
       "\t\t\t\tvar element = document.getElementById('NetworKit_script');\n",
       "\t\t\t\tif (element) {\n",
       "\t\t\t\t\telement.parentNode.removeChild(element);\n",
       "\t\t\t\t}\n",
       "\t\t\t\telement = document.createElement('script');\n",
       "\t\t\t\telement.type = 'text/javascript';\n",
       "\t\t\t\telement.innerHTML = 'function NetworKit_pageEmbed(id) { var i, j; var elements; elements = document.getElementById(id).getElementsByClassName(\"Plot\"); for (i=0; i<elements.length; i++) { elements[i].id = id + \"_Plot_\" + i; var data = elements[i].getAttribute(\"data-image\").split(\"|\"); elements[i].removeAttribute(\"data-image\"); var content = \"<div class=\\\\\"Image\\\\\" id=\\\\\"\" + elements[i].id + \"_Image\\\\\" />\"; elements[i].innerHTML = content; elements[i].setAttribute(\"data-image-index\", 0); elements[i].setAttribute(\"data-image-length\", data.length); for (j=0; j<data.length; j++) { elements[i].setAttribute(\"data-image-\" + j, data[j]); } NetworKit_plotUpdate(elements[i]); elements[i].onclick = function (e) { NetworKit_overlayShow((e.target) ? e.target : e.srcElement); } } elements = document.getElementById(id).getElementsByClassName(\"HeatCell\"); for (i=0; i<elements.length; i++) { var data = parseFloat(elements[i].getAttribute(\"data-heat\")); var color = \"#00FF00\"; if (data <= 1 && data > 0) { color = \"hsla(0, 100%, 75%, \" + (data) + \")\"; } else if (data <= 0 && data >= -1) { color = \"hsla(240, 100%, 75%, \" + (-data) + \")\"; } elements[i].style.backgroundColor = color; } elements = document.getElementById(id).getElementsByClassName(\"Details\"); for (i=0; i<elements.length; i++) { elements[i].setAttribute(\"data-title\", \"-\"); NetworKit_toggleDetails(elements[i]); elements[i].onclick = function (e) { NetworKit_toggleDetails((e.target) ? e.target : e.srcElement); } } elements = document.getElementById(id).getElementsByClassName(\"MathValue\"); for (i=elements.length-1; i>=0; i--) { value = elements[i].innerHTML.trim(); if (value === \"nan\") { elements[i].parentNode.innerHTML = \"\" } } elements = document.getElementById(id).getElementsByClassName(\"SubCategory\"); for (i=elements.length-1; i>=0; i--) { value = elements[i].innerHTML.trim(); if (value === \"\") { elements[i].parentNode.removeChild(elements[i]) } } elements = document.getElementById(id).getElementsByClassName(\"Category\"); for (i=elements.length-1; i>=0; i--) { value = elements[i].innerHTML.trim(); if (value === \"\") { elements[i].parentNode.removeChild(elements[i]) } } var isFirefox = false; try { isFirefox = typeof InstallTrigger !== \"undefined\"; } catch (e) {} if (!isFirefox) { alert(\"Currently the function\\'s output is only fully supported by Firefox.\"); } } function NetworKit_plotUpdate(source) { var index = source.getAttribute(\"data-image-index\"); var data = source.getAttribute(\"data-image-\" + index); var image = document.getElementById(source.id + \"_Image\"); image.style.backgroundImage = \"url(\" + data + \")\"; } function NetworKit_showElement(id, show) { var element = document.getElementById(id); element.style.display = (show) ? \"block\" : \"none\"; } function NetworKit_overlayShow(source) { NetworKit_overlayUpdate(source); NetworKit_showElement(\"NetworKit_Overlay\", true); } function NetworKit_overlayUpdate(source) { document.getElementById(\"NetworKit_Overlay_Title\").innerHTML = source.title; var index = source.getAttribute(\"data-image-index\"); var data = source.getAttribute(\"data-image-\" + index); var image = document.getElementById(\"NetworKit_Overlay_Image\"); image.setAttribute(\"data-id\", source.id); image.style.backgroundImage = \"url(\" + data + \")\"; var link = document.getElementById(\"NetworKit_Overlay_Toolbar_Bottom_Save\"); link.href = data; link.download = source.title + \".svg\"; } function NetworKit_overlayImageShift(delta) { var image = document.getElementById(\"NetworKit_Overlay_Image\"); var source = document.getElementById(image.getAttribute(\"data-id\")); var index = parseInt(source.getAttribute(\"data-image-index\")); var length = parseInt(source.getAttribute(\"data-image-length\")); var index = (index+delta) % length; if (index < 0) { index = length + index; } source.setAttribute(\"data-image-index\", index); NetworKit_overlayUpdate(source); } function NetworKit_toggleDetails(source) { var childs = source.children; var show = false; if (source.getAttribute(\"data-title\") == \"-\") { source.setAttribute(\"data-title\", \"+\"); show = false; } else { source.setAttribute(\"data-title\", \"-\"); show = true; } for (i=0; i<childs.length; i++) { if (show) { childs[i].style.display = \"block\"; } else { childs[i].style.display = \"none\"; } } }';\n",
       "\t\t\t\telement.setAttribute('id', 'NetworKit_script');\n",
       "\t\t\t\tdocument.head.appendChild(element);\n",
       "\t\t\t}\n",
       "\t\t\n",
       "\t\t\t\t\n",
       "\t\t\t{\n",
       "\t\t\t\tvar element = document.getElementById('NetworKit_style');\n",
       "\t\t\t\tif (element) {\n",
       "\t\t\t\t\telement.parentNode.removeChild(element);\n",
       "\t\t\t\t}\n",
       "\t\t\t\telement = document.createElement('style');\n",
       "\t\t\t\telement.type = 'text/css';\n",
       "\t\t\t\telement.innerHTML = '.NetworKit_Page { font-family: Arial, Helvetica, sans-serif; font-size: 14px; } .NetworKit_Page .Value:before { font-family: Arial, Helvetica, sans-serif; font-size: 1.05em; content: attr(data-title) \":\"; margin-left: -2.5em; padding-right: 0.5em; } .NetworKit_Page .Details .Value:before { display: block; } .NetworKit_Page .Value { font-family: monospace; white-space: pre; padding-left: 2.5em; white-space: -moz-pre-wrap !important; white-space: -pre-wrap; white-space: -o-pre-wrap; white-space: pre-wrap; word-wrap: break-word; tab-size: 4; -moz-tab-size: 4; } .NetworKit_Page .Category { clear: both; padding-left: 1em; margin-bottom: 1.5em; } .NetworKit_Page .Category:before { content: attr(data-title); font-size: 1.75em; display: block; margin-left: -0.8em; margin-bottom: 0.5em; } .NetworKit_Page .SubCategory { margin-bottom: 1.5em; padding-left: 1em; } .NetworKit_Page .SubCategory:before { font-size: 1.6em; display: block; margin-left: -0.8em; margin-bottom: 0.5em; } .NetworKit_Page .SubCategory[data-title]:before { content: attr(data-title); } .NetworKit_Page .Block { display: block; } .NetworKit_Page .Block:after { content: \".\"; visibility: hidden; display: block; height: 0; clear: both; } .NetworKit_Page .Block .Thumbnail_Overview, .NetworKit_Page .Block .Thumbnail_ScatterPlot { width: 260px; float: left; } .NetworKit_Page .Block .Thumbnail_Overview img, .NetworKit_Page .Block .Thumbnail_ScatterPlot img { width: 260px; } .NetworKit_Page .Block .Thumbnail_Overview:before, .NetworKit_Page .Block .Thumbnail_ScatterPlot:before { display: block; text-align: center; font-weight: bold; } .NetworKit_Page .Block .Thumbnail_Overview:before { content: attr(data-title); } .NetworKit_Page .HeatCell { font-family: \"Courier New\", Courier, monospace; cursor: pointer; } .NetworKit_Page .HeatCell, .NetworKit_Page .HeatCellName { display: inline; padding: 0.1em; margin-right: 2px; background-color: #FFFFFF } .NetworKit_Page .HeatCellName { margin-left: 0.25em; } .NetworKit_Page .HeatCell:before { content: attr(data-heat); display: inline-block; color: #000000; width: 4em; text-align: center; } .NetworKit_Page .Measure { clear: both; } .NetworKit_Page .Measure .Details { cursor: pointer; } .NetworKit_Page .Measure .Details:before { content: \"[\" attr(data-title) \"]\"; display: block; } .NetworKit_Page .Measure .Details .Value { border-left: 1px dotted black; margin-left: 0.4em; padding-left: 3.5em; pointer-events: none; } .NetworKit_Page .Measure .Details .Spacer:before { content: \".\"; opacity: 0.0; pointer-events: none; } .NetworKit_Page .Measure .Plot { width: 440px; height: 440px; cursor: pointer; float: left; margin-left: -0.9em; margin-right: 20px; } .NetworKit_Page .Measure .Plot .Image { background-repeat: no-repeat; background-position: center center; background-size: contain; height: 100%; pointer-events: none; } .NetworKit_Page .Measure .Stat { width: 500px; float: left; } .NetworKit_Page .Measure .Stat .Group { padding-left: 1.25em; margin-bottom: 0.75em; } .NetworKit_Page .Measure .Stat .Group .Title { font-size: 1.1em; display: block; margin-bottom: 0.3em; margin-left: -0.75em; border-right-style: dotted; border-right-width: 1px; border-bottom-style: dotted; border-bottom-width: 1px; background-color: #D0D0D0; padding-left: 0.2em; } .NetworKit_Page .Measure .Stat .Group .List { -webkit-column-count: 3; -moz-column-count: 3; column-count: 3; } .NetworKit_Page .Measure .Stat .Group .List .Entry { position: relative; line-height: 1.75em; } .NetworKit_Page .Measure .Stat .Group .List .Entry[data-tooltip]:before { position: absolute; left: 0; top: -40px; background-color: #808080; color: #ffffff; height: 30px; line-height: 30px; border-radius: 5px; padding: 0 15px; content: attr(data-tooltip); white-space: nowrap; display: none; } .NetworKit_Page .Measure .Stat .Group .List .Entry[data-tooltip]:after { position: absolute; left: 15px; top: -10px; border-top: 7px solid #808080; border-left: 7px solid transparent; border-right: 7px solid transparent; content: \"\"; display: none; } .NetworKit_Page .Measure .Stat .Group .List .Entry[data-tooltip]:hover:after, .NetworKit_Page .Measure .Stat .Group .List .Entry[data-tooltip]:hover:before { display: block; } .NetworKit_Page .Measure .Stat .Group .List .Entry .MathValue { font-family: \"Courier New\", Courier, monospace; } .NetworKit_Page .Measure:after { content: \".\"; visibility: hidden; display: block; height: 0; clear: both; } .NetworKit_Page .PartitionPie { clear: both; } .NetworKit_Page .PartitionPie img { width: 600px; } #NetworKit_Overlay { left: 0px; top: 0px; display: none; position: absolute; width: 100%; height: 100%; background-color: rgba(0,0,0,0.6); z-index: 1000; } #NetworKit_Overlay_Title { position: absolute; color: white; transform: rotate(-90deg); width: 32em; height: 32em; padding-right: 0.5em; padding-top: 0.5em; text-align: right; font-size: 40px; } #NetworKit_Overlay .button { background: white; cursor: pointer; } #NetworKit_Overlay .button:before { size: 13px; display: inline-block; text-align: center; margin-top: 0.5em; margin-bottom: 0.5em; width: 1.5em; height: 1.5em; } #NetworKit_Overlay .icon-close:before { content: \"X\"; } #NetworKit_Overlay .icon-previous:before { content: \"P\"; } #NetworKit_Overlay .icon-next:before { content: \"N\"; } #NetworKit_Overlay .icon-save:before { content: \"S\"; } #NetworKit_Overlay_Toolbar_Top, #NetworKit_Overlay_Toolbar_Bottom { position: absolute; width: 40px; right: 13px; text-align: right; z-index: 1100; } #NetworKit_Overlay_Toolbar_Top { top: 0.5em; } #NetworKit_Overlay_Toolbar_Bottom { Bottom: 0.5em; } #NetworKit_Overlay_ImageContainer { position: absolute; top: 5%; left: 5%; height: 90%; width: 90%; background-repeat: no-repeat; background-position: center center; background-size: contain; } #NetworKit_Overlay_Image { height: 100%; width: 100%; background-repeat: no-repeat; background-position: center center; background-size: contain; }';\n",
       "\t\t\t\telement.setAttribute('id', 'NetworKit_style');\n",
       "\t\t\t\tdocument.head.appendChild(element);\n",
       "\t\t\t}\n",
       "\t\t\n",
       "\t\t\t\t\n",
       "\t\t\t{\n",
       "\t\t\t\tvar element = document.getElementById('NetworKit_Overlay');\n",
       "\t\t\t\tif (element) {\n",
       "\t\t\t\t\telement.parentNode.removeChild(element);\n",
       "\t\t\t\t}\n",
       "\t\t\t\telement = document.createElement('div');\n",
       "\t\t\t\telement.innerHTML = '<div id=\"NetworKit_Overlay_Toolbar_Top\"><div class=\"button icon-close\" id=\"NetworKit_Overlay_Close\" /></div><div id=\"NetworKit_Overlay_Title\" /> <div id=\"NetworKit_Overlay_ImageContainer\"> <div id=\"NetworKit_Overlay_Image\" /> </div> <div id=\"NetworKit_Overlay_Toolbar_Bottom\"> <div class=\"button icon-previous\" onclick=\"NetworKit_overlayImageShift(-1)\" /> <div class=\"button icon-next\" onclick=\"NetworKit_overlayImageShift(1)\" /> <a id=\"NetworKit_Overlay_Toolbar_Bottom_Save\"><div class=\"button icon-save\" /></a> </div>';\n",
       "\t\t\t\telement.setAttribute('id', 'NetworKit_Overlay');\n",
       "\t\t\t\tdocument.body.appendChild(element);\n",
       "\t\t\t\tdocument.getElementById('NetworKit_Overlay_Close').onclick = function (e) {\n",
       "\t\t\t\t\tdocument.getElementById('NetworKit_Overlay').style.display = 'none';\n",
       "\t\t\t\t}\n",
       "\t\t\t}\n",
       "\t\t\n",
       "\t\t\t-->\n",
       "\t\t\t</script>\n",
       "\t\t"
      ]
     },
     "metadata": {},
     "output_type": "display_data"
    }
   ],
   "source": [
    "import networkx as nx\n",
    "import numpy as np\n",
    "import math\n",
    "\n",
    "# matplotlib setting\n",
    "%matplotlib inline\n",
    "import matplotlib.pyplot as plt\n",
    "\n",
    "# to print logs in jupyter notebook\n",
    "import logging\n",
    "logging.basicConfig(format='%(levelname)s:%(message)s', level=logging.ERROR)\n",
    "\n",
    "# load GraphRicciCuravture package\n",
    "from GraphRicciCurvature.OllivierRicci import OllivierRicci\n",
    "from GraphRicciCurvature.FormanRicci import FormanRicci\n",
    "\n",
    "# load python-louvain for modularity computation\n",
    "import community as community_louvain\n",
    "\n",
    "# for ARI computation\n",
    "from sklearn import preprocessing, metrics"
   ]
  },
  {
   "cell_type": "markdown",
   "id": "fa3e0edb-43b9-4afe-8d0f-01b21faf3004",
   "metadata": {},
   "source": [
    "## Get data, UMAP graph and UMAP low dimensional vectors"
   ]
  },
  {
   "cell_type": "code",
   "execution_count": 24,
   "id": "87352309-e8d9-4c70-97ac-175132259798",
   "metadata": {},
   "outputs": [],
   "source": [
    "dataset_id=0\n",
    "raw_data, targets, dataset_name = get_dataset(dataset_id=dataset_id)\n",
    "\n",
    "k = get_dataset_params(dataset_id)['n_neighbors']"
   ]
  },
  {
   "cell_type": "code",
   "execution_count": 16,
   "id": "e3f5c7ba-971d-4953-97c4-39e37a6a09df",
   "metadata": {},
   "outputs": [],
   "source": [
    "# print(f'We are building a {k}-NN graph for dataset {dataset_name}')\n",
    "# A_umap, sigmas, rhos, dists = umap.umap_.fuzzy_simplicial_set(X=raw_data, \n",
    "#                                              n_neighbors=k, \n",
    "#                                              random_state=0, \n",
    "#                                              metric='euclidean', \n",
    "#                                              return_dists=True,\n",
    "#                                              set_op_mix_ratio=1)\n",
    "# umap_rep = get_umap_vectors(dataset_id=dataset_id, raw_data=raw_data)\n",
    "\n",
    "# A = (A_umap > 0)\n",
    "# G = nx.from_scipy_sparse_matrix(A)"
   ]
  },
  {
   "cell_type": "code",
   "execution_count": 25,
   "id": "0fd92e55-c984-4458-a700-2f2a1c4f9b5e",
   "metadata": {},
   "outputs": [
    {
     "name": "stdout",
     "output_type": "stream",
     "text": [
      "We are building a directed 15-NN graph for dataset pendigits\n"
     ]
    }
   ],
   "source": [
    "print(f'We are building a directed {k}-NN graph for dataset {dataset_name}')\n",
    "G = knn_digraph(raw_data, k=k, graph_type='nx')"
   ]
  },
  {
   "cell_type": "code",
   "execution_count": 30,
   "id": "d7dacc29-3398-4fed-9a31-013db5d380d1",
   "metadata": {},
   "outputs": [
    {
     "name": "stdout",
     "output_type": "stream",
     "text": [
      "\n",
      "=====  Compute Ricci flow metric - Optimal Transportation Distance =====\n"
     ]
    },
    {
     "name": "stderr",
     "output_type": "stream",
     "text": [
      "2023-03-21 16:36:45,650 - OllivierRicci - INFO - No ricciCurvature detected, compute original_RC...\n",
      "2023-03-21 16:36:46,666 - OllivierRicci - INFO - 0.583161 secs for Ricci curvature computation.\n",
      "2023-03-21 16:36:46,927 - OllivierRicci - INFO -  === Ricci flow iteration 0 === \n",
      "2023-03-21 16:36:47,933 - OllivierRicci - INFO - 0.561057 secs for Ricci curvature computation.\n",
      "2023-03-21 16:36:48,183 - OllivierRicci - INFO -  === Ricci flow iteration 1 === \n",
      "2023-03-21 16:36:49,180 - OllivierRicci - INFO - 0.564841 secs for Ricci curvature computation.\n",
      "2023-03-21 16:36:49,432 - OllivierRicci - INFO -  === Ricci flow iteration 2 === \n",
      "2023-03-21 16:36:50,432 - OllivierRicci - INFO - 0.570502 secs for Ricci curvature computation.\n",
      "2023-03-21 16:36:50,683 - OllivierRicci - INFO -  === Ricci flow iteration 3 === \n",
      "2023-03-21 16:36:51,677 - OllivierRicci - INFO - 0.564937 secs for Ricci curvature computation.\n",
      "2023-03-21 16:36:51,928 - OllivierRicci - INFO -  === Ricci flow iteration 4 === \n",
      "2023-03-21 16:36:53,201 - OllivierRicci - INFO - 0.842290 secs for Ricci curvature computation.\n",
      "2023-03-21 16:36:53,450 - OllivierRicci - INFO -  === Ricci flow iteration 5 === \n",
      "2023-03-21 16:36:54,482 - OllivierRicci - INFO - 0.600992 secs for Ricci curvature computation.\n",
      "2023-03-21 16:36:54,742 - OllivierRicci - INFO -  === Ricci flow iteration 6 === \n",
      "2023-03-21 16:36:55,757 - OllivierRicci - INFO - 0.565134 secs for Ricci curvature computation.\n",
      "2023-03-21 16:36:56,016 - OllivierRicci - INFO -  === Ricci flow iteration 7 === \n",
      "2023-03-21 16:36:57,014 - OllivierRicci - INFO - 0.562044 secs for Ricci curvature computation.\n",
      "2023-03-21 16:36:57,272 - OllivierRicci - INFO -  === Ricci flow iteration 8 === \n",
      "2023-03-21 16:36:58,279 - OllivierRicci - INFO - 0.573195 secs for Ricci curvature computation.\n",
      "2023-03-21 16:36:58,539 - OllivierRicci - INFO -  === Ricci flow iteration 9 === \n",
      "2023-03-21 16:36:59,535 - OllivierRicci - INFO - 0.552476 secs for Ricci curvature computation.\n",
      "2023-03-21 16:36:59,719 - OllivierRicci - INFO - 14.073057 secs for Ricci flow computation.\n"
     ]
    },
    {
     "data": {
      "text/plain": [
       "<networkx.classes.graph.Graph at 0x7f059d7309d0>"
      ]
     },
     "execution_count": 30,
     "metadata": {},
     "output_type": "execute_result"
    }
   ],
   "source": [
    "print(\"\\n=====  Compute Ricci flow metric - Optimal Transportation Distance =====\")\n",
    "\n",
    "orc_OTD = OllivierRicci(G, alpha=0.5, method=\"OTD\", verbose=\"INFO\")\n",
    "orc_OTD.compute_ricci_flow(iterations=10)"
   ]
  },
  {
   "cell_type": "code",
   "execution_count": 27,
   "id": "22a1f1e8-754f-48fe-a59b-9e8add48dd86",
   "metadata": {},
   "outputs": [
    {
     "name": "stderr",
     "output_type": "stream",
     "text": [
      "2023-03-21 16:17:57,616 - OllivierRicci - INFO - Ricci flow not detected yet, run Ricci flow with default setting first...\n",
      "2023-03-21 16:17:57,642 - OllivierRicci - INFO - No ricciCurvature detected, compute original_RC...\n"
     ]
    },
    {
     "name": "stdout",
     "output_type": "stream",
     "text": [
      "\n",
      "=====  Compute Ricci community - by Ricci flow =====\n"
     ]
    },
    {
     "name": "stderr",
     "output_type": "stream",
     "text": [
      "2023-03-21 16:17:58,662 - OllivierRicci - INFO - 0.586883 secs for Ricci curvature computation.\n",
      "2023-03-21 16:17:58,918 - OllivierRicci - INFO -  === Ricci flow iteration 0 === \n",
      "2023-03-21 16:18:01,286 - OllivierRicci - INFO - 1.216654 secs for Ricci curvature computation.\n",
      "2023-03-21 16:18:02,054 - OllivierRicci - INFO -  === Ricci flow iteration 1 === \n",
      "2023-03-21 16:18:04,257 - OllivierRicci - INFO - 1.366657 secs for Ricci curvature computation.\n",
      "2023-03-21 16:18:04,908 - OllivierRicci - INFO -  === Ricci flow iteration 2 === \n",
      "2023-03-21 16:18:07,084 - OllivierRicci - INFO - 1.266373 secs for Ricci curvature computation.\n",
      "2023-03-21 16:18:07,573 - OllivierRicci - INFO -  === Ricci flow iteration 3 === \n",
      "2023-03-21 16:18:09,470 - OllivierRicci - INFO - 1.065014 secs for Ricci curvature computation.\n",
      "2023-03-21 16:18:10,040 - OllivierRicci - INFO -  === Ricci flow iteration 4 === \n",
      "2023-03-21 16:18:12,504 - OllivierRicci - INFO - 1.630779 secs for Ricci curvature computation.\n",
      "2023-03-21 16:18:13,045 - OllivierRicci - INFO -  === Ricci flow iteration 5 === \n",
      "2023-03-21 16:18:15,059 - OllivierRicci - INFO - 1.172555 secs for Ricci curvature computation.\n",
      "2023-03-21 16:18:15,817 - OllivierRicci - INFO -  === Ricci flow iteration 6 === \n",
      "2023-03-21 16:18:17,992 - OllivierRicci - INFO - 1.168859 secs for Ricci curvature computation.\n",
      "2023-03-21 16:18:18,528 - OllivierRicci - INFO -  === Ricci flow iteration 7 === \n",
      "2023-03-21 16:18:20,571 - OllivierRicci - INFO - 1.168767 secs for Ricci curvature computation.\n",
      "2023-03-21 16:18:21,133 - OllivierRicci - INFO -  === Ricci flow iteration 8 === \n",
      "2023-03-21 16:18:23,130 - OllivierRicci - INFO - 1.117025 secs for Ricci curvature computation.\n",
      "2023-03-21 16:18:23,960 - OllivierRicci - INFO -  === Ricci flow iteration 9 === \n",
      "2023-03-21 16:18:25,927 - OllivierRicci - INFO - 1.067979 secs for Ricci curvature computation.\n",
      "2023-03-21 16:18:26,372 - OllivierRicci - INFO - 28.735097 secs for Ricci flow computation.\n",
      "2023-03-21 16:18:26,377 - OllivierRicci - INFO - Ricci flow detected, start cutting graph into community...\n",
      "2023-03-21 16:20:06,105 - OllivierRicci - INFO - Communities detected: 10\n"
     ]
    },
    {
     "name": "stdout",
     "output_type": "stream",
     "text": [
      "CPU times: user 2min 36s, sys: 7.42 s, total: 2min 44s\n",
      "Wall time: 2min 8s\n"
     ]
    }
   ],
   "source": [
    "%%time\n",
    "print(\"\\n=====  Compute Ricci community - by Ricci flow =====\")\n",
    "clustering = orc_OTD.ricci_community()"
   ]
  },
  {
   "cell_type": "code",
   "execution_count": 28,
   "id": "15f920eb-f112-4542-9b84-21f48dd42d6b",
   "metadata": {},
   "outputs": [
    {
     "name": "stdout",
     "output_type": "stream",
     "text": [
      "ARI = -0.003938781961610883 and AMI = -0.008027498514716966\n"
     ]
    }
   ],
   "source": [
    "labels = list(clustering[1].values())\n",
    "ari = adjusted_rand_score(targets, labels)\n",
    "ami = adjusted_mutual_info_score(targets, labels)\n",
    "print(f'ARI = {ari} and AMI = {ami}') "
   ]
  }
 ],
 "metadata": {
  "kernelspec": {
   "display_name": "high-dim-easydata",
   "language": "python",
   "name": "high-dim-easydata"
  },
  "language_info": {
   "codemirror_mode": {
    "name": "ipython",
    "version": 3
   },
   "file_extension": ".py",
   "mimetype": "text/x-python",
   "name": "python",
   "nbconvert_exporter": "python",
   "pygments_lexer": "ipython3",
   "version": "3.7.13"
  }
 },
 "nbformat": 4,
 "nbformat_minor": 5
}
