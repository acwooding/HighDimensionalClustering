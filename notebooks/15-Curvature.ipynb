{
 "cells": [
  {
   "cell_type": "markdown",
   "id": "e4e429df",
   "metadata": {
    "tags": []
   },
   "source": [
    "# Ricci Flow Clustering algorithm for high dimensional data\n",
    "\n",
    "Based on: \n",
    "* https://github.com/saibalmars/GraphRicciCurvature/blob/master/notebooks/tutorial.ipynb\n",
    "* https://www.nature.com/articles/s41598-019-46380-9\n",
    "\n",
    "By considering networks as geometric objects and communities in a network as a geometric\n",
    "decomposition, we apply curvature and discrete Ricci flow, which have been used to decompose smooth manifolds with\n",
    "astonishing successes in mathematics, to break down communities in networks. We apply this method to k-NN graphs obtained from high dimensional data."
   ]
  },
  {
   "cell_type": "code",
   "execution_count": 1,
   "id": "e4875757-c802-423c-8bf8-8efd45ff78e3",
   "metadata": {},
   "outputs": [
    {
     "name": "stdout",
     "output_type": "stream",
     "text": [
      "* \u001b[32mmaster\u001b[m\n"
     ]
    }
   ],
   "source": [
    "!git branch"
   ]
  },
  {
   "cell_type": "code",
   "execution_count": 2,
   "id": "52d3bdf4-9b88-4008-93e6-5e6f656e5b94",
   "metadata": {},
   "outputs": [
    {
     "name": "stdout",
     "output_type": "stream",
     "text": [
      "['pendigits', 'coil', 'mnist', 'usps', 'buildings', 'clusterable']\n"
     ]
    }
   ],
   "source": [
    "execfile('functions/data_specifics.py')\n",
    "execfile('functions/graph_functions.py')\n",
    "print(data_set_list)"
   ]
  },
  {
   "cell_type": "code",
   "execution_count": 3,
   "id": "84a03c0f",
   "metadata": {},
   "outputs": [],
   "source": [
    "from IPython.display import display, Markdown, Latex\n",
    "from sklearn.metrics import adjusted_rand_score, adjusted_mutual_info_score, silhouette_score\n",
    "from sklearn import cluster\n",
    "\n",
    "import numpy as np\n",
    "import pandas as pd\n",
    "\n",
    "import matplotlib.pyplot as plt\n",
    "import seaborn as sns\n",
    "\n",
    "import umap\n",
    "from collections import Counter\n",
    "from scipy.stats import mode\n",
    "\n",
    "from scipy.spatial.distance import euclidean\n",
    "\n",
    "sns.set()"
   ]
  },
  {
   "cell_type": "code",
   "execution_count": 4,
   "id": "7b1f30b8-7d64-4e5b-b1e6-7b3c6e584a4e",
   "metadata": {},
   "outputs": [
    {
     "name": "stdout",
     "output_type": "stream",
     "text": [
      "0.5.3.1\n"
     ]
    }
   ],
   "source": [
    "import GraphRicciCurvature\n",
    "print(GraphRicciCurvature.__version__)"
   ]
  },
  {
   "cell_type": "code",
   "execution_count": 5,
   "id": "35393160-b981-490b-b46b-e5db421894e6",
   "metadata": {},
   "outputs": [
    {
     "data": {
      "text/html": [
       "\n",
       "\t\t\t<script type=\"text/javascript\">\n",
       "\t\t\t<!--\n",
       "\t\t\t\t\n",
       "\t\t\t{\n",
       "\t\t\t\tvar element = document.getElementById('NetworKit_script');\n",
       "\t\t\t\tif (element) {\n",
       "\t\t\t\t\telement.parentNode.removeChild(element);\n",
       "\t\t\t\t}\n",
       "\t\t\t\telement = document.createElement('script');\n",
       "\t\t\t\telement.type = 'text/javascript';\n",
       "\t\t\t\telement.innerHTML = 'function NetworKit_pageEmbed(id) { var i, j; var elements; elements = document.getElementById(id).getElementsByClassName(\"Plot\"); for (i=0; i<elements.length; i++) { elements[i].id = id + \"_Plot_\" + i; var data = elements[i].getAttribute(\"data-image\").split(\"|\"); elements[i].removeAttribute(\"data-image\"); var content = \"<div class=\\\\\"Image\\\\\" id=\\\\\"\" + elements[i].id + \"_Image\\\\\" />\"; elements[i].innerHTML = content; elements[i].setAttribute(\"data-image-index\", 0); elements[i].setAttribute(\"data-image-length\", data.length); for (j=0; j<data.length; j++) { elements[i].setAttribute(\"data-image-\" + j, data[j]); } NetworKit_plotUpdate(elements[i]); elements[i].onclick = function (e) { NetworKit_overlayShow((e.target) ? e.target : e.srcElement); } } elements = document.getElementById(id).getElementsByClassName(\"HeatCell\"); for (i=0; i<elements.length; i++) { var data = parseFloat(elements[i].getAttribute(\"data-heat\")); var color = \"#00FF00\"; if (data <= 1 && data > 0) { color = \"hsla(0, 100%, 75%, \" + (data) + \")\"; } else if (data <= 0 && data >= -1) { color = \"hsla(240, 100%, 75%, \" + (-data) + \")\"; } elements[i].style.backgroundColor = color; } elements = document.getElementById(id).getElementsByClassName(\"Details\"); for (i=0; i<elements.length; i++) { elements[i].setAttribute(\"data-title\", \"-\"); NetworKit_toggleDetails(elements[i]); elements[i].onclick = function (e) { NetworKit_toggleDetails((e.target) ? e.target : e.srcElement); } } elements = document.getElementById(id).getElementsByClassName(\"MathValue\"); for (i=elements.length-1; i>=0; i--) { value = elements[i].innerHTML.trim(); if (value === \"nan\") { elements[i].parentNode.innerHTML = \"\" } } elements = document.getElementById(id).getElementsByClassName(\"SubCategory\"); for (i=elements.length-1; i>=0; i--) { value = elements[i].innerHTML.trim(); if (value === \"\") { elements[i].parentNode.removeChild(elements[i]) } } elements = document.getElementById(id).getElementsByClassName(\"Category\"); for (i=elements.length-1; i>=0; i--) { value = elements[i].innerHTML.trim(); if (value === \"\") { elements[i].parentNode.removeChild(elements[i]) } } var isFirefox = false; try { isFirefox = typeof InstallTrigger !== \"undefined\"; } catch (e) {} if (!isFirefox) { alert(\"Currently the function\\'s output is only fully supported by Firefox.\"); } } function NetworKit_plotUpdate(source) { var index = source.getAttribute(\"data-image-index\"); var data = source.getAttribute(\"data-image-\" + index); var image = document.getElementById(source.id + \"_Image\"); image.style.backgroundImage = \"url(\" + data + \")\"; } function NetworKit_showElement(id, show) { var element = document.getElementById(id); element.style.display = (show) ? \"block\" : \"none\"; } function NetworKit_overlayShow(source) { NetworKit_overlayUpdate(source); NetworKit_showElement(\"NetworKit_Overlay\", true); } function NetworKit_overlayUpdate(source) { document.getElementById(\"NetworKit_Overlay_Title\").innerHTML = source.title; var index = source.getAttribute(\"data-image-index\"); var data = source.getAttribute(\"data-image-\" + index); var image = document.getElementById(\"NetworKit_Overlay_Image\"); image.setAttribute(\"data-id\", source.id); image.style.backgroundImage = \"url(\" + data + \")\"; var link = document.getElementById(\"NetworKit_Overlay_Toolbar_Bottom_Save\"); link.href = data; link.download = source.title + \".svg\"; } function NetworKit_overlayImageShift(delta) { var image = document.getElementById(\"NetworKit_Overlay_Image\"); var source = document.getElementById(image.getAttribute(\"data-id\")); var index = parseInt(source.getAttribute(\"data-image-index\")); var length = parseInt(source.getAttribute(\"data-image-length\")); var index = (index+delta) % length; if (index < 0) { index = length + index; } source.setAttribute(\"data-image-index\", index); NetworKit_overlayUpdate(source); } function NetworKit_toggleDetails(source) { var childs = source.children; var show = false; if (source.getAttribute(\"data-title\") == \"-\") { source.setAttribute(\"data-title\", \"+\"); show = false; } else { source.setAttribute(\"data-title\", \"-\"); show = true; } for (i=0; i<childs.length; i++) { if (show) { childs[i].style.display = \"block\"; } else { childs[i].style.display = \"none\"; } } }';\n",
       "\t\t\t\telement.setAttribute('id', 'NetworKit_script');\n",
       "\t\t\t\tdocument.head.appendChild(element);\n",
       "\t\t\t}\n",
       "\t\t\n",
       "\t\t\t\t\n",
       "\t\t\t{\n",
       "\t\t\t\tvar element = document.getElementById('NetworKit_style');\n",
       "\t\t\t\tif (element) {\n",
       "\t\t\t\t\telement.parentNode.removeChild(element);\n",
       "\t\t\t\t}\n",
       "\t\t\t\telement = document.createElement('style');\n",
       "\t\t\t\telement.type = 'text/css';\n",
       "\t\t\t\telement.innerHTML = '.NetworKit_Page { font-family: Arial, Helvetica, sans-serif; font-size: 14px; } .NetworKit_Page .Value:before { font-family: Arial, Helvetica, sans-serif; font-size: 1.05em; content: attr(data-title) \":\"; margin-left: -2.5em; padding-right: 0.5em; } .NetworKit_Page .Details .Value:before { display: block; } .NetworKit_Page .Value { font-family: monospace; white-space: pre; padding-left: 2.5em; white-space: -moz-pre-wrap !important; white-space: -pre-wrap; white-space: -o-pre-wrap; white-space: pre-wrap; word-wrap: break-word; tab-size: 4; -moz-tab-size: 4; } .NetworKit_Page .Category { clear: both; padding-left: 1em; margin-bottom: 1.5em; } .NetworKit_Page .Category:before { content: attr(data-title); font-size: 1.75em; display: block; margin-left: -0.8em; margin-bottom: 0.5em; } .NetworKit_Page .SubCategory { margin-bottom: 1.5em; padding-left: 1em; } .NetworKit_Page .SubCategory:before { font-size: 1.6em; display: block; margin-left: -0.8em; margin-bottom: 0.5em; } .NetworKit_Page .SubCategory[data-title]:before { content: attr(data-title); } .NetworKit_Page .Block { display: block; } .NetworKit_Page .Block:after { content: \".\"; visibility: hidden; display: block; height: 0; clear: both; } .NetworKit_Page .Block .Thumbnail_Overview, .NetworKit_Page .Block .Thumbnail_ScatterPlot { width: 260px; float: left; } .NetworKit_Page .Block .Thumbnail_Overview img, .NetworKit_Page .Block .Thumbnail_ScatterPlot img { width: 260px; } .NetworKit_Page .Block .Thumbnail_Overview:before, .NetworKit_Page .Block .Thumbnail_ScatterPlot:before { display: block; text-align: center; font-weight: bold; } .NetworKit_Page .Block .Thumbnail_Overview:before { content: attr(data-title); } .NetworKit_Page .HeatCell { font-family: \"Courier New\", Courier, monospace; cursor: pointer; } .NetworKit_Page .HeatCell, .NetworKit_Page .HeatCellName { display: inline; padding: 0.1em; margin-right: 2px; background-color: #FFFFFF } .NetworKit_Page .HeatCellName { margin-left: 0.25em; } .NetworKit_Page .HeatCell:before { content: attr(data-heat); display: inline-block; color: #000000; width: 4em; text-align: center; } .NetworKit_Page .Measure { clear: both; } .NetworKit_Page .Measure .Details { cursor: pointer; } .NetworKit_Page .Measure .Details:before { content: \"[\" attr(data-title) \"]\"; display: block; } .NetworKit_Page .Measure .Details .Value { border-left: 1px dotted black; margin-left: 0.4em; padding-left: 3.5em; pointer-events: none; } .NetworKit_Page .Measure .Details .Spacer:before { content: \".\"; opacity: 0.0; pointer-events: none; } .NetworKit_Page .Measure .Plot { width: 440px; height: 440px; cursor: pointer; float: left; margin-left: -0.9em; margin-right: 20px; } .NetworKit_Page .Measure .Plot .Image { background-repeat: no-repeat; background-position: center center; background-size: contain; height: 100%; pointer-events: none; } .NetworKit_Page .Measure .Stat { width: 500px; float: left; } .NetworKit_Page .Measure .Stat .Group { padding-left: 1.25em; margin-bottom: 0.75em; } .NetworKit_Page .Measure .Stat .Group .Title { font-size: 1.1em; display: block; margin-bottom: 0.3em; margin-left: -0.75em; border-right-style: dotted; border-right-width: 1px; border-bottom-style: dotted; border-bottom-width: 1px; background-color: #D0D0D0; padding-left: 0.2em; } .NetworKit_Page .Measure .Stat .Group .List { -webkit-column-count: 3; -moz-column-count: 3; column-count: 3; } .NetworKit_Page .Measure .Stat .Group .List .Entry { position: relative; line-height: 1.75em; } .NetworKit_Page .Measure .Stat .Group .List .Entry[data-tooltip]:before { position: absolute; left: 0; top: -40px; background-color: #808080; color: #ffffff; height: 30px; line-height: 30px; border-radius: 5px; padding: 0 15px; content: attr(data-tooltip); white-space: nowrap; display: none; } .NetworKit_Page .Measure .Stat .Group .List .Entry[data-tooltip]:after { position: absolute; left: 15px; top: -10px; border-top: 7px solid #808080; border-left: 7px solid transparent; border-right: 7px solid transparent; content: \"\"; display: none; } .NetworKit_Page .Measure .Stat .Group .List .Entry[data-tooltip]:hover:after, .NetworKit_Page .Measure .Stat .Group .List .Entry[data-tooltip]:hover:before { display: block; } .NetworKit_Page .Measure .Stat .Group .List .Entry .MathValue { font-family: \"Courier New\", Courier, monospace; } .NetworKit_Page .Measure:after { content: \".\"; visibility: hidden; display: block; height: 0; clear: both; } .NetworKit_Page .PartitionPie { clear: both; } .NetworKit_Page .PartitionPie img { width: 600px; } #NetworKit_Overlay { left: 0px; top: 0px; display: none; position: absolute; width: 100%; height: 100%; background-color: rgba(0,0,0,0.6); z-index: 1000; } #NetworKit_Overlay_Title { position: absolute; color: white; transform: rotate(-90deg); width: 32em; height: 32em; padding-right: 0.5em; padding-top: 0.5em; text-align: right; font-size: 40px; } #NetworKit_Overlay .button { background: white; cursor: pointer; } #NetworKit_Overlay .button:before { size: 13px; display: inline-block; text-align: center; margin-top: 0.5em; margin-bottom: 0.5em; width: 1.5em; height: 1.5em; } #NetworKit_Overlay .icon-close:before { content: \"X\"; } #NetworKit_Overlay .icon-previous:before { content: \"P\"; } #NetworKit_Overlay .icon-next:before { content: \"N\"; } #NetworKit_Overlay .icon-save:before { content: \"S\"; } #NetworKit_Overlay_Toolbar_Top, #NetworKit_Overlay_Toolbar_Bottom { position: absolute; width: 40px; right: 13px; text-align: right; z-index: 1100; } #NetworKit_Overlay_Toolbar_Top { top: 0.5em; } #NetworKit_Overlay_Toolbar_Bottom { Bottom: 0.5em; } #NetworKit_Overlay_ImageContainer { position: absolute; top: 5%; left: 5%; height: 90%; width: 90%; background-repeat: no-repeat; background-position: center center; background-size: contain; } #NetworKit_Overlay_Image { height: 100%; width: 100%; background-repeat: no-repeat; background-position: center center; background-size: contain; }';\n",
       "\t\t\t\telement.setAttribute('id', 'NetworKit_style');\n",
       "\t\t\t\tdocument.head.appendChild(element);\n",
       "\t\t\t}\n",
       "\t\t\n",
       "\t\t\t\t\n",
       "\t\t\t{\n",
       "\t\t\t\tvar element = document.getElementById('NetworKit_Overlay');\n",
       "\t\t\t\tif (element) {\n",
       "\t\t\t\t\telement.parentNode.removeChild(element);\n",
       "\t\t\t\t}\n",
       "\t\t\t\telement = document.createElement('div');\n",
       "\t\t\t\telement.innerHTML = '<div id=\"NetworKit_Overlay_Toolbar_Top\"><div class=\"button icon-close\" id=\"NetworKit_Overlay_Close\" /></div><div id=\"NetworKit_Overlay_Title\" /> <div id=\"NetworKit_Overlay_ImageContainer\"> <div id=\"NetworKit_Overlay_Image\" /> </div> <div id=\"NetworKit_Overlay_Toolbar_Bottom\"> <div class=\"button icon-previous\" onclick=\"NetworKit_overlayImageShift(-1)\" /> <div class=\"button icon-next\" onclick=\"NetworKit_overlayImageShift(1)\" /> <a id=\"NetworKit_Overlay_Toolbar_Bottom_Save\"><div class=\"button icon-save\" /></a> </div>';\n",
       "\t\t\t\telement.setAttribute('id', 'NetworKit_Overlay');\n",
       "\t\t\t\tdocument.body.appendChild(element);\n",
       "\t\t\t\tdocument.getElementById('NetworKit_Overlay_Close').onclick = function (e) {\n",
       "\t\t\t\t\tdocument.getElementById('NetworKit_Overlay').style.display = 'none';\n",
       "\t\t\t\t}\n",
       "\t\t\t}\n",
       "\t\t\n",
       "\t\t\t-->\n",
       "\t\t\t</script>\n",
       "\t\t"
      ]
     },
     "metadata": {},
     "output_type": "display_data"
    }
   ],
   "source": [
    "import networkx as nx\n",
    "import numpy as np\n",
    "import math\n",
    "\n",
    "# matplotlib setting\n",
    "%matplotlib inline\n",
    "import matplotlib.pyplot as plt\n",
    "\n",
    "# to print logs in jupyter notebook\n",
    "import logging\n",
    "logging.basicConfig(format='%(levelname)s:%(message)s', level=logging.ERROR)\n",
    "\n",
    "# load GraphRicciCuravture package\n",
    "from GraphRicciCurvature.OllivierRicci import OllivierRicci\n",
    "from GraphRicciCurvature.FormanRicci import FormanRicci\n",
    "\n",
    "# load python-louvain for modularity computation\n",
    "import community as community_louvain\n",
    "\n",
    "# for ARI computation\n",
    "from sklearn import preprocessing, metrics"
   ]
  },
  {
   "cell_type": "markdown",
   "id": "fa3e0edb-43b9-4afe-8d0f-01b21faf3004",
   "metadata": {},
   "source": [
    "## Get data, UMAP graph and UMAP low dimensional vectors"
   ]
  },
  {
   "cell_type": "code",
   "execution_count": 24,
   "id": "87352309-e8d9-4c70-97ac-175132259798",
   "metadata": {},
   "outputs": [],
   "source": [
    "dataset_id=0\n",
    "raw_data, targets, dataset_name = get_dataset(dataset_id=dataset_id)\n",
    "\n",
    "k = get_dataset_params(dataset_id)['n_neighbors']"
   ]
  },
  {
   "cell_type": "code",
   "execution_count": 16,
   "id": "e3f5c7ba-971d-4953-97c4-39e37a6a09df",
   "metadata": {},
   "outputs": [],
   "source": [
    "# print(f'We are building a {k}-NN graph for dataset {dataset_name}')\n",
    "# A_umap, sigmas, rhos, dists = umap.umap_.fuzzy_simplicial_set(X=raw_data, \n",
    "#                                              n_neighbors=k, \n",
    "#                                              random_state=0, \n",
    "#                                              metric='euclidean', \n",
    "#                                              return_dists=True,\n",
    "#                                              set_op_mix_ratio=1)\n",
    "# umap_rep = get_umap_vectors(dataset_id=dataset_id, raw_data=raw_data)\n",
    "\n",
    "# A = (A_umap > 0)\n",
    "# G = nx.from_scipy_sparse_matrix(A)"
   ]
  },
  {
   "cell_type": "code",
   "execution_count": 25,
   "id": "0fd92e55-c984-4458-a700-2f2a1c4f9b5e",
   "metadata": {},
   "outputs": [
    {
     "name": "stdout",
     "output_type": "stream",
     "text": [
      "We are building a directed 15-NN graph for dataset pendigits\n"
     ]
    }
   ],
   "source": [
    "print(f'We are building a directed {k}-NN graph for dataset {dataset_name}')\n",
    "G = knn_digraph(raw_data, k=k, graph_type='nx')"
   ]
  },
  {
   "cell_type": "code",
   "execution_count": 30,
   "id": "d7dacc29-3398-4fed-9a31-013db5d380d1",
   "metadata": {},
   "outputs": [
    {
     "name": "stdout",
     "output_type": "stream",
     "text": [
      "\n",
      "=====  Compute Ricci flow metric - Optimal Transportation Distance =====\n"
     ]
    },
    {
     "name": "stderr",
     "output_type": "stream",
     "text": [
      "2023-03-21 16:36:45,650 - OllivierRicci - INFO - No ricciCurvature detected, compute original_RC...\n",
      "2023-03-21 16:36:46,666 - OllivierRicci - INFO - 0.583161 secs for Ricci curvature computation.\n",
      "2023-03-21 16:36:46,927 - OllivierRicci - INFO -  === Ricci flow iteration 0 === \n",
      "2023-03-21 16:36:47,933 - OllivierRicci - INFO - 0.561057 secs for Ricci curvature computation.\n",
      "2023-03-21 16:36:48,183 - OllivierRicci - INFO -  === Ricci flow iteration 1 === \n",
      "2023-03-21 16:36:49,180 - OllivierRicci - INFO - 0.564841 secs for Ricci curvature computation.\n",
      "2023-03-21 16:36:49,432 - OllivierRicci - INFO -  === Ricci flow iteration 2 === \n",
      "2023-03-21 16:36:50,432 - OllivierRicci - INFO - 0.570502 secs for Ricci curvature computation.\n",
      "2023-03-21 16:36:50,683 - OllivierRicci - INFO -  === Ricci flow iteration 3 === \n",
      "2023-03-21 16:36:51,677 - OllivierRicci - INFO - 0.564937 secs for Ricci curvature computation.\n",
      "2023-03-21 16:36:51,928 - OllivierRicci - INFO -  === Ricci flow iteration 4 === \n",
      "2023-03-21 16:36:53,201 - OllivierRicci - INFO - 0.842290 secs for Ricci curvature computation.\n",
      "2023-03-21 16:36:53,450 - OllivierRicci - INFO -  === Ricci flow iteration 5 === \n",
      "2023-03-21 16:36:54,482 - OllivierRicci - INFO - 0.600992 secs for Ricci curvature computation.\n",
      "2023-03-21 16:36:54,742 - OllivierRicci - INFO -  === Ricci flow iteration 6 === \n",
      "2023-03-21 16:36:55,757 - OllivierRicci - INFO - 0.565134 secs for Ricci curvature computation.\n",
      "2023-03-21 16:36:56,016 - OllivierRicci - INFO -  === Ricci flow iteration 7 === \n",
      "2023-03-21 16:36:57,014 - OllivierRicci - INFO - 0.562044 secs for Ricci curvature computation.\n",
      "2023-03-21 16:36:57,272 - OllivierRicci - INFO -  === Ricci flow iteration 8 === \n",
      "2023-03-21 16:36:58,279 - OllivierRicci - INFO - 0.573195 secs for Ricci curvature computation.\n",
      "2023-03-21 16:36:58,539 - OllivierRicci - INFO -  === Ricci flow iteration 9 === \n",
      "2023-03-21 16:36:59,535 - OllivierRicci - INFO - 0.552476 secs for Ricci curvature computation.\n",
      "2023-03-21 16:36:59,719 - OllivierRicci - INFO - 14.073057 secs for Ricci flow computation.\n"
     ]
    },
    {
     "data": {
      "text/plain": [
       "<networkx.classes.graph.Graph at 0x7f059d7309d0>"
      ]
     },
     "execution_count": 30,
     "metadata": {},
     "output_type": "execute_result"
    }
   ],
   "source": [
    "print(\"\\n=====  Compute Ricci flow metric - Optimal Transportation Distance =====\")\n",
    "\n",
    "orc_OTD = OllivierRicci(G, alpha=0.5, method=\"OTD\", verbose=\"INFO\")\n",
    "orc_OTD.compute_ricci_flow(iterations=10)"
   ]
  },
  {
   "cell_type": "code",
   "execution_count": 34,
   "id": "1c18aca8-6deb-4dbb-9f76-ad15c72c5a53",
   "metadata": {},
   "outputs": [
    {
     "data": {
      "text/plain": [
       "EdgeDataView([(0, 877, {'weight': 0.24875737407386794, 'bi_directional': True, 'ricciCurvature': 0.04177100887824581, 'original_RC': 0.9254457474510525}), (0, 1365, {'weight': 0.26803208161942393, 'bi_directional': True, 'ricciCurvature': 0.05419709529298167, 'original_RC': 0.9277631139748483}), (0, 1541, {'weight': 0.6195173709040442, 'bi_directional': True, 'ricciCurvature': 0.02008555451854266, 'original_RC': 0.7479680722797124}), (0, 1167, {'weight': 0.2598946446087138, 'bi_directional': True, 'ricciCurvature': 0.044818307521499734, 'original_RC': 0.9130334183468696}), (0, 1029, {'weight': 0.2789131175674377, 'bi_directional': True, 'ricciCurvature': 0.04579851115098765, 'original_RC': 0.8848329571861592}), (0, 464, {'weight': 0.6784099121638039, 'bi_directional': True, 'ricciCurvature': 0.043305527151442424, 'original_RC': 0.7283469672574134}), (0, 957, {'weight': 1.0725231963836426, 'bi_directional': True, 'ricciCurvature': 0.0015872063386352941, 'original_RC': 0.24633413519610903}), (0, 1697, {'weight': 0.3141127316426769, 'bi_directional': True, 'ricciCurvature': 0.06642786284519397, 'original_RC': 0.47340319745410275}), (0, 855, {'weight': 0.924682421261936, 'bi_directional': True, 'ricciCurvature': -0.006513543835804603, 'original_RC': 0.6638539250624083}), (0, 335, {'weight': 0.32638444763046526, 'bi_directional': True, 'ricciCurvature': 0.05646958503735289, 'original_RC': 0.16202518206955085}), (0, 1463, {'weight': 1.4671747067156466, 'bi_directional': True, 'ricciCurvature': -0.009120125235144716, 'original_RC': 0.003762549907522672}), (0, 1494, {'weight': 1.1751952060868556, 'bi_directional': True, 'ricciCurvature': 0.00160737843058123, 'original_RC': 0.009819407338550246}), (0, 676, {'weight': 0.41549859536378664, 'bi_directional': True, 'ricciCurvature': 0.06075337203687814, 'original_RC': 0.31760487378310465}), (0, 276, {'weight': 0.510265030838132, 'bi_directional': True, 'ricciCurvature': 0.05208587961611999, 'original_RC': -0.010020094273365254}), (0, 30, {'weight': 0.5481216370863383, 'bi_directional': True, 'ricciCurvature': 0.07476407253831074, 'original_RC': 0.23856355014755903}), (0, 286, {'weight': 0.5625277051493653, 'bi_directional': True, 'ricciCurvature': 0.0650308558427024, 'original_RC': -1.0790913251611363}), (0, 292, {'weight': 0.36025384643700237, 'bi_directional': True, 'ricciCurvature': 0.06077297495045575, 'original_RC': -1.302370875994832}), (0, 328, {'weight': 0.5253326698258801, 'bi_directional': True, 'ricciCurvature': 0.06390877509196113, 'original_RC': 0.15400687236982247}), (0, 536, {'weight': 0.7388777304134024, 'bi_directional': True, 'ricciCurvature': 0.06438947506648485, 'original_RC': 0.17538852189752996}), (0, 571, {'weight': 0.5417475015896883, 'bi_directional': True, 'ricciCurvature': 0.06909976277789376, 'original_RC': 0.2848450338321614}), (0, 656, {'weight': 0.4370227899420741, 'bi_directional': True, 'ricciCurvature': 0.04988341452582712, 'original_RC': 0.3466399559360064}), (0, 695, {'weight': 0.2843616243426581, 'bi_directional': True, 'ricciCurvature': 0.05330078527425908, 'original_RC': 0.21338487272454776}), (0, 980, {'weight': 0.9255315853509755, 'bi_directional': True, 'ricciCurvature': 0.01358412701489864, 'original_RC': 0.27876894270873376}), (0, 1128, {'weight': 0.6176513464106944, 'bi_directional': True, 'ricciCurvature': 0.033848457521884034, 'original_RC': 0.5022055756231609}), (0, 1177, {'weight': 0.3307287081147241, 'bi_directional': True, 'ricciCurvature': 0.07261288835149093, 'original_RC': 0.562701896513969}), (0, 1235, {'weight': 0.4268114610731847, 'bi_directional': True, 'ricciCurvature': 0.051552562848650174, 'original_RC': 0.24710071612441176}), (0, 1236, {'weight': 0.40997689596878445, 'bi_directional': True, 'ricciCurvature': 0.05104827331958017, 'original_RC': 0.3308218163650759}), (0, 1283, {'weight': 0.46993642573059285, 'bi_directional': True, 'ricciCurvature': 0.04743356338395277, 'original_RC': 0.20151575032758118}), (0, 1716, {'weight': 0.3730047016239704, 'bi_directional': True, 'ricciCurvature': 0.058721124761556664, 'original_RC': 0.19934586506692276})])"
      ]
     },
     "execution_count": 34,
     "metadata": {},
     "output_type": "execute_result"
    }
   ],
   "source": [
    "orc_OTD.G.edges([0], data=True)"
   ]
  },
  {
   "cell_type": "code",
   "execution_count": 27,
   "id": "22a1f1e8-754f-48fe-a59b-9e8add48dd86",
   "metadata": {},
   "outputs": [
    {
     "name": "stderr",
     "output_type": "stream",
     "text": [
      "2023-03-21 16:17:57,616 - OllivierRicci - INFO - Ricci flow not detected yet, run Ricci flow with default setting first...\n",
      "2023-03-21 16:17:57,642 - OllivierRicci - INFO - No ricciCurvature detected, compute original_RC...\n"
     ]
    },
    {
     "name": "stdout",
     "output_type": "stream",
     "text": [
      "\n",
      "=====  Compute Ricci community - by Ricci flow =====\n"
     ]
    },
    {
     "name": "stderr",
     "output_type": "stream",
     "text": [
      "2023-03-21 16:17:58,662 - OllivierRicci - INFO - 0.586883 secs for Ricci curvature computation.\n",
      "2023-03-21 16:17:58,918 - OllivierRicci - INFO -  === Ricci flow iteration 0 === \n",
      "2023-03-21 16:18:01,286 - OllivierRicci - INFO - 1.216654 secs for Ricci curvature computation.\n",
      "2023-03-21 16:18:02,054 - OllivierRicci - INFO -  === Ricci flow iteration 1 === \n",
      "2023-03-21 16:18:04,257 - OllivierRicci - INFO - 1.366657 secs for Ricci curvature computation.\n",
      "2023-03-21 16:18:04,908 - OllivierRicci - INFO -  === Ricci flow iteration 2 === \n",
      "2023-03-21 16:18:07,084 - OllivierRicci - INFO - 1.266373 secs for Ricci curvature computation.\n",
      "2023-03-21 16:18:07,573 - OllivierRicci - INFO -  === Ricci flow iteration 3 === \n",
      "2023-03-21 16:18:09,470 - OllivierRicci - INFO - 1.065014 secs for Ricci curvature computation.\n",
      "2023-03-21 16:18:10,040 - OllivierRicci - INFO -  === Ricci flow iteration 4 === \n",
      "2023-03-21 16:18:12,504 - OllivierRicci - INFO - 1.630779 secs for Ricci curvature computation.\n",
      "2023-03-21 16:18:13,045 - OllivierRicci - INFO -  === Ricci flow iteration 5 === \n",
      "2023-03-21 16:18:15,059 - OllivierRicci - INFO - 1.172555 secs for Ricci curvature computation.\n",
      "2023-03-21 16:18:15,817 - OllivierRicci - INFO -  === Ricci flow iteration 6 === \n",
      "2023-03-21 16:18:17,992 - OllivierRicci - INFO - 1.168859 secs for Ricci curvature computation.\n",
      "2023-03-21 16:18:18,528 - OllivierRicci - INFO -  === Ricci flow iteration 7 === \n",
      "2023-03-21 16:18:20,571 - OllivierRicci - INFO - 1.168767 secs for Ricci curvature computation.\n",
      "2023-03-21 16:18:21,133 - OllivierRicci - INFO -  === Ricci flow iteration 8 === \n",
      "2023-03-21 16:18:23,130 - OllivierRicci - INFO - 1.117025 secs for Ricci curvature computation.\n",
      "2023-03-21 16:18:23,960 - OllivierRicci - INFO -  === Ricci flow iteration 9 === \n",
      "2023-03-21 16:18:25,927 - OllivierRicci - INFO - 1.067979 secs for Ricci curvature computation.\n",
      "2023-03-21 16:18:26,372 - OllivierRicci - INFO - 28.735097 secs for Ricci flow computation.\n",
      "2023-03-21 16:18:26,377 - OllivierRicci - INFO - Ricci flow detected, start cutting graph into community...\n",
      "2023-03-21 16:20:06,105 - OllivierRicci - INFO - Communities detected: 10\n"
     ]
    },
    {
     "name": "stdout",
     "output_type": "stream",
     "text": [
      "CPU times: user 2min 36s, sys: 7.42 s, total: 2min 44s\n",
      "Wall time: 2min 8s\n"
     ]
    }
   ],
   "source": [
    "%%time\n",
    "print(\"\\n=====  Compute Ricci community - by Ricci flow =====\")\n",
    "clustering = orc_OTD.ricci_community()"
   ]
  },
  {
   "cell_type": "code",
   "execution_count": 28,
   "id": "15f920eb-f112-4542-9b84-21f48dd42d6b",
   "metadata": {},
   "outputs": [
    {
     "name": "stdout",
     "output_type": "stream",
     "text": [
      "ARI = -0.003938781961610883 and AMI = -0.008027498514716966\n"
     ]
    }
   ],
   "source": [
    "labels = list(clustering[1].values())\n",
    "ari = adjusted_rand_score(targets, labels)\n",
    "ami = adjusted_mutual_info_score(targets, labels)\n",
    "print(f'ARI = {ari} and AMI = {ami}') "
   ]
  },
  {
   "cell_type": "code",
   "execution_count": null,
   "id": "98547da1-65ed-4c7b-98d4-707dfaaf2eb5",
   "metadata": {},
   "outputs": [],
   "source": [
    "nx."
   ]
  },
  {
   "cell_type": "code",
   "execution_count": 11,
   "id": "6579dab7-51c0-47d2-8c07-937565817c9b",
   "metadata": {},
   "outputs": [],
   "source": [
    "import community as community_louvain"
   ]
  },
  {
   "cell_type": "code",
   "execution_count": 13,
   "id": "d18f3e6b-96c2-42d0-ba30-c7c8eed8e36c",
   "metadata": {},
   "outputs": [],
   "source": [
    "# Equation 14 from CAMEL paper\n",
    "\n",
    "def update_weights(G, w_max, epsilon = 0.01):\n",
    "    \n",
    "    rescale = (G.number_of_edges()/G.size(weight=\"weight\"))\n",
    "    G_tmp = G.copy()\n",
    "    \n",
    "    rescale_w = {\n",
    "        (u, v): \n",
    "        {'weight': ed['weight']*rescale} for u, v, ed in G.edges.data()\n",
    "    }\n",
    "    nx.set_edge_attributes(G_tmp, rescale_w)\n",
    "    \n",
    "    orc = OllivierRicci(G_tmp, alpha=0.5, verbose=\"TRACE\")\n",
    "    orc.compute_ricci_curvature()\n",
    "    G_orc = orc.G.copy()  # save an intermediate result\n",
    "    \n",
    "    res = {\n",
    "        (u, v): \n",
    "        {'weight': max( 0, ed['weight'] - 2*epsilon*(G_orc.nodes[u]['ricciCurvature']+G_orc.nodes[v]['ricciCurvature']) )} \n",
    "        for u, v, ed in G_tmp.edges.data(data=True)\n",
    "    }\n",
    "    return(res)"
   ]
  },
  {
   "cell_type": "code",
   "execution_count": null,
   "id": "0ad2ecd1-3448-4cab-b63d-db177638c8b6",
   "metadata": {},
   "outputs": [],
   "source": [
    "for i in range(4):\n",
    "    louvain_communities = list(community_louvain.best_partition(G, random_state=0).values())\n",
    "    ari = adjusted_rand_score(targets, louvain_communities)\n",
    "    ami = adjusted_mutual_info_score(targets, louvain_communities)\n",
    "    w_max = max([ed['weight'] for u, v, ed in G.edges.data(data=True)])\n",
    "    \n",
    "    print(f'Round {i}: max edge weight is {w_max}\\nARI = {ari} and AMI = {ami}')   \n",
    "    \n",
    "    new_weights =  update_weights(G, w_max)\n",
    "    nx.set_edge_attributes(G, new_weights)\n",
    "    ebunch = [(u,v) for u, v, ed in G.edges.data(data=True) if ed['weight']<0.01]\n",
    "    G.remove_edges_from(ebunch)"
   ]
  },
  {
   "cell_type": "code",
   "execution_count": null,
   "id": "b68a91be-8973-43c5-b1bb-93c2294ef226",
   "metadata": {},
   "outputs": [],
   "source": []
  },
  {
   "cell_type": "code",
   "execution_count": null,
   "id": "714f7ef5-67ae-44c5-b7bb-8eafdc831d6a",
   "metadata": {},
   "outputs": [],
   "source": []
  },
  {
   "cell_type": "code",
   "execution_count": null,
   "id": "2d046198-9a23-446b-9e0d-55d1701e7717",
   "metadata": {},
   "outputs": [],
   "source": []
  },
  {
   "cell_type": "code",
   "execution_count": 10,
   "id": "e9bc71e0-5f15-43e5-9fea-3c261fa149c4",
   "metadata": {},
   "outputs": [
    {
     "name": "stderr",
     "output_type": "stream",
     "text": [
      "2023-03-20 18:59:55,246 - OllivierRicci - INFO - Edge weight not detected in graph, use \"weight\" as default edge weight.\n"
     ]
    },
    {
     "name": "stdout",
     "output_type": "stream",
     "text": [
      "\n",
      "- Import an example NetworkX karate club graph\n",
      "\n",
      "===== Compute the Ollivier-Ricci curvature of the given graph G =====\n"
     ]
    },
    {
     "name": "stderr",
     "output_type": "stream",
     "text": [
      "2023-03-20 18:59:55,846 - OllivierRicci - INFO - 0.589710 secs for Ricci curvature computation.\n",
      "2023-03-20 18:59:55,849 - FormanRicci - INFO - Edge weight not detected in graph, use \"weight\" as default edge weight.\n",
      "2023-03-20 18:59:55,849 - FormanRicci - INFO - Node weight not detected in graph, use \"weight\" as default node weight.\n",
      "2023-03-20 18:59:55,853 - OllivierRicci - INFO - Edge weight not detected in graph, use \"weight\" as default edge weight.\n",
      "2023-03-20 18:59:55,854 - OllivierRicci - INFO - No ricciCurvature detected, compute original_RC...\n"
     ]
    },
    {
     "name": "stdout",
     "output_type": "stream",
     "text": [
      "Karate Club Graph: The Ollivier-Ricci curvature of edge (0,1) is 0.111111\n",
      "\n",
      "===== Compute the Forman-Ricci curvature of the given graph G =====\n",
      "Karate Club Graph: The Forman-Ricci curvature of edge (0,1) is 0.000000\n",
      "\n",
      "=====  Compute Ricci flow metric - Optimal Transportation Distance =====\n"
     ]
    },
    {
     "name": "stderr",
     "output_type": "stream",
     "text": [
      "2023-03-20 18:59:56,386 - OllivierRicci - INFO - 0.530529 secs for Ricci curvature computation.\n",
      "2023-03-20 18:59:56,389 - OllivierRicci - INFO -  === Ricci flow iteration 0 === \n",
      "2023-03-20 18:59:56,909 - OllivierRicci - INFO - 0.519525 secs for Ricci curvature computation.\n",
      "2023-03-20 18:59:56,912 - OllivierRicci - INFO -  === Ricci flow iteration 1 === \n",
      "2023-03-20 18:59:57,455 - OllivierRicci - INFO - 0.540801 secs for Ricci curvature computation.\n",
      "2023-03-20 18:59:57,457 - OllivierRicci - INFO -  === Ricci flow iteration 2 === \n",
      "2023-03-20 18:59:58,006 - OllivierRicci - INFO - 0.547091 secs for Ricci curvature computation.\n",
      "2023-03-20 18:59:58,009 - OllivierRicci - INFO -  === Ricci flow iteration 3 === \n",
      "2023-03-20 18:59:58,559 - OllivierRicci - INFO - 0.548626 secs for Ricci curvature computation.\n",
      "2023-03-20 18:59:58,562 - OllivierRicci - INFO -  === Ricci flow iteration 4 === \n",
      "2023-03-20 18:59:59,102 - OllivierRicci - INFO - 0.539006 secs for Ricci curvature computation.\n",
      "2023-03-20 18:59:59,105 - OllivierRicci - INFO -  === Ricci flow iteration 5 === \n",
      "2023-03-20 18:59:59,631 - OllivierRicci - INFO - 0.524942 secs for Ricci curvature computation.\n",
      "2023-03-20 18:59:59,634 - OllivierRicci - INFO -  === Ricci flow iteration 6 === \n",
      "2023-03-20 19:00:00,152 - OllivierRicci - INFO - 0.516246 secs for Ricci curvature computation.\n",
      "2023-03-20 19:00:00,155 - OllivierRicci - INFO -  === Ricci flow iteration 7 === \n",
      "2023-03-20 19:00:00,706 - OllivierRicci - INFO - 0.549313 secs for Ricci curvature computation.\n",
      "2023-03-20 19:00:00,708 - OllivierRicci - INFO -  === Ricci flow iteration 8 === \n",
      "2023-03-20 19:00:01,250 - OllivierRicci - INFO - 0.539824 secs for Ricci curvature computation.\n",
      "2023-03-20 19:00:01,252 - OllivierRicci - INFO -  === Ricci flow iteration 9 === \n",
      "2023-03-20 19:00:01,801 - OllivierRicci - INFO - 0.547088 secs for Ricci curvature computation.\n",
      "2023-03-20 19:00:01,804 - OllivierRicci - INFO - 5.950059 secs for Ricci flow computation.\n",
      "2023-03-20 19:00:01,804 - OllivierRicci - INFO - Ricci flow detected, start cutting graph into community...\n",
      "2023-03-20 19:00:01,862 - OllivierRicci - INFO - Communities detected: 5\n"
     ]
    },
    {
     "name": "stdout",
     "output_type": "stream",
     "text": [
      "\n",
      "=====  Compute Ricci community - by Ricci flow =====\n"
     ]
    }
   ],
   "source": [
    "import networkx as nx\n",
    "from GraphRicciCurvature.OllivierRicci import OllivierRicci\n",
    "from GraphRicciCurvature.FormanRicci import FormanRicci\n",
    "\n",
    "print(\"\\n- Import an example NetworkX karate club graph\")\n",
    "G = nx.karate_club_graph()\n",
    "\n",
    "print(\"\\n===== Compute the Ollivier-Ricci curvature of the given graph G =====\")\n",
    "# compute the Ollivier-Ricci curvature of the given graph G\n",
    "orc = OllivierRicci(G, alpha=0.5, verbose=\"INFO\")\n",
    "orc.compute_ricci_curvature()\n",
    "print(\"Karate Club Graph: The Ollivier-Ricci curvature of edge (0,1) is %f\" % orc.G[0][1][\"ricciCurvature\"])\n",
    "\n",
    "print(\"\\n===== Compute the Forman-Ricci curvature of the given graph G =====\")\n",
    "frc = FormanRicci(G)\n",
    "frc.compute_ricci_curvature()\n",
    "print(\"Karate Club Graph: The Forman-Ricci curvature of edge (0,1) is %f\" % frc.G[0][1][\"formanCurvature\"])\n",
    "\n",
    "# -----------------------------------\n",
    "print(\"\\n=====  Compute Ricci flow metric - Optimal Transportation Distance =====\")\n",
    "G = nx.karate_club_graph()\n",
    "orc_OTD = OllivierRicci(G, alpha=0.5, method=\"OTD\", verbose=\"INFO\")\n",
    "orc_OTD.compute_ricci_flow(iterations=10)\n",
    "print(\"\\n=====  Compute Ricci community - by Ricci flow =====\")\n",
    "clustering = orc_OTD.ricci_community()"
   ]
  },
  {
   "cell_type": "code",
   "execution_count": 13,
   "id": "0e380323-58e3-4b7b-9967-a72537120fa3",
   "metadata": {},
   "outputs": [
    {
     "ename": "AttributeError",
     "evalue": "'list' object has no attribute 'items'",
     "output_type": "error",
     "traceback": [
      "\u001b[0;31m---------------------------------------------------------------------------\u001b[0m",
      "\u001b[0;31mAttributeError\u001b[0m                            Traceback (most recent call last)",
      "\u001b[0;32m/tmp/ipykernel_2498944/1211347031.py\u001b[0m in \u001b[0;36m<module>\u001b[0;34m\u001b[0m\n\u001b[1;32m      1\u001b[0m \u001b[0mpos\u001b[0m \u001b[0;34m=\u001b[0m \u001b[0mnx\u001b[0m\u001b[0;34m.\u001b[0m\u001b[0mspring_layout\u001b[0m\u001b[0;34m(\u001b[0m\u001b[0mG\u001b[0m\u001b[0;34m,\u001b[0m \u001b[0mseed\u001b[0m\u001b[0;34m=\u001b[0m\u001b[0;36m3113794652\u001b[0m\u001b[0;34m)\u001b[0m  \u001b[0;31m# positions for all nodes\u001b[0m\u001b[0;34m\u001b[0m\u001b[0;34m\u001b[0m\u001b[0m\n\u001b[0;32m----> 2\u001b[0;31m \u001b[0mnx\u001b[0m\u001b[0;34m.\u001b[0m\u001b[0mdraw_networkx_labels\u001b[0m\u001b[0;34m(\u001b[0m\u001b[0mG\u001b[0m\u001b[0;34m,\u001b[0m \u001b[0mpos\u001b[0m\u001b[0;34m=\u001b[0m\u001b[0mpos\u001b[0m\u001b[0;34m,\u001b[0m \u001b[0mlabels\u001b[0m \u001b[0;34m=\u001b[0m \u001b[0mlist\u001b[0m\u001b[0;34m(\u001b[0m\u001b[0mclustering\u001b[0m\u001b[0;34m[\u001b[0m\u001b[0;36m1\u001b[0m\u001b[0;34m]\u001b[0m\u001b[0;34m.\u001b[0m\u001b[0mvalues\u001b[0m\u001b[0;34m(\u001b[0m\u001b[0;34m)\u001b[0m\u001b[0;34m)\u001b[0m\u001b[0;34m)\u001b[0m\u001b[0;34m\u001b[0m\u001b[0;34m\u001b[0m\u001b[0m\n\u001b[0m",
      "\u001b[0;32m~/.conda/envs/high-dim-easydata/lib/python3.7/site-packages/networkx/drawing/nx_pylab.py\u001b[0m in \u001b[0;36mdraw_networkx_labels\u001b[0;34m(G, pos, labels, font_size, font_color, font_family, font_weight, alpha, bbox, horizontalalignment, verticalalignment, ax, clip_on)\u001b[0m\n\u001b[1;32m    971\u001b[0m \u001b[0;34m\u001b[0m\u001b[0m\n\u001b[1;32m    972\u001b[0m     \u001b[0mtext_items\u001b[0m \u001b[0;34m=\u001b[0m \u001b[0;34m{\u001b[0m\u001b[0;34m}\u001b[0m  \u001b[0;31m# there is no text collection so we'll fake one\u001b[0m\u001b[0;34m\u001b[0m\u001b[0;34m\u001b[0m\u001b[0m\n\u001b[0;32m--> 973\u001b[0;31m     \u001b[0;32mfor\u001b[0m \u001b[0mn\u001b[0m\u001b[0;34m,\u001b[0m \u001b[0mlabel\u001b[0m \u001b[0;32min\u001b[0m \u001b[0mlabels\u001b[0m\u001b[0;34m.\u001b[0m\u001b[0mitems\u001b[0m\u001b[0;34m(\u001b[0m\u001b[0;34m)\u001b[0m\u001b[0;34m:\u001b[0m\u001b[0;34m\u001b[0m\u001b[0;34m\u001b[0m\u001b[0m\n\u001b[0m\u001b[1;32m    974\u001b[0m         \u001b[0;34m(\u001b[0m\u001b[0mx\u001b[0m\u001b[0;34m,\u001b[0m \u001b[0my\u001b[0m\u001b[0;34m)\u001b[0m \u001b[0;34m=\u001b[0m \u001b[0mpos\u001b[0m\u001b[0;34m[\u001b[0m\u001b[0mn\u001b[0m\u001b[0;34m]\u001b[0m\u001b[0;34m\u001b[0m\u001b[0;34m\u001b[0m\u001b[0m\n\u001b[1;32m    975\u001b[0m         \u001b[0;32mif\u001b[0m \u001b[0;32mnot\u001b[0m \u001b[0misinstance\u001b[0m\u001b[0;34m(\u001b[0m\u001b[0mlabel\u001b[0m\u001b[0;34m,\u001b[0m \u001b[0mstr\u001b[0m\u001b[0;34m)\u001b[0m\u001b[0;34m:\u001b[0m\u001b[0;34m\u001b[0m\u001b[0;34m\u001b[0m\u001b[0m\n",
      "\u001b[0;31mAttributeError\u001b[0m: 'list' object has no attribute 'items'"
     ]
    },
    {
     "data": {
      "image/png": "[encoded data removed]",
      "text/plain": [
       "<Figure size 640x480 with 1 Axes>"
      ]
     },
     "metadata": {},
     "output_type": "display_data"
    }
   ],
   "source": [
    "pos = nx.spring_layout(G, seed=3113794652)  # positions for all nodes\n",
    "nx.draw_networkx_labels(G, pos=pos, labels = list(clustering[1].values()))"
   ]
  },
  {
   "cell_type": "code",
   "execution_count": 19,
   "id": "5f8bcae5-a721-4ca4-914d-85a102951c66",
   "metadata": {},
   "outputs": [
    {
     "data": {
      "text/plain": [
       "{0: array([0.27933992, 0.21289285]),\n",
       " 1: array([0.11722523, 0.2338933 ]),\n",
       " 2: array([-0.01139837,  0.0047608 ]),\n",
       " 3: array([0.10201642, 0.34242587]),\n",
       " 4: array([0.6238287 , 0.36455273]),\n",
       " 5: array([0.72891721, 0.1463939 ]),\n",
       " 6: array([0.74023642, 0.26623287]),\n",
       " 7: array([0.01513966, 0.31295539]),\n",
       " 8: array([-0.12875003,  0.04859826]),\n",
       " 9: array([ 0.04290113, -0.19445973]),\n",
       " 10: array([0.60211232, 0.2061179 ]),\n",
       " 11: array([0.41058371, 0.61454636]),\n",
       " 12: array([0.17709171, 0.56270319]),\n",
       " 13: array([-0.01103545,  0.1450135 ]),\n",
       " 14: array([-0.60704258, -0.02429042]),\n",
       " 15: array([-0.52782907,  0.05968732]),\n",
       " 16: array([1.        , 0.19697871]),\n",
       " 17: array([0.39005528, 0.36900437]),\n",
       " 18: array([-0.63150159, -0.12862366]),\n",
       " 19: array([0.10506698, 0.0096783 ]),\n",
       " 20: array([-0.62378195, -0.23211394]),\n",
       " 21: array([0.28614154, 0.4652185 ]),\n",
       " 22: array([-0.5785844 , -0.33220839]),\n",
       " 23: array([-0.38032792, -0.44334852]),\n",
       " 24: array([-0.07480858, -0.60777356]),\n",
       " 25: array([-0.24465807, -0.63428595]),\n",
       " 26: array([-0.25865115, -0.50170042]),\n",
       " 27: array([-0.15884062, -0.36629528]),\n",
       " 28: array([ 0.01236443, -0.29674676]),\n",
       " 29: array([-0.40702735, -0.35816651]),\n",
       " 30: array([-0.24545661,  0.11010436]),\n",
       " 31: array([-0.0721621 , -0.25988777]),\n",
       " 32: array([-0.38468817, -0.13076405]),\n",
       " 33: array([-0.28647667, -0.16109351])}"
      ]
     },
     "execution_count": 19,
     "metadata": {},
     "output_type": "execute_result"
    }
   ],
   "source": [
    "pos"
   ]
  }
 ],
 "metadata": {
  "kernelspec": {
   "display_name": "high-dim-easydata",
   "language": "python",
   "name": "high-dim-easydata"
  },
  "language_info": {
   "codemirror_mode": {
    "name": "ipython",
    "version": 3
   },
   "file_extension": ".py",
   "mimetype": "text/x-python",
   "name": "python",
   "nbconvert_exporter": "python",
   "pygments_lexer": "ipython3",
   "version": "3.7.13"
  }
 },
 "nbformat": 4,
 "nbformat_minor": 5
}
