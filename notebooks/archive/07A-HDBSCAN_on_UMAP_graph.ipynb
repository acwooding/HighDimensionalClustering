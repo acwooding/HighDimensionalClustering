{
 "cells": [
  {
   "cell_type": "markdown",
   "id": "e4e429df",
   "metadata": {
    "tags": []
   },
   "source": [
    "# Persistent single-linkage (HDBSCAN) clustering on sparse matrices\n",
    "\n",
    "This is our attempt at running an HDBSCAN approach (persistent single linkage) on a sparse distance matrix. We need to figure out how to include densities (and what densities to use), and how to feed it to HDBSCAN directly.\n",
    "\n",
    "The sparse distance matrices are obtained via transformation of the original UMAP weights OR original KNN-weights OR from some edge pruning strategies."
   ]
  },
  {
   "cell_type": "code",
   "execution_count": 1,
   "id": "e4875757-c802-423c-8bf8-8efd45ff78e3",
   "metadata": {},
   "outputs": [
    {
     "name": "stdout",
     "output_type": "stream",
     "text": [
      "  concensus\u001b[m\n",
      "* \u001b[32mmaster\u001b[m\n"
     ]
    }
   ],
   "source": [
    "!git branch"
   ]
  },
  {
   "cell_type": "code",
   "execution_count": 2,
   "id": "52d3bdf4-9b88-4008-93e6-5e6f656e5b94",
   "metadata": {},
   "outputs": [
    {
     "name": "stdout",
     "output_type": "stream",
     "text": [
      "['pendigits', 'coil', 'mnist', 'usps', 'buildings', 'clusterable']\n"
     ]
    }
   ],
   "source": [
    "execfile('functions/data_specifics.py')\n",
    "execfile('functions/graph_functions.py')\n",
    "print(data_set_list)"
   ]
  },
  {
   "cell_type": "code",
   "execution_count": 3,
   "id": "84a03c0f",
   "metadata": {},
   "outputs": [],
   "source": [
    "from IPython.display import display, Markdown, Latex\n",
    "from sklearn.metrics import adjusted_rand_score, adjusted_mutual_info_score, silhouette_score\n",
    "from sklearn import cluster\n",
    "\n",
    "import numpy as np\n",
    "import pandas as pd\n",
    "\n",
    "import matplotlib.pyplot as plt\n",
    "import seaborn as sns\n",
    "\n",
    "import umap\n",
    "from collections import Counter\n",
    "from scipy.stats import mode\n",
    "\n",
    "sns.set()"
   ]
  },
  {
   "cell_type": "code",
   "execution_count": 4,
   "id": "7941f209-c136-4981-8066-31a64b6e2723",
   "metadata": {},
   "outputs": [],
   "source": [
    "import hdbscan\n",
    "import scipy.sparse\n",
    "import sklearn.cluster\n",
    "from hdbscan._hdbscan_tree import (\n",
    "    condense_tree,\n",
    "    compute_stability,\n",
    "    get_clusters,\n",
    "    outlier_scores,\n",
    ")\n",
    "from hdbscan.plots import CondensedTree, SingleLinkageTree, MinimumSpanningTree"
   ]
  },
  {
   "cell_type": "markdown",
   "id": "26877179-761c-423a-8588-cdcd30adb10a",
   "metadata": {},
   "source": [
    "## Get clusters from a (disconnected) sparse distance matrix\n",
    "\n",
    "* The 0-values indicate \"far away\" points\n",
    "\n",
    "If the matrix has disconnected components (when viewed as a graph), HDBSCAN does not work. To get around this, we have tried clustering each component separately or just adding edges to glue the different parts together."
   ]
  },
  {
   "cell_type": "code",
   "execution_count": 5,
   "id": "0e1448e9-2e0c-4120-93e4-cce1acdad897",
   "metadata": {},
   "outputs": [],
   "source": [
    "def hdbscan_on_graph(distance_graph):\n",
    "    if scipy.sparse.csgraph.connected_components(distance_graph)[0] > 1:\n",
    "        n_components, components = scipy.sparse.csgraph.connected_components(distance_graph)\n",
    "        rj_labels = np.full(distance_graph.shape[0], -1, dtype=np.int64)\n",
    "        for i in range(n_components):\n",
    "            if np.sum(components == i) <= 90:\n",
    "                subgraph_labels = np.zeros(np.sum(components == i), dtype=np.int64)\n",
    "            else:\n",
    "                subgraph = distance_graph[components == i, :][:, components == i]\n",
    "                subgraph_labels = hdbscan.HDBSCAN(metric=\"precomputed\", min_samples=2, min_cluster_size=30, allow_single_cluster=subgraph.shape[0] < 300).fit_predict(subgraph)\n",
    "            subgraph_labels[subgraph_labels >= 0] += (rj_labels.max() + 1)\n",
    "            rj_labels[components == i] = subgraph_labels\n",
    "            # print(i, np.sum(components == i), Counter(subgraph_labels))\n",
    "    else:\n",
    "        rj_labels = hdbscan.HDBSCAN(metric=\"precomputed\", min_samples=2, min_cluster_size=30).fit_predict(distance_graph)\n",
    "    return(rj_labels)"
   ]
  },
  {
   "cell_type": "markdown",
   "id": "c5176aba-1a1b-4485-8ff8-34f0f230104c",
   "metadata": {
    "tags": []
   },
   "source": [
    "# Matrix transformations\n",
    "\n",
    "We are trying different edge weights before applying clustering the graph.\n",
    "\n",
    "The 4 matrices we get from UMAP are:\n",
    "* A_w is a sparse, non-symmetric matrix containing the umap weights (csr)\n",
    "* A_umap is the symmetrized version of A_w (csr)\n",
    "* dists is a sparse matrix containing the high dimensional distances (csr)\n",
    "* knn_dists is a dense matrix of size (number of points)x(k) containing the distance to the kNN in ascending order\n"
   ]
  },
  {
   "cell_type": "code",
   "execution_count": 30,
   "id": "62f47c4c-e649-4845-945d-cf193bf37328",
   "metadata": {},
   "outputs": [],
   "source": [
    "# Inverse values (this is an attempt for going from similarities to dissimilarities)\n",
    "def get_inverse_sim(A):\n",
    "\n",
    "    D = A.copy()\n",
    "    m = min(A.data)\n",
    "    if(m<0.001):\n",
    "        m = 0.001\n",
    "    else:\n",
    "        m = 0\n",
    "    v = np.array([1/(x+m) for x in A.data])\n",
    "    D.data = v\n",
    "        \n",
    "    return(D)\n",
    "\n",
    "def get_invlog_sim(A):\n",
    "\n",
    "    D = A.copy()\n",
    "    data = D.data/max(D.data)\n",
    "    v = -1*np.log(data)\n",
    "    D.data = v\n",
    "        \n",
    "    return(D)\n",
    "\n",
    "# This is another attempt for going from similarities to dissimilarities\n",
    "def get_negative_sim(A):\n",
    "\n",
    "    D = A.copy()\n",
    "    m = 1\n",
    "    if(max(A.data)>1):\n",
    "        m = max(A.data)\n",
    "    v = np.array([1-(x/m) for x in A.data])\n",
    "    D.data = v\n",
    "        \n",
    "    return(D)\n",
    "\n",
    "# Romeo and Juliet: each edge weights is replaced by the average of weights (including 0-weight)\n",
    "# between the two endpoints' neighborhoods. If a node appears in both neiborhoods, we \"clone\"\n",
    "# it and add an edge of weight 1 between the node and itself.\n",
    "def neighborhood_amplification(W, alpha = 0.5):\n",
    "    A = 1*(W!=0)\n",
    "    I = scipy.sparse.identity(A.shape[0])\n",
    "    \n",
    "    d = A.sum(axis=0).tolist()[0]\n",
    "    D_inv = scipy.sparse.diags([1/x for x in d])\n",
    "    \n",
    "    # + I is to include self-loops with edge weights of 1.\n",
    "    \n",
    "    # A : unweighted adjacency\n",
    "    # W : weighted adjacency\n",
    "    # D_inv : diagonal matrix of 1/d_i\n",
    "    M = D_inv*((A.T*(W+I)*A).multiply(A))*D_inv\n",
    "    P = (W+M) - W.multiply(M)\n",
    "    \n",
    "    #  mix_ratio(x+y-x*y) + (1-mix_ratio)(x*y)\n",
    "    R = ((1-alpha)*W+alpha*M)\n",
    "    \n",
    "    # R = alpha*(M+W-P) + (1-alpha)*(P)\n",
    "    return(R)\n",
    "\n",
    "# Count number of 1, 3 and 4 cycles and edge is involved in\n",
    "def get_egonet_distance(A_umap, plot_distribution=False):\n",
    "    # Make the matrix binary\n",
    "    A = 0.5*(A_umap!=0)\n",
    "    \n",
    "    counts = A.multiply(A + A*A + A*A*A)\n",
    "    \n",
    "    D = counts.copy()\n",
    "    D.data = np.array([1/x for x in D.data])\n",
    "        \n",
    "    return(D)\n",
    "\n",
    "def get_triangle_distance(A_w):\n",
    "    # Make the matrix binary\n",
    "    A = 1*(A_w!=0)\n",
    "    # Count number of triangles in which each pair of node is involved\n",
    "    counts = A.multiply(A*A)\n",
    "    \n",
    "    C = dict()\n",
    "    N = max(counts.data)\n",
    "    for n in range(1,N+1):\n",
    "        C[n] = (counts==n)*1/n\n",
    "    D_count = C[2]\n",
    "    for n in range(3,N+1):\n",
    "        D_count += C[n]\n",
    "    B = (A.copy())*0.001\n",
    "    BisBigger = B>D_count\n",
    "    D = D_count - D_count.multiply(BisBigger) + B.multiply(BisBigger)\n",
    "    return(D)\n",
    "\n",
    "# Replace high dimensional points by the centroid of their neighbors\n",
    "def get_avg_neighbor_distance(raw_data, k=8):\n",
    "    A_w = knn_adjacency(X=raw_data, k=k)\n",
    "    w_d = np.mean(A_w.sum(axis=1))\n",
    "    family_data = (1/w_d)*(A_w.T)*raw_data\n",
    "    \n",
    "    # if(k is None):\n",
    "    #     k = get_dataset_params(dataset_id)['n_neighbors']\n",
    "\n",
    "    A_umap, sigmas, rhos, dists = umap.umap_.fuzzy_simplicial_set(X=family_data, \n",
    "                                                     n_neighbors=k, \n",
    "                                                     random_state=0, \n",
    "                                                     metric='euclidean', \n",
    "                                                     return_dists=True,\n",
    "                                                    set_op_mix_ratio=0.5)\n",
    "\n",
    "    # D = get_inverse_sim(A_umap)\n",
    "    D = get_invlog_sim(A_umap)\n",
    "    return(D)"
   ]
  },
  {
   "cell_type": "markdown",
   "id": "98d169fe-f792-44f3-804f-2491582d49d1",
   "metadata": {},
   "source": [
    "# Clustering algorithm\n",
    "These are the steps we use to feed a sparse distance matrix to the single linkage...\n",
    "We are not using HDBSCAN at the moment, but this is where we would like to go."
   ]
  },
  {
   "cell_type": "raw",
   "id": "5d01937a-c958-43b3-ab01-2d635e345656",
   "metadata": {},
   "source": [
    "mst = scipy.sparse.csgraph.minimum_spanning_tree(D_part)\n",
    "mst = mst.tocoo()\n",
    "mst_array = np.vstack([mst.row, mst.col, mst.data]).T\n",
    "\n",
    "# Sort edges of the min_spanning_tree by weight\n",
    "mst_array = mst_array[np.argsort(mst_array.T[2], kind=\"mergesort\"), :]\n",
    "\n",
    "# Convert edge list into standard hierarchical clustering format\n",
    "single_linkage_tree = sklearn.cluster._hierarchical_fast._single_linkage_label(mst_array)\n",
    "SingleLinkageTree(single_linkage_tree).plot()\n",
    "\n",
    "cd_tree = condense_tree(single_linkage_tree, 10)\n",
    "CondensedTree(cd_tree).plot()"
   ]
  },
  {
   "cell_type": "markdown",
   "id": "fa3e0edb-43b9-4afe-8d0f-01b21faf3004",
   "metadata": {},
   "source": [
    "## Run for all other data sets"
   ]
  },
  {
   "cell_type": "code",
   "execution_count": 31,
   "id": "a89e44ab-93f6-4496-88b7-55865a5f0831",
   "metadata": {},
   "outputs": [],
   "source": [
    "def get_single_linkage_clustering(dataset_id, distance_function, k=None):\n",
    "    raw_data, targets, dataset_name = get_dataset(dataset_id=dataset_id)\n",
    "    display(Markdown(f'### {dataset_name}'))\n",
    "    \n",
    "    if(distance_function.__name__ == \"get_avg_neighbor_distance\"):\n",
    "        D = distance_function(raw_data)\n",
    "    else:\n",
    "        if(k is None):\n",
    "            k = get_dataset_params(dataset_id)['n_neighbors']\n",
    "\n",
    "        A_umap, sigmas, rhos, dists = umap.umap_.fuzzy_simplicial_set(X=raw_data, \n",
    "                                                         n_neighbors=k, \n",
    "                                                         random_state=0, \n",
    "                                                         metric='euclidean', \n",
    "                                                         return_dists=True,\n",
    "                                                         set_op_mix_ratio=0.5)\n",
    "        D = distance_function(A_umap)\n",
    "\n",
    "    labels = hdbscan_on_graph(D)\n",
    "\n",
    "    ari = adjusted_rand_score(targets, labels)\n",
    "    ami = adjusted_mutual_info_score(targets, labels)\n",
    "    print(f'ARI = {ari} and AMI = {ami}')\n",
    "    return(labels, ari, ami, targets)"
   ]
  },
  {
   "cell_type": "code",
   "execution_count": 32,
   "id": "6f833dd1-29bf-437c-be8a-479cb4310beb",
   "metadata": {},
   "outputs": [],
   "source": [
    "experimentList = [\n",
    "  {'description' : 'UMAP weights (inv)', 'function': get_inverse_sim},\n",
    "   {'description' : 'UMAP weights (inv-log)', 'function': get_invlog_sim},\n",
    "  # {'description' : 'UMAP weights (neg)', 'function': get_negative_sim},\n",
    "  {'description' : 'Number of supporting triangles', 'function': get_triangle_distance},\n",
    "  {'description' : \"Average of UMAP weight and mean families' weights\", 'function': neighborhood_amplification},\n",
    "  {'description' : 'Number of 1,3,4-cycles containg the two endpoints', 'function': get_egonet_distance},\n",
    "  # {'description' : \"UMAP of modified data points: neighbors' average\", 'function': get_avg_neighbor_distance}\n",
    "]"
   ]
  },
  {
   "cell_type": "markdown",
   "id": "6ab15eb2-dfdb-4378-9dd4-1f641c6326a3",
   "metadata": {},
   "source": [
    "### Refinement/coarsening measure\n",
    "\n",
    "Here, we define a measure to measure how much a partition is the refinement of another partition. To decide if partition_1 is a refinement of partition_2, we map all parts of partition_1 to to the part of partition_2 with the largest overlap. We then add the number of elements not in the overlap. A high value means that it is not a refinement."
   ]
  },
  {
   "cell_type": "code",
   "execution_count": 33,
   "id": "9d1bb68a-c98d-4001-8cbc-c61caf71c6e1",
   "metadata": {},
   "outputs": [],
   "source": [
    "def measure_refinement(targets, labels):\n",
    "    ind_max = max(labels)+1\n",
    "    ind_min = min(labels)\n",
    "    not_in_dominant = 0\n",
    "    for grp in range(ind_min,ind_max):\n",
    "        subtargets = targets[labels==grp]\n",
    "        sizeLarge = mode(subtargets)[1][0]\n",
    "        not_in_dominant = not_in_dominant + (len(subtargets)-sizeLarge)\n",
    "    return(1 - not_in_dominant/len(targets))"
   ]
  },
  {
   "cell_type": "code",
   "execution_count": 34,
   "id": "a2732046-9efe-4ab0-9faa-f099c2e654be",
   "metadata": {},
   "outputs": [],
   "source": [
    "# raw_data, targets, dataset_name = get_dataset(dataset_id=2)\n",
    "# display(Markdown(f'### {dataset_name}'))\n",
    "\n",
    "# k = get_dataset_params(dataset_id)['n_neighbors']\n",
    "\n",
    "# A_umap, sigmas, rhos, dists = umap.umap_.fuzzy_simplicial_set(X=raw_data, \n",
    "#                                                  n_neighbors=k, \n",
    "#                                                  random_state=0, \n",
    "#                                                  metric='euclidean', \n",
    "#                                                  return_dists=True,\n",
    "#                                                  set_op_mix_ratio=0.5)\n",
    "\n",
    "# D = get_triangle_distance(A_umap)\n",
    "\n",
    "# labels = hdbscan_on_graph(D)"
   ]
  },
  {
   "cell_type": "code",
   "execution_count": 35,
   "id": "ba5849e8-154e-40ce-aecb-236b994a6800",
   "metadata": {},
   "outputs": [
    {
     "data": {
      "text/markdown": [
       "# UMAP weights (inv)"
      ],
      "text/plain": [
       "<IPython.core.display.Markdown object>"
      ]
     },
     "metadata": {},
     "output_type": "display_data"
    },
    {
     "data": {
      "text/markdown": [
       "### pendigits"
      ],
      "text/plain": [
       "<IPython.core.display.Markdown object>"
      ]
     },
     "metadata": {},
     "output_type": "display_data"
    },
    {
     "name": "stdout",
     "output_type": "stream",
     "text": [
      "ARI = 0.10760290789421745 and AMI = 0.4108592755650803\n"
     ]
    },
    {
     "data": {
      "text/markdown": [
       "### coil"
      ],
      "text/plain": [
       "<IPython.core.display.Markdown object>"
      ]
     },
     "metadata": {},
     "output_type": "display_data"
    },
    {
     "name": "stdout",
     "output_type": "stream",
     "text": [
      "ARI = 0.9631727323967534 and AMI = 0.983457310797028\n"
     ]
    },
    {
     "data": {
      "text/markdown": [
       "### mnist"
      ],
      "text/plain": [
       "<IPython.core.display.Markdown object>"
      ]
     },
     "metadata": {},
     "output_type": "display_data"
    },
    {
     "name": "stdout",
     "output_type": "stream",
     "text": [
      "ARI = 0.00015400737405604065 and AMI = 0.003181136249917091\n"
     ]
    },
    {
     "data": {
      "text/markdown": [
       "### usps"
      ],
      "text/plain": [
       "<IPython.core.display.Markdown object>"
      ]
     },
     "metadata": {},
     "output_type": "display_data"
    },
    {
     "name": "stdout",
     "output_type": "stream",
     "text": [
      "ARI = 0.0792216268507797 and AMI = 0.3053040058148915\n"
     ]
    },
    {
     "data": {
      "text/markdown": [
       "### buildings"
      ],
      "text/plain": [
       "<IPython.core.display.Markdown object>"
      ]
     },
     "metadata": {},
     "output_type": "display_data"
    },
    {
     "name": "stdout",
     "output_type": "stream",
     "text": [
      "ARI = 0.06161525293465001 and AMI = 0.5278478683947923\n"
     ]
    },
    {
     "data": {
      "text/markdown": [
       "# UMAP weights (inv-log)"
      ],
      "text/plain": [
       "<IPython.core.display.Markdown object>"
      ]
     },
     "metadata": {},
     "output_type": "display_data"
    },
    {
     "data": {
      "text/markdown": [
       "### pendigits"
      ],
      "text/plain": [
       "<IPython.core.display.Markdown object>"
      ]
     },
     "metadata": {},
     "output_type": "display_data"
    },
    {
     "name": "stdout",
     "output_type": "stream",
     "text": [
      "ARI = 0.1871806848107086 and AMI = 0.5366560282068829\n"
     ]
    },
    {
     "data": {
      "text/markdown": [
       "### coil"
      ],
      "text/plain": [
       "<IPython.core.display.Markdown object>"
      ]
     },
     "metadata": {},
     "output_type": "display_data"
    },
    {
     "name": "stdout",
     "output_type": "stream",
     "text": [
      "ARI = 0.723156535377369 and AMI = 0.9336630616611129\n"
     ]
    },
    {
     "data": {
      "text/markdown": [
       "### mnist"
      ],
      "text/plain": [
       "<IPython.core.display.Markdown object>"
      ]
     },
     "metadata": {},
     "output_type": "display_data"
    },
    {
     "name": "stdout",
     "output_type": "stream",
     "text": [
      "ARI = 0.0003158263955898019 and AMI = 0.0016665881221223642\n"
     ]
    },
    {
     "data": {
      "text/markdown": [
       "### usps"
      ],
      "text/plain": [
       "<IPython.core.display.Markdown object>"
      ]
     },
     "metadata": {},
     "output_type": "display_data"
    },
    {
     "name": "stdout",
     "output_type": "stream",
     "text": [
      "ARI = 0.056689939148730606 and AMI = 0.407579962449701\n"
     ]
    },
    {
     "data": {
      "text/markdown": [
       "### buildings"
      ],
      "text/plain": [
       "<IPython.core.display.Markdown object>"
      ]
     },
     "metadata": {},
     "output_type": "display_data"
    },
    {
     "name": "stdout",
     "output_type": "stream",
     "text": [
      "ARI = 0.04491206385123997 and AMI = 0.47684963129507213\n"
     ]
    },
    {
     "data": {
      "text/markdown": [
       "# Number of supporting triangles"
      ],
      "text/plain": [
       "<IPython.core.display.Markdown object>"
      ]
     },
     "metadata": {},
     "output_type": "display_data"
    },
    {
     "data": {
      "text/markdown": [
       "### pendigits"
      ],
      "text/plain": [
       "<IPython.core.display.Markdown object>"
      ]
     },
     "metadata": {},
     "output_type": "display_data"
    },
    {
     "name": "stdout",
     "output_type": "stream",
     "text": [
      "ARI = 0.01168454062223058 and AMI = 0.15549627139945613\n"
     ]
    },
    {
     "data": {
      "text/markdown": [
       "### coil"
      ],
      "text/plain": [
       "<IPython.core.display.Markdown object>"
      ]
     },
     "metadata": {},
     "output_type": "display_data"
    },
    {
     "name": "stdout",
     "output_type": "stream",
     "text": [
      "ARI = 0.203789140935227 and AMI = 0.6904772749748082\n"
     ]
    },
    {
     "data": {
      "text/markdown": [
       "### mnist"
      ],
      "text/plain": [
       "<IPython.core.display.Markdown object>"
      ]
     },
     "metadata": {},
     "output_type": "display_data"
    },
    {
     "name": "stdout",
     "output_type": "stream",
     "text": [
      "ARI = 0.012577133658181654 and AMI = 0.036367350431426144\n"
     ]
    },
    {
     "data": {
      "text/markdown": [
       "### usps"
      ],
      "text/plain": [
       "<IPython.core.display.Markdown object>"
      ]
     },
     "metadata": {},
     "output_type": "display_data"
    },
    {
     "name": "stdout",
     "output_type": "stream",
     "text": [
      "ARI = 0.019431748866495596 and AMI = 0.032725764607458664\n"
     ]
    },
    {
     "data": {
      "text/markdown": [
       "### buildings"
      ],
      "text/plain": [
       "<IPython.core.display.Markdown object>"
      ]
     },
     "metadata": {},
     "output_type": "display_data"
    },
    {
     "name": "stdout",
     "output_type": "stream",
     "text": [
      "ARI = 0.007965082173651541 and AMI = 0.10207949700523525\n"
     ]
    },
    {
     "data": {
      "text/markdown": [
       "# Average of UMAP weight and mean families' weights"
      ],
      "text/plain": [
       "<IPython.core.display.Markdown object>"
      ]
     },
     "metadata": {},
     "output_type": "display_data"
    },
    {
     "data": {
      "text/markdown": [
       "### pendigits"
      ],
      "text/plain": [
       "<IPython.core.display.Markdown object>"
      ]
     },
     "metadata": {},
     "output_type": "display_data"
    },
    {
     "name": "stdout",
     "output_type": "stream",
     "text": [
      "ARI = 0.024150736161477313 and AMI = 0.07507327263140963\n"
     ]
    },
    {
     "data": {
      "text/markdown": [
       "### coil"
      ],
      "text/plain": [
       "<IPython.core.display.Markdown object>"
      ]
     },
     "metadata": {},
     "output_type": "display_data"
    },
    {
     "name": "stdout",
     "output_type": "stream",
     "text": [
      "ARI = 0.11968131443279263 and AMI = 0.5591225308426037\n"
     ]
    },
    {
     "data": {
      "text/markdown": [
       "### mnist"
      ],
      "text/plain": [
       "<IPython.core.display.Markdown object>"
      ]
     },
     "metadata": {},
     "output_type": "display_data"
    },
    {
     "name": "stdout",
     "output_type": "stream",
     "text": [
      "ARI = 0.0029438562618441266 and AMI = 0.012730902742304732\n"
     ]
    },
    {
     "data": {
      "text/markdown": [
       "### usps"
      ],
      "text/plain": [
       "<IPython.core.display.Markdown object>"
      ]
     },
     "metadata": {},
     "output_type": "display_data"
    },
    {
     "name": "stdout",
     "output_type": "stream",
     "text": [
      "ARI = 0.0038470119032238724 and AMI = 0.07874712986347464\n"
     ]
    },
    {
     "data": {
      "text/markdown": [
       "### buildings"
      ],
      "text/plain": [
       "<IPython.core.display.Markdown object>"
      ]
     },
     "metadata": {},
     "output_type": "display_data"
    },
    {
     "name": "stdout",
     "output_type": "stream",
     "text": [
      "ARI = 0.0027140888848530167 and AMI = 0.06358220284359249\n"
     ]
    },
    {
     "data": {
      "text/markdown": [
       "# Number of 1,3,4-cycles containg the two endpoints"
      ],
      "text/plain": [
       "<IPython.core.display.Markdown object>"
      ]
     },
     "metadata": {},
     "output_type": "display_data"
    },
    {
     "data": {
      "text/markdown": [
       "### pendigits"
      ],
      "text/plain": [
       "<IPython.core.display.Markdown object>"
      ]
     },
     "metadata": {},
     "output_type": "display_data"
    },
    {
     "name": "stdout",
     "output_type": "stream",
     "text": [
      "ARI = 0.6466309876982249 and AMI = 0.7828123203861272\n"
     ]
    },
    {
     "data": {
      "text/markdown": [
       "### coil"
      ],
      "text/plain": [
       "<IPython.core.display.Markdown object>"
      ]
     },
     "metadata": {},
     "output_type": "display_data"
    },
    {
     "name": "stdout",
     "output_type": "stream",
     "text": [
      "ARI = 0.5258133307993058 and AMI = 0.8291732327349852\n"
     ]
    },
    {
     "data": {
      "text/markdown": [
       "### mnist"
      ],
      "text/plain": [
       "<IPython.core.display.Markdown object>"
      ]
     },
     "metadata": {},
     "output_type": "display_data"
    },
    {
     "name": "stdout",
     "output_type": "stream",
     "text": [
      "ARI = 0.04690513764060889 and AMI = 0.1563456539853301\n"
     ]
    },
    {
     "data": {
      "text/markdown": [
       "### usps"
      ],
      "text/plain": [
       "<IPython.core.display.Markdown object>"
      ]
     },
     "metadata": {},
     "output_type": "display_data"
    },
    {
     "name": "stdout",
     "output_type": "stream",
     "text": [
      "ARI = 0.23021871062166713 and AMI = 0.45232048880356945\n"
     ]
    },
    {
     "data": {
      "text/markdown": [
       "### buildings"
      ],
      "text/plain": [
       "<IPython.core.display.Markdown object>"
      ]
     },
     "metadata": {},
     "output_type": "display_data"
    },
    {
     "name": "stdout",
     "output_type": "stream",
     "text": [
      "ARI = 0.002763489666887864 and AMI = 0.07681202147341325\n"
     ]
    }
   ],
   "source": [
    "results_ari_ami = []\n",
    "\n",
    "for j, exp in enumerate(experimentList):\n",
    "    \n",
    "    description = exp['description']\n",
    "    function = exp['function']\n",
    "    display(Markdown(f'# {description}'))\n",
    "    \n",
    "    for i in range(5):\n",
    "        labels, ari, ami, targets = get_single_linkage_clustering(dataset_id=i, \n",
    "                                      distance_function = function, k=10)\n",
    "        results_ari_ami.append([f'Experiment {j}' , \n",
    "                                get_dataset_name(i), \n",
    "                                description, \n",
    "                                ari, \n",
    "                                ami, \n",
    "                                sum(labels==-1)/len(labels),\n",
    "                                max(targets)+1,\n",
    "                                max(labels)+1,\n",
    "                                mode(targets)[1][0],\n",
    "                                mode(labels)[1][0],\n",
    "                                measure_refinement(targets, labels),\n",
    "                                measure_refinement(labels, targets)\n",
    "                                ])\n",
    "        \n",
    "results_df_10 = pd.DataFrame(results_ari_ami, \n",
    "                          columns=['Experiment', 'Dataset', 'Description', 'ARI', 'AMI', 'Percent noise', \n",
    "                                   'Nb clusters (true)', 'Nb clusters (predicted)', 'Largest cluster (true)', 'Largest cluster(predicted)', \n",
    "                                   'Refinement', 'Coarsening'])"
   ]
  },
  {
   "cell_type": "code",
   "execution_count": 36,
   "id": "6a1944e0-a1ff-4f62-b386-0a63deda42cb",
   "metadata": {},
   "outputs": [
    {
     "data": {
      "text/html": [
       "<div>\n",
       "<style scoped>\n",
       "    .dataframe tbody tr th:only-of-type {\n",
       "        vertical-align: middle;\n",
       "    }\n",
       "\n",
       "    .dataframe tbody tr th {\n",
       "        vertical-align: top;\n",
       "    }\n",
       "\n",
       "    .dataframe thead th {\n",
       "        text-align: right;\n",
       "    }\n",
       "</style>\n",
       "<table border=\"1\" class=\"dataframe\">\n",
       "  <thead>\n",
       "    <tr style=\"text-align: right;\">\n",
       "      <th></th>\n",
       "      <th>Experiment</th>\n",
       "      <th>Dataset</th>\n",
       "      <th>Description</th>\n",
       "      <th>ARI</th>\n",
       "      <th>AMI</th>\n",
       "      <th>Percent noise</th>\n",
       "      <th>Nb clusters (true)</th>\n",
       "      <th>Nb clusters (predicted)</th>\n",
       "      <th>Largest cluster (true)</th>\n",
       "      <th>Largest cluster(predicted)</th>\n",
       "      <th>Refinement</th>\n",
       "      <th>Coarsening</th>\n",
       "    </tr>\n",
       "  </thead>\n",
       "  <tbody>\n",
       "    <tr>\n",
       "      <th>4</th>\n",
       "      <td>Experiment 0</td>\n",
       "      <td>buildings</td>\n",
       "      <td>UMAP weights (inv)</td>\n",
       "      <td>0.061615</td>\n",
       "      <td>0.527848</td>\n",
       "      <td>0.398037</td>\n",
       "      <td>41</td>\n",
       "      <td>50</td>\n",
       "      <td>334</td>\n",
       "      <td>1663</td>\n",
       "      <td>0.480613</td>\n",
       "      <td>0.509095</td>\n",
       "    </tr>\n",
       "    <tr>\n",
       "      <th>1</th>\n",
       "      <td>Experiment 0</td>\n",
       "      <td>coil</td>\n",
       "      <td>UMAP weights (inv)</td>\n",
       "      <td>0.963173</td>\n",
       "      <td>0.983457</td>\n",
       "      <td>0.004861</td>\n",
       "      <td>21</td>\n",
       "      <td>20</td>\n",
       "      <td>72</td>\n",
       "      <td>99</td>\n",
       "      <td>0.979861</td>\n",
       "      <td>0.976389</td>\n",
       "    </tr>\n",
       "    <tr>\n",
       "      <th>2</th>\n",
       "      <td>Experiment 0</td>\n",
       "      <td>mnist</td>\n",
       "      <td>UMAP weights (inv)</td>\n",
       "      <td>0.000154</td>\n",
       "      <td>0.003181</td>\n",
       "      <td>0.318543</td>\n",
       "      <td>10</td>\n",
       "      <td>3</td>\n",
       "      <td>4002</td>\n",
       "      <td>23780</td>\n",
       "      <td>0.115314</td>\n",
       "      <td>0.679429</td>\n",
       "    </tr>\n",
       "    <tr>\n",
       "      <th>0</th>\n",
       "      <td>Experiment 0</td>\n",
       "      <td>pendigits</td>\n",
       "      <td>UMAP weights (inv)</td>\n",
       "      <td>0.107603</td>\n",
       "      <td>0.410859</td>\n",
       "      <td>0.035615</td>\n",
       "      <td>10</td>\n",
       "      <td>3</td>\n",
       "      <td>183</td>\n",
       "      <td>1383</td>\n",
       "      <td>0.312187</td>\n",
       "      <td>0.962159</td>\n",
       "    </tr>\n",
       "    <tr>\n",
       "      <th>3</th>\n",
       "      <td>Experiment 0</td>\n",
       "      <td>usps</td>\n",
       "      <td>UMAP weights (inv)</td>\n",
       "      <td>0.079222</td>\n",
       "      <td>0.305304</td>\n",
       "      <td>0.415573</td>\n",
       "      <td>11</td>\n",
       "      <td>15</td>\n",
       "      <td>1553</td>\n",
       "      <td>3864</td>\n",
       "      <td>0.348892</td>\n",
       "      <td>0.590987</td>\n",
       "    </tr>\n",
       "    <tr>\n",
       "      <th>9</th>\n",
       "      <td>Experiment 1</td>\n",
       "      <td>buildings</td>\n",
       "      <td>UMAP weights (inv-log)</td>\n",
       "      <td>0.044912</td>\n",
       "      <td>0.476850</td>\n",
       "      <td>0.432264</td>\n",
       "      <td>41</td>\n",
       "      <td>50</td>\n",
       "      <td>334</td>\n",
       "      <td>1806</td>\n",
       "      <td>0.438009</td>\n",
       "      <td>0.504548</td>\n",
       "    </tr>\n",
       "    <tr>\n",
       "      <th>6</th>\n",
       "      <td>Experiment 1</td>\n",
       "      <td>coil</td>\n",
       "      <td>UMAP weights (inv-log)</td>\n",
       "      <td>0.723157</td>\n",
       "      <td>0.933663</td>\n",
       "      <td>0.005556</td>\n",
       "      <td>21</td>\n",
       "      <td>19</td>\n",
       "      <td>72</td>\n",
       "      <td>288</td>\n",
       "      <td>0.848611</td>\n",
       "      <td>0.948611</td>\n",
       "    </tr>\n",
       "    <tr>\n",
       "      <th>7</th>\n",
       "      <td>Experiment 1</td>\n",
       "      <td>mnist</td>\n",
       "      <td>UMAP weights (inv-log)</td>\n",
       "      <td>0.000316</td>\n",
       "      <td>0.001667</td>\n",
       "      <td>0.363886</td>\n",
       "      <td>10</td>\n",
       "      <td>2</td>\n",
       "      <td>4002</td>\n",
       "      <td>22232</td>\n",
       "      <td>0.115257</td>\n",
       "      <td>0.635200</td>\n",
       "    </tr>\n",
       "    <tr>\n",
       "      <th>5</th>\n",
       "      <td>Experiment 1</td>\n",
       "      <td>pendigits</td>\n",
       "      <td>UMAP weights (inv-log)</td>\n",
       "      <td>0.187181</td>\n",
       "      <td>0.536656</td>\n",
       "      <td>0.050083</td>\n",
       "      <td>10</td>\n",
       "      <td>4</td>\n",
       "      <td>183</td>\n",
       "      <td>1181</td>\n",
       "      <td>0.410128</td>\n",
       "      <td>0.947691</td>\n",
       "    </tr>\n",
       "    <tr>\n",
       "      <th>8</th>\n",
       "      <td>Experiment 1</td>\n",
       "      <td>usps</td>\n",
       "      <td>UMAP weights (inv-log)</td>\n",
       "      <td>0.056690</td>\n",
       "      <td>0.407580</td>\n",
       "      <td>0.558937</td>\n",
       "      <td>11</td>\n",
       "      <td>44</td>\n",
       "      <td>1553</td>\n",
       "      <td>5197</td>\n",
       "      <td>0.490966</td>\n",
       "      <td>0.597118</td>\n",
       "    </tr>\n",
       "    <tr>\n",
       "      <th>14</th>\n",
       "      <td>Experiment 2</td>\n",
       "      <td>buildings</td>\n",
       "      <td>Number of supporting triangles</td>\n",
       "      <td>0.007965</td>\n",
       "      <td>0.102079</td>\n",
       "      <td>0.219722</td>\n",
       "      <td>41</td>\n",
       "      <td>8</td>\n",
       "      <td>334</td>\n",
       "      <td>3054</td>\n",
       "      <td>0.123743</td>\n",
       "      <td>0.759454</td>\n",
       "    </tr>\n",
       "    <tr>\n",
       "      <th>11</th>\n",
       "      <td>Experiment 2</td>\n",
       "      <td>coil</td>\n",
       "      <td>Number of supporting triangles</td>\n",
       "      <td>0.203789</td>\n",
       "      <td>0.690477</td>\n",
       "      <td>0.047222</td>\n",
       "      <td>21</td>\n",
       "      <td>11</td>\n",
       "      <td>72</td>\n",
       "      <td>729</td>\n",
       "      <td>0.513889</td>\n",
       "      <td>0.931944</td>\n",
       "    </tr>\n",
       "    <tr>\n",
       "      <th>12</th>\n",
       "      <td>Experiment 2</td>\n",
       "      <td>mnist</td>\n",
       "      <td>Number of supporting triangles</td>\n",
       "      <td>0.012577</td>\n",
       "      <td>0.036367</td>\n",
       "      <td>0.281600</td>\n",
       "      <td>10</td>\n",
       "      <td>2</td>\n",
       "      <td>4002</td>\n",
       "      <td>24990</td>\n",
       "      <td>0.160714</td>\n",
       "      <td>0.740971</td>\n",
       "    </tr>\n",
       "    <tr>\n",
       "      <th>10</th>\n",
       "      <td>Experiment 2</td>\n",
       "      <td>pendigits</td>\n",
       "      <td>Number of supporting triangles</td>\n",
       "      <td>0.011685</td>\n",
       "      <td>0.155496</td>\n",
       "      <td>0.809126</td>\n",
       "      <td>10</td>\n",
       "      <td>7</td>\n",
       "      <td>183</td>\n",
       "      <td>1454</td>\n",
       "      <td>0.214246</td>\n",
       "      <td>0.809126</td>\n",
       "    </tr>\n",
       "    <tr>\n",
       "      <th>13</th>\n",
       "      <td>Experiment 2</td>\n",
       "      <td>usps</td>\n",
       "      <td>Number of supporting triangles</td>\n",
       "      <td>0.019432</td>\n",
       "      <td>0.032726</td>\n",
       "      <td>0.575393</td>\n",
       "      <td>11</td>\n",
       "      <td>2</td>\n",
       "      <td>1553</td>\n",
       "      <td>5350</td>\n",
       "      <td>0.183695</td>\n",
       "      <td>0.626156</td>\n",
       "    </tr>\n",
       "    <tr>\n",
       "      <th>19</th>\n",
       "      <td>Experiment 3</td>\n",
       "      <td>buildings</td>\n",
       "      <td>Average of UMAP weight and mean families' weights</td>\n",
       "      <td>0.002714</td>\n",
       "      <td>0.063582</td>\n",
       "      <td>0.028722</td>\n",
       "      <td>41</td>\n",
       "      <td>6</td>\n",
       "      <td>334</td>\n",
       "      <td>3919</td>\n",
       "      <td>0.114888</td>\n",
       "      <td>0.950694</td>\n",
       "    </tr>\n",
       "    <tr>\n",
       "      <th>16</th>\n",
       "      <td>Experiment 3</td>\n",
       "      <td>coil</td>\n",
       "      <td>Average of UMAP weight and mean families' weights</td>\n",
       "      <td>0.119681</td>\n",
       "      <td>0.559123</td>\n",
       "      <td>0.605556</td>\n",
       "      <td>21</td>\n",
       "      <td>8</td>\n",
       "      <td>72</td>\n",
       "      <td>872</td>\n",
       "      <td>0.395139</td>\n",
       "      <td>0.905556</td>\n",
       "    </tr>\n",
       "    <tr>\n",
       "      <th>17</th>\n",
       "      <td>Experiment 3</td>\n",
       "      <td>mnist</td>\n",
       "      <td>Average of UMAP weight and mean families' weights</td>\n",
       "      <td>0.002944</td>\n",
       "      <td>0.012731</td>\n",
       "      <td>0.783429</td>\n",
       "      <td>10</td>\n",
       "      <td>4</td>\n",
       "      <td>4002</td>\n",
       "      <td>27420</td>\n",
       "      <td>0.134686</td>\n",
       "      <td>0.783429</td>\n",
       "    </tr>\n",
       "    <tr>\n",
       "      <th>15</th>\n",
       "      <td>Experiment 3</td>\n",
       "      <td>pendigits</td>\n",
       "      <td>Average of UMAP weight and mean families' weights</td>\n",
       "      <td>0.024151</td>\n",
       "      <td>0.075073</td>\n",
       "      <td>0.507513</td>\n",
       "      <td>10</td>\n",
       "      <td>2</td>\n",
       "      <td>183</td>\n",
       "      <td>912</td>\n",
       "      <td>0.168058</td>\n",
       "      <td>0.623817</td>\n",
       "    </tr>\n",
       "    <tr>\n",
       "      <th>18</th>\n",
       "      <td>Experiment 3</td>\n",
       "      <td>usps</td>\n",
       "      <td>Average of UMAP weight and mean families' weights</td>\n",
       "      <td>0.003847</td>\n",
       "      <td>0.078747</td>\n",
       "      <td>0.837492</td>\n",
       "      <td>11</td>\n",
       "      <td>8</td>\n",
       "      <td>1553</td>\n",
       "      <td>7787</td>\n",
       "      <td>0.199290</td>\n",
       "      <td>0.837492</td>\n",
       "    </tr>\n",
       "    <tr>\n",
       "      <th>24</th>\n",
       "      <td>Experiment 4</td>\n",
       "      <td>buildings</td>\n",
       "      <td>Number of 1,3,4-cycles containg the two endpoints</td>\n",
       "      <td>0.002763</td>\n",
       "      <td>0.076812</td>\n",
       "      <td>0.000000</td>\n",
       "      <td>41</td>\n",
       "      <td>7</td>\n",
       "      <td>334</td>\n",
       "      <td>3997</td>\n",
       "      <td>0.123265</td>\n",
       "      <td>0.971278</td>\n",
       "    </tr>\n",
       "    <tr>\n",
       "      <th>21</th>\n",
       "      <td>Experiment 4</td>\n",
       "      <td>coil</td>\n",
       "      <td>Number of 1,3,4-cycles containg the two endpoints</td>\n",
       "      <td>0.525813</td>\n",
       "      <td>0.829173</td>\n",
       "      <td>0.076389</td>\n",
       "      <td>21</td>\n",
       "      <td>16</td>\n",
       "      <td>72</td>\n",
       "      <td>361</td>\n",
       "      <td>0.734722</td>\n",
       "      <td>0.879167</td>\n",
       "    </tr>\n",
       "    <tr>\n",
       "      <th>22</th>\n",
       "      <td>Experiment 4</td>\n",
       "      <td>mnist</td>\n",
       "      <td>Number of 1,3,4-cycles containg the two endpoints</td>\n",
       "      <td>0.046905</td>\n",
       "      <td>0.156346</td>\n",
       "      <td>0.353771</td>\n",
       "      <td>10</td>\n",
       "      <td>2</td>\n",
       "      <td>4002</td>\n",
       "      <td>20094</td>\n",
       "      <td>0.219857</td>\n",
       "      <td>0.645543</td>\n",
       "    </tr>\n",
       "    <tr>\n",
       "      <th>20</th>\n",
       "      <td>Experiment 4</td>\n",
       "      <td>pendigits</td>\n",
       "      <td>Number of 1,3,4-cycles containg the two endpoints</td>\n",
       "      <td>0.646631</td>\n",
       "      <td>0.782812</td>\n",
       "      <td>0.144129</td>\n",
       "      <td>10</td>\n",
       "      <td>11</td>\n",
       "      <td>183</td>\n",
       "      <td>308</td>\n",
       "      <td>0.787980</td>\n",
       "      <td>0.773511</td>\n",
       "    </tr>\n",
       "    <tr>\n",
       "      <th>23</th>\n",
       "      <td>Experiment 4</td>\n",
       "      <td>usps</td>\n",
       "      <td>Number of 1,3,4-cycles containg the two endpoints</td>\n",
       "      <td>0.230219</td>\n",
       "      <td>0.452320</td>\n",
       "      <td>0.284362</td>\n",
       "      <td>11</td>\n",
       "      <td>4</td>\n",
       "      <td>1553</td>\n",
       "      <td>3706</td>\n",
       "      <td>0.429877</td>\n",
       "      <td>0.713487</td>\n",
       "    </tr>\n",
       "  </tbody>\n",
       "</table>\n",
       "</div>"
      ],
      "text/plain": [
       "      Experiment    Dataset  \\\n",
       "4   Experiment 0  buildings   \n",
       "1   Experiment 0       coil   \n",
       "2   Experiment 0      mnist   \n",
       "0   Experiment 0  pendigits   \n",
       "3   Experiment 0       usps   \n",
       "9   Experiment 1  buildings   \n",
       "6   Experiment 1       coil   \n",
       "7   Experiment 1      mnist   \n",
       "5   Experiment 1  pendigits   \n",
       "8   Experiment 1       usps   \n",
       "14  Experiment 2  buildings   \n",
       "11  Experiment 2       coil   \n",
       "12  Experiment 2      mnist   \n",
       "10  Experiment 2  pendigits   \n",
       "13  Experiment 2       usps   \n",
       "19  Experiment 3  buildings   \n",
       "16  Experiment 3       coil   \n",
       "17  Experiment 3      mnist   \n",
       "15  Experiment 3  pendigits   \n",
       "18  Experiment 3       usps   \n",
       "24  Experiment 4  buildings   \n",
       "21  Experiment 4       coil   \n",
       "22  Experiment 4      mnist   \n",
       "20  Experiment 4  pendigits   \n",
       "23  Experiment 4       usps   \n",
       "\n",
       "                                          Description       ARI       AMI  \\\n",
       "4                                  UMAP weights (inv)  0.061615  0.527848   \n",
       "1                                  UMAP weights (inv)  0.963173  0.983457   \n",
       "2                                  UMAP weights (inv)  0.000154  0.003181   \n",
       "0                                  UMAP weights (inv)  0.107603  0.410859   \n",
       "3                                  UMAP weights (inv)  0.079222  0.305304   \n",
       "9                              UMAP weights (inv-log)  0.044912  0.476850   \n",
       "6                              UMAP weights (inv-log)  0.723157  0.933663   \n",
       "7                              UMAP weights (inv-log)  0.000316  0.001667   \n",
       "5                              UMAP weights (inv-log)  0.187181  0.536656   \n",
       "8                              UMAP weights (inv-log)  0.056690  0.407580   \n",
       "14                     Number of supporting triangles  0.007965  0.102079   \n",
       "11                     Number of supporting triangles  0.203789  0.690477   \n",
       "12                     Number of supporting triangles  0.012577  0.036367   \n",
       "10                     Number of supporting triangles  0.011685  0.155496   \n",
       "13                     Number of supporting triangles  0.019432  0.032726   \n",
       "19  Average of UMAP weight and mean families' weights  0.002714  0.063582   \n",
       "16  Average of UMAP weight and mean families' weights  0.119681  0.559123   \n",
       "17  Average of UMAP weight and mean families' weights  0.002944  0.012731   \n",
       "15  Average of UMAP weight and mean families' weights  0.024151  0.075073   \n",
       "18  Average of UMAP weight and mean families' weights  0.003847  0.078747   \n",
       "24  Number of 1,3,4-cycles containg the two endpoints  0.002763  0.076812   \n",
       "21  Number of 1,3,4-cycles containg the two endpoints  0.525813  0.829173   \n",
       "22  Number of 1,3,4-cycles containg the two endpoints  0.046905  0.156346   \n",
       "20  Number of 1,3,4-cycles containg the two endpoints  0.646631  0.782812   \n",
       "23  Number of 1,3,4-cycles containg the two endpoints  0.230219  0.452320   \n",
       "\n",
       "    Percent noise  Nb clusters (true)  Nb clusters (predicted)  \\\n",
       "4        0.398037                  41                       50   \n",
       "1        0.004861                  21                       20   \n",
       "2        0.318543                  10                        3   \n",
       "0        0.035615                  10                        3   \n",
       "3        0.415573                  11                       15   \n",
       "9        0.432264                  41                       50   \n",
       "6        0.005556                  21                       19   \n",
       "7        0.363886                  10                        2   \n",
       "5        0.050083                  10                        4   \n",
       "8        0.558937                  11                       44   \n",
       "14       0.219722                  41                        8   \n",
       "11       0.047222                  21                       11   \n",
       "12       0.281600                  10                        2   \n",
       "10       0.809126                  10                        7   \n",
       "13       0.575393                  11                        2   \n",
       "19       0.028722                  41                        6   \n",
       "16       0.605556                  21                        8   \n",
       "17       0.783429                  10                        4   \n",
       "15       0.507513                  10                        2   \n",
       "18       0.837492                  11                        8   \n",
       "24       0.000000                  41                        7   \n",
       "21       0.076389                  21                       16   \n",
       "22       0.353771                  10                        2   \n",
       "20       0.144129                  10                       11   \n",
       "23       0.284362                  11                        4   \n",
       "\n",
       "    Largest cluster (true)  Largest cluster(predicted)  Refinement  Coarsening  \n",
       "4                      334                        1663    0.480613    0.509095  \n",
       "1                       72                          99    0.979861    0.976389  \n",
       "2                     4002                       23780    0.115314    0.679429  \n",
       "0                      183                        1383    0.312187    0.962159  \n",
       "3                     1553                        3864    0.348892    0.590987  \n",
       "9                      334                        1806    0.438009    0.504548  \n",
       "6                       72                         288    0.848611    0.948611  \n",
       "7                     4002                       22232    0.115257    0.635200  \n",
       "5                      183                        1181    0.410128    0.947691  \n",
       "8                     1553                        5197    0.490966    0.597118  \n",
       "14                     334                        3054    0.123743    0.759454  \n",
       "11                      72                         729    0.513889    0.931944  \n",
       "12                    4002                       24990    0.160714    0.740971  \n",
       "10                     183                        1454    0.214246    0.809126  \n",
       "13                    1553                        5350    0.183695    0.626156  \n",
       "19                     334                        3919    0.114888    0.950694  \n",
       "16                      72                         872    0.395139    0.905556  \n",
       "17                    4002                       27420    0.134686    0.783429  \n",
       "15                     183                         912    0.168058    0.623817  \n",
       "18                    1553                        7787    0.199290    0.837492  \n",
       "24                     334                        3997    0.123265    0.971278  \n",
       "21                      72                         361    0.734722    0.879167  \n",
       "22                    4002                       20094    0.219857    0.645543  \n",
       "20                     183                         308    0.787980    0.773511  \n",
       "23                    1553                        3706    0.429877    0.713487  "
      ]
     },
     "execution_count": 36,
     "metadata": {},
     "output_type": "execute_result"
    }
   ],
   "source": [
    "results_df_10.sort_values(['Experiment', 'Dataset'])"
   ]
  },
  {
   "cell_type": "code",
   "execution_count": 37,
   "id": "c43f2d1d-df29-4e3e-b815-4a88ec51fc3f",
   "metadata": {},
   "outputs": [],
   "source": [
    "results_df = results_df_10"
   ]
  },
  {
   "cell_type": "code",
   "execution_count": 38,
   "id": "9f84b978-1d19-4299-b754-b5ca6f3367ce",
   "metadata": {},
   "outputs": [
    {
     "data": {
      "image/png": "[encoded data removed]",
      "text/plain": [
       "<Figure size 1000x400 with 2 Axes>"
      ]
     },
     "metadata": {},
     "output_type": "display_data"
    }
   ],
   "source": [
    "# fig = plt.figure(figsize=(8, 6), dpi=80)\n",
    "fig, (ax1, ax2) = plt.subplots(1, 2, figsize=(10, 4))\n",
    "sns.barplot(data=results_df, x='Dataset', y='ARI', \n",
    "            hue='Description', ax=ax1)\n",
    "sns.barplot(data=results_df, x='Dataset', y='AMI', \n",
    "            hue='Description', ax=ax2)\n",
    "lgd = ax1.legend(loc='lower left', bbox_to_anchor=(0.25,1.1))\n",
    "ax2.legend_.remove()\n",
    "# sns.barplot(data=results_df, x='Dataset', y='AMI', hue='Description', ax=ax2)\n",
    "# # lgd = sns.move_legend(ax, \"upper center\", bbox_to_anchor=(1, 1))\n",
    "# plt.savefig('ExperimentSummary_ari_ami.png', bbox_extra_artists=(lgd,), bbox_inches='tight')"
   ]
  },
  {
   "cell_type": "code",
   "execution_count": 39,
   "id": "58c42c07-abb6-4376-ae90-27c83773f439",
   "metadata": {},
   "outputs": [
    {
     "data": {
      "image/png": "[encoded data removed]",
      "text/plain": [
       "<Figure size 1000x400 with 2 Axes>"
      ]
     },
     "metadata": {},
     "output_type": "display_data"
    }
   ],
   "source": [
    "# fig = plt.figure(figsize=(8, 6), dpi=80)\n",
    "fig, (ax1, ax2) = plt.subplots(1, 2, figsize=(10, 4))\n",
    "sns.barplot(data=results_df, x='Dataset', y='Refinement', \n",
    "            hue='Description', ax=ax1)\n",
    "sns.barplot(data=results_df, x='Dataset', y='Coarsening', \n",
    "            hue='Description', ax=ax2)\n",
    "# lgd = ax1.legend(loc='lower left', bbox_to_anchor=(0.25,1.1))\n",
    "ax2.legend_.remove()\n",
    "ax1.legend_.remove()\n",
    "# sns.barplot(data=results_df, x='Dataset', y='AMI', hue='Description', ax=ax2)\n",
    "# # lgd = sns.move_legend(ax, \"upper center\", bbox_to_anchor=(1, 1))\n",
    "# plt.savefig('ExperimentSummary_refine_coarse.png', bbox_inches='tight')"
   ]
  },
  {
   "cell_type": "markdown",
   "id": "34c1ff6a-8087-4ba2-9985-f0f593f0ee65",
   "metadata": {},
   "source": [
    "### Problem with get_negative_sim transformation\n",
    "\n",
    "Not sure why, but the following line does not work when D is obtained from : D =  get_negative_sim(A_umap)\n",
    "\n",
    "single_linkage_tree = sklearn.cluster._hierarchical_fast._single_linkage_label(mst_array)"
   ]
  },
  {
   "cell_type": "raw",
   "id": "1fcebf0f-e751-4946-a9f5-44ba7472f118",
   "metadata": {},
   "source": [
    "cc = scipy.sparse.csgraph.connected_components(D)\n",
    "mst = scipy.sparse.csgraph.minimum_spanning_tree(D)\n",
    "mst = mst.tocoo()\n",
    "mst_array = np.vstack([mst.row, mst.col, mst.data]).T\n",
    "mst_array = mst_array[np.argsort(mst_array.T[2], kind=\"mergesort\"), :]"
   ]
  },
  {
   "cell_type": "code",
   "execution_count": 11,
   "id": "f203e700-c7af-4d7d-9811-750e550507af",
   "metadata": {},
   "outputs": [
    {
     "data": {
      "text/markdown": [
       "### pendigits"
      ],
      "text/plain": [
       "<IPython.core.display.Markdown object>"
      ]
     },
     "metadata": {},
     "output_type": "display_data"
    },
    {
     "name": "stdout",
     "output_type": "stream",
     "text": [
      "ARI = 0.18672142560283936 and AMI = 0.5437746812445351\n"
     ]
    }
   ],
   "source": [
    "dataset_id=0\n",
    "raw_data, targets, dataset_name = get_dataset(dataset_id)\n",
    "display(Markdown(f'### {dataset_name}'))\n",
    "\n",
    "k = get_dataset_params(dataset_id)['n_neighbors']\n",
    "\n",
    "A_umap, sigmas, rhos, dists = umap.umap_.fuzzy_simplicial_set(X=raw_data,  \n",
    "                                                              n_neighbors=k, \n",
    "                                                                 random_state=0, \n",
    "                                                                 metric='euclidean', \n",
    "                                                                 return_dists=True,\n",
    "                                                                 set_op_mix_ratio=0.5)\n",
    "D =  get_invlog_sim(A_umap)\n",
    "\n",
    "labels = hdbscan_on_graph(D)\n",
    "\n",
    "ari = adjusted_rand_score(targets, labels)\n",
    "ami = adjusted_mutual_info_score(targets, labels)\n",
    "print(f'ARI = {ari} and AMI = {ami}')"
   ]
  },
  {
   "cell_type": "markdown",
   "id": "b5cfe7e4-3662-4bac-82f2-910ff030404e",
   "metadata": {},
   "source": [
    "## Summarize what I have done\n",
    "\n",
    "Ran persistant clustering games on different \"dissimilarity matrices\". The matrices I have looked at are the following (when a similarity matrix is given, for instance UMAP, we have transformed it, using its elementwise inverse).\n",
    "\n",
    "The different weights tried for each edge are:\n",
    "\n",
    "* UMAP weight - no neighborhood information added\n",
    "* Number of supporting triangles (or size of intersection of the two neighborhoods)\n",
    "* Average of edge (and non-edge) weights between the two neighborhoods added to the original UMAP weight - this is what is discussed in the original post here.\n",
    "* Number of cycles of length 1, 3 and 4 (cycles of length 1 are just edges, this is to avoid disconnecting the graph)\n",
    "* UMAP weight of modified high dimensional representations. Each point is represented as its neighbors' average point.\n",
    "\n",
    "I also want to include the Weisserstein distance between the high dimensional neighborhoods, if someone can point me to code I could use that would be helpful?"
   ]
  },
  {
   "cell_type": "code",
   "execution_count": null,
   "id": "6b11379a-3f32-4d60-b9cd-64e4348c3c09",
   "metadata": {},
   "outputs": [],
   "source": []
  }
 ],
 "metadata": {
  "kernelspec": {
   "display_name": "HighDimensionalClustering",
   "language": "python",
   "name": "highdimensionalclustering"
  },
  "language_info": {
   "codemirror_mode": {
    "name": "ipython",
    "version": 3
   },
   "file_extension": ".py",
   "mimetype": "text/x-python",
   "name": "python",
   "nbconvert_exporter": "python",
   "pygments_lexer": "ipython3",
   "version": "3.7.16"
  }
 },
 "nbformat": 4,
 "nbformat_minor": 5
}
