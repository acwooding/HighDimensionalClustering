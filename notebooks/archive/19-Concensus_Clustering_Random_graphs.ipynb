{
 "cells": [
  {
   "cell_type": "markdown",
   "id": "e4e429df",
   "metadata": {
    "tags": []
   },
   "source": [
    "# Concensus clustering on Random Graphs\n",
    "\n",
    "The graph obtained via UMAP has weights that can be interpreted as the probability of the edge’s existence. These weights can be used to generate several unweighted random graphs obtained by keeping edges with a probability proportional to their weights. We are exploring the idea of using a consensus clustering by clustering each random graph separately and see if this turns out to be a good way to obtain good clusters of the high dimensional points."
   ]
  },
  {
   "cell_type": "code",
   "execution_count": 1,
   "id": "e4875757-c802-423c-8bf8-8efd45ff78e3",
   "metadata": {},
   "outputs": [
    {
     "name": "stdout",
     "output_type": "stream",
     "text": [
      "  master\u001b[m\n",
      "* \u001b[32mpruning_graph\u001b[m\n"
     ]
    }
   ],
   "source": [
    "!git branch"
   ]
  },
  {
   "cell_type": "code",
   "execution_count": 2,
   "id": "52d3bdf4-9b88-4008-93e6-5e6f656e5b94",
   "metadata": {},
   "outputs": [
    {
     "name": "stdout",
     "output_type": "stream",
     "text": [
      "['pendigits', 'coil', 'mnist', 'usps', 'buildings', 'clusterable']\n"
     ]
    }
   ],
   "source": [
    "execfile('functions/data_specifics.py')\n",
    "execfile('functions/graph_functions.py')\n",
    "print(data_set_list)"
   ]
  },
  {
   "cell_type": "code",
   "execution_count": 3,
   "id": "84a03c0f",
   "metadata": {},
   "outputs": [],
   "source": [
    "from IPython.display import display, Markdown, Latex\n",
    "from sklearn.metrics import adjusted_rand_score, adjusted_mutual_info_score, silhouette_score\n",
    "from sklearn import cluster\n",
    "\n",
    "import numpy as np\n",
    "import pandas as pd\n",
    "\n",
    "import matplotlib.pyplot as plt\n",
    "import seaborn as sns\n",
    "\n",
    "\n",
    "sns.set()"
   ]
  },
  {
   "cell_type": "code",
   "execution_count": 161,
   "id": "7575767a-2d03-4f6c-a39d-9553cdc465c3",
   "metadata": {},
   "outputs": [],
   "source": [
    "import leidenalg as la\n",
    "import igraph as ig\n",
    "from tqdm import tqdm"
   ]
  },
  {
   "cell_type": "markdown",
   "id": "fa3e0edb-43b9-4afe-8d0f-01b21faf3004",
   "metadata": {},
   "source": [
    "## Get data"
   ]
  },
  {
   "cell_type": "code",
   "execution_count": 142,
   "id": "87352309-e8d9-4c70-97ac-175132259798",
   "metadata": {},
   "outputs": [],
   "source": [
    "dataset_id=1\n",
    "raw_data, targets, dataset_name = get_dataset(dataset_id=dataset_id)\n",
    "\n",
    "k = get_dataset_params(dataset_id)['n_neighbors']"
   ]
  },
  {
   "cell_type": "code",
   "execution_count": 143,
   "id": "e3f5c7ba-971d-4953-97c4-39e37a6a09df",
   "metadata": {},
   "outputs": [
    {
     "name": "stdout",
     "output_type": "stream",
     "text": [
      "We are building a 5-NN graph for dataset coil\n"
     ]
    }
   ],
   "source": [
    "print(f'We are building a {k}-NN graph for dataset {dataset_name}')\n",
    "A_umap, sigmas, rhos, dists = umap.umap_.fuzzy_simplicial_set(X=raw_data, \n",
    "                                             n_neighbors=k, \n",
    "                                             random_state=0, \n",
    "                                             metric='euclidean', \n",
    "                                             return_dists=True,\n",
    "                                             set_op_mix_ratio=1)\n"
   ]
  },
  {
   "cell_type": "markdown",
   "id": "774f8d8a-443d-44f6-987d-f0fbf955385f",
   "metadata": {},
   "source": [
    "# Build ensemble members\n",
    "\n",
    "We construct random graphs by flipping ( number_edges x ensemble_size) coins. Each flip determine if we keep a specific edge in a specific random graph."
   ]
  },
  {
   "cell_type": "code",
   "execution_count": 144,
   "id": "92cd2349-b025-446d-b34d-36099956254c",
   "metadata": {},
   "outputs": [
    {
     "name": "stdout",
     "output_type": "stream",
     "text": [
      "6596\n"
     ]
    }
   ],
   "source": [
    "ensemble_size = 20\n",
    "number_edges = len(A_umap.data)\n",
    "print(number_edges)"
   ]
  },
  {
   "cell_type": "code",
   "execution_count": 157,
   "id": "7ec24841-8fc0-4a33-acf8-070ae00c054e",
   "metadata": {},
   "outputs": [
    {
     "data": {
      "text/plain": [
       "(20, 6596)"
      ]
     },
     "execution_count": 157,
     "metadata": {},
     "output_type": "execute_result"
    }
   ],
   "source": [
    "coin_flips = np.random.rand(ensemble_size, number_edges)\n",
    "keep_edges = coin_flips < A_umap.data\n",
    "keep_edges.shape"
   ]
  },
  {
   "cell_type": "markdown",
   "id": "c62925c2-150f-421d-b325-4a6e13d20ae1",
   "metadata": {},
   "source": [
    "Proportion of edges kept in each random graph"
   ]
  },
  {
   "cell_type": "code",
   "execution_count": 158,
   "id": "d7d00204-ffe9-4b09-baf4-bd883e01de6c",
   "metadata": {},
   "outputs": [
    {
     "data": {
      "text/plain": [
       "array([0.66479685, 0.65554882, 0.66115828, 0.65751971, 0.65782292,\n",
       "       0.66130988, 0.66100667, 0.6573681 , 0.65964221, 0.65630685,\n",
       "       0.66040024, 0.65979381, 0.65479078, 0.66691935, 0.65494239,\n",
       "       0.65342632, 0.6531231 , 0.66146149, 0.65979381, 0.65918739])"
      ]
     },
     "execution_count": 158,
     "metadata": {},
     "output_type": "execute_result"
    }
   ],
   "source": [
    "np.sum(keep_edges, axis=1)/number_edges"
   ]
  },
  {
   "cell_type": "markdown",
   "id": "ded7f316-fa5d-4fe9-b966-b1c26fb9fe55",
   "metadata": {},
   "source": [
    "Number of times edges are part of the random graphs"
   ]
  },
  {
   "cell_type": "code",
   "execution_count": 159,
   "id": "e7dae735-2b3b-4c2b-94a4-86066bfa6aa8",
   "metadata": {},
   "outputs": [
    {
     "data": {
      "text/plain": [
       "<AxesSubplot:ylabel='Count'>"
      ]
     },
     "execution_count": 159,
     "metadata": {},
     "output_type": "execute_result"
    },
    {
     "data": {
      "image/png": "[encoded data removed]",
      "text/plain": [
       "<Figure size 640x480 with 1 Axes>"
      ]
     },
     "metadata": {},
     "output_type": "display_data"
    }
   ],
   "source": [
    "sns.histplot(np.sum(keep_edges, axis=0))"
   ]
  },
  {
   "cell_type": "markdown",
   "id": "ad6ef808-534e-4092-8870-7a0023c566de",
   "metadata": {},
   "source": [
    "# Cluster the random graphs"
   ]
  },
  {
   "cell_type": "code",
   "execution_count": 162,
   "id": "13d52a1f-48e8-45ab-a2c7-6453b59a96d7",
   "metadata": {},
   "outputs": [
    {
     "name": "stderr",
     "output_type": "stream",
     "text": [
      "100%|██████████| 20/20 [00:01<00:00, 18.47it/s]\n"
     ]
    }
   ],
   "source": [
    "clusters = dict()\n",
    "for i in tqdm(range(ensemble_size)):\n",
    "    A = A_umap.copy()\n",
    "    A.data = keep_edges[i]\n",
    "    G = ig.Graph.Adjacency(A)\n",
    "    clusters[i] = la.find_partition(G, la.ModularityVertexPartition).membership"
   ]
  },
  {
   "cell_type": "markdown",
   "id": "1f9f6cf6-6a89-486c-8516-96608b3d82f8",
   "metadata": {},
   "source": [
    "# Concencus\n",
    "\n",
    "Build a final graph with weights being equal to the proportion of times the end points of the edge were put in the same clusters."
   ]
  },
  {
   "cell_type": "code",
   "execution_count": 163,
   "id": "2e2b8b1a-8748-4ad6-aa7f-f80fc9199687",
   "metadata": {},
   "outputs": [],
   "source": [
    "A_umap_coo = A_umap.tocoo()\n",
    "rows = A_umap_coo.row\n",
    "cols = A_umap_coo.col\n",
    "concensus_counts = np.array([0]*number_edges)\n",
    "for cl in range(ensemble_size):\n",
    "    concensus_counts = concensus_counts+np.array( [int(clusters[cl][rows[i]]==clusters[cl][cols[i]]) for i in range(number_edges)] )"
   ]
  },
  {
   "cell_type": "code",
   "execution_count": 164,
   "id": "f5fb3ee4-9cd3-4e82-b341-8838fe8856d9",
   "metadata": {},
   "outputs": [
    {
     "data": {
      "text/plain": [
       "<AxesSubplot:ylabel='Count'>"
      ]
     },
     "execution_count": 164,
     "metadata": {},
     "output_type": "execute_result"
    },
    {
     "data": {
      "image/png": "[encoded data removed]",
      "text/plain": [
       "<Figure size 640x480 with 1 Axes>"
      ]
     },
     "metadata": {},
     "output_type": "display_data"
    }
   ],
   "source": [
    "sns.histplot(concensus_counts)"
   ]
  },
  {
   "cell_type": "code",
   "execution_count": 165,
   "id": "d5dbeb91-a1a3-405f-a6ec-f79190bb6742",
   "metadata": {},
   "outputs": [
    {
     "data": {
      "text/plain": [
       "array([0.85, 0.85, 1.  , ..., 0.95, 0.85, 0.85])"
      ]
     },
     "execution_count": 165,
     "metadata": {},
     "output_type": "execute_result"
    }
   ],
   "source": [
    "concensus_counts/(ensemble_size)"
   ]
  },
  {
   "cell_type": "code",
   "execution_count": 166,
   "id": "303e5b08-ef2e-4f66-b21f-3a05b7989ed3",
   "metadata": {},
   "outputs": [],
   "source": [
    "A_results = A_umap_coo.copy()\n",
    "A_results.data = concensus_counts/ensemble_size\n",
    "G_final = ig.Graph.Weighted_Adjacency(A_results)\n",
    "final_clusters = la.find_partition(G_final, la.ModularityVertexPartition).membership"
   ]
  },
  {
   "cell_type": "markdown",
   "id": "11792f01-f780-432f-ad87-2f7e66afc790",
   "metadata": {},
   "source": [
    "# Evaluate final clusters"
   ]
  },
  {
   "cell_type": "code",
   "execution_count": 156,
   "id": "15f920eb-f112-4542-9b84-21f48dd42d6b",
   "metadata": {},
   "outputs": [
    {
     "name": "stdout",
     "output_type": "stream",
     "text": [
      "ARI = 0.7616120438680382 and AMI = 0.8839856836496697\n"
     ]
    }
   ],
   "source": [
    "labels = final_clusters\n",
    "ari = adjusted_rand_score(targets, labels)\n",
    "ami = adjusted_mutual_info_score(targets, labels)\n",
    "print(f'ARI = {ari} and AMI = {ami}') "
   ]
  },
  {
   "cell_type": "markdown",
   "id": "5c0dcc73-4050-45aa-ab1f-2a1b990f37d1",
   "metadata": {},
   "source": [
    "# Compare against UMAP+HDBSCAN"
   ]
  },
  {
   "cell_type": "code",
   "execution_count": 167,
   "id": "d98a9778-7ea0-43fc-8a77-d29f1533ead7",
   "metadata": {},
   "outputs": [
    {
     "name": "stderr",
     "output_type": "stream",
     "text": [
      "/work/home/vmpouli/.conda/envs/HighDimensionalClustering/lib/python3.7/site-packages/sklearn/manifold/_spectral_embedding.py:261: UserWarning: Graph is not fully connected, spectral embedding may not work as expected.\n",
      "  \"Graph is not fully connected, spectral embedding may not work as expected.\"\n"
     ]
    },
    {
     "name": "stdout",
     "output_type": "stream",
     "text": [
      "ARI = 0.7910813366998825 and AMI = 0.9424028955749346\n"
     ]
    }
   ],
   "source": [
    "umap_rep = get_umap_vectors(dataset_id=dataset_id, raw_data=raw_data)\n",
    "hd_umap_labels = h_dbscan(umap_rep, which_algo='hdbscan', dataset_id=dataset_id)\n",
    "ari_baseline = adjusted_rand_score(targets, hd_umap_labels)\n",
    "ami_baseline = adjusted_mutual_info_score(targets, hd_umap_labels)\n",
    "print(f'ARI = {ari_baseline} and AMI = {ami_baseline}') "
   ]
  },
  {
   "cell_type": "code",
   "execution_count": null,
   "id": "eb92cca0-1fa4-480f-862c-547299300ca1",
   "metadata": {},
   "outputs": [],
   "source": []
  }
 ],
 "metadata": {
  "kernelspec": {
   "display_name": "HighDimensionalClustering",
   "language": "python",
   "name": "highdimensionalclustering"
  },
  "language_info": {
   "codemirror_mode": {
    "name": "ipython",
    "version": 3
   },
   "file_extension": ".py",
   "mimetype": "text/x-python",
   "name": "python",
   "nbconvert_exporter": "python",
   "pygments_lexer": "ipython3",
   "version": "3.7.16"
  }
 },
 "nbformat": 4,
 "nbformat_minor": 5
}
