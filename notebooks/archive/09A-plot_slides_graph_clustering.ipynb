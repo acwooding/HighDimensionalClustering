{
 "cells": [
  {
   "cell_type": "markdown",
   "id": "e4e429df",
   "metadata": {
    "tags": []
   },
   "source": [
    "# Plot graph clutering results on fuzzy union graph (from UMAP)\n",
    "\n",
    "The goal of this notebook is to produce plots for slides\n"
   ]
  },
  {
   "cell_type": "code",
   "execution_count": 2,
   "id": "e4875757-c802-423c-8bf8-8efd45ff78e3",
   "metadata": {},
   "outputs": [
    {
     "name": "stdout",
     "output_type": "stream",
     "text": [
      "* \u001b[32mmaster\u001b[m\n"
     ]
    }
   ],
   "source": [
    "!git branch"
   ]
  },
  {
   "cell_type": "code",
   "execution_count": 3,
   "id": "52d3bdf4-9b88-4008-93e6-5e6f656e5b94",
   "metadata": {},
   "outputs": [
    {
     "name": "stdout",
     "output_type": "stream",
     "text": [
      "['pendigits', 'coil', 'mnist', 'usps', 'buildings', 'clusterable']\n"
     ]
    }
   ],
   "source": [
    "execfile('functions/data_specifics.py')\n",
    "execfile('functions/graph_functions.py')\n",
    "print(data_set_list)"
   ]
  },
  {
   "cell_type": "code",
   "execution_count": 4,
   "id": "84a03c0f",
   "metadata": {},
   "outputs": [],
   "source": [
    "from IPython.display import display, Markdown, Latex\n",
    "from sklearn.metrics import adjusted_rand_score, adjusted_mutual_info_score, silhouette_score\n",
    "from sklearn import cluster\n",
    "\n",
    "import numpy as np\n",
    "import pandas as pd\n",
    "\n",
    "import matplotlib.pyplot as plt\n",
    "import seaborn as sns\n",
    "\n",
    "import hdbscan\n",
    "import umap\n",
    "from sklearn.neighbors import KNeighborsTransformer\n",
    "import pynndescent\n",
    "\n",
    "from partition_igraph import community_ecg as ecg\n",
    "from community import community_louvain, modularity\n",
    "import leidenalg as la\n",
    "import igraph as ig\n",
    "\n",
    "sns.set()"
   ]
  },
  {
   "cell_type": "markdown",
   "id": "db372ef7",
   "metadata": {
    "tags": []
   },
   "source": [
    "# Clustering metric eval\n",
    "\n",
    "To make things easier later we will write some short functions to evaluate clusterings (with some special handling of singleton clusters or noise points for clusterign algorithms that support such things), and to plot the results for easy comparison."
   ]
  },
  {
   "cell_type": "code",
   "execution_count": 5,
   "id": "c6a4cbec",
   "metadata": {},
   "outputs": [],
   "source": [
    "def eval_clusters(cluster_labels0, true_labels, raw_data, cluster_method=\"None\", min_cluster_size=1):\n",
    "    cluster_labels = cluster_labels0.copy()\n",
    "    unique_labels = np.unique(cluster_labels)\n",
    "    cluster_sizes, size_ids = np.histogram(cluster_labels, bins=unique_labels)\n",
    "    if np.any(cluster_sizes <= min_cluster_size): # Has singleton clusters -- call them noise\n",
    "        singleton_clusters = size_ids[:-1][cluster_sizes < min_cluster_size]\n",
    "        for c in singleton_clusters:\n",
    "            cluster_labels[cluster_labels == c] = -1\n",
    "    if (np.any(cluster_labels < 0)): # Has noise points\n",
    "        clustered_points = (cluster_labels >= 0)\n",
    "        ari = adjusted_rand_score(true_labels[clustered_points], cluster_labels[clustered_points])\n",
    "        ami = adjusted_mutual_info_score(true_labels[clustered_points], cluster_labels[clustered_points])\n",
    "        sil = silhouette_score(raw_data[clustered_points], cluster_labels[clustered_points])\n",
    "        pct_clustered = (np.sum(clustered_points) / cluster_labels.shape[0])\n",
    "        #print(f\"ARI: {ari:.4f}\\nAMI: {ami:.4f}\\nSilhouette: {sil:.4f}\\nPct clustered: {pct_clustered * 100:.2f}%\")\n",
    "    else:\n",
    "        ari = adjusted_rand_score(true_labels, cluster_labels)\n",
    "        ami = adjusted_mutual_info_score(true_labels, cluster_labels)\n",
    "        sil = silhouette_score(raw_data, cluster_labels)\n",
    "        #print(f\"ARI: {ari:.4f}\\nAMI: {ami:.4f}\\nSilhouette: {sil:.4f}\")\n",
    "        pct_clustered = 1.0\n",
    "    \n",
    "    return {\"Method\": cluster_method, \"ARI\": ari, \"AMI\": ami, \"Silhouette\": sil, \"Pct Clustered\": pct_clustered}"
   ]
  },
  {
   "cell_type": "code",
   "execution_count": 6,
   "id": "3eab6175-5373-4898-9254-e20535b6a42a",
   "metadata": {},
   "outputs": [],
   "source": [
    "def run_graph_clustering_algorithm(algo_list, G, weight = 'weight'):\n",
    "    clusterings = dict()\n",
    "    for algo in algo_list:\n",
    "        #print(f\"Running {algo}...\")\n",
    "        if algo == 'Louvain':\n",
    "            clusterings[algo] = G.community_multilevel()\n",
    "        elif algo == 'Louvain \\n+ weight':\n",
    "            clusterings[algo] = G.community_multilevel(weights = weight)\n",
    "        elif algo == 'Label \\nPropagation':\n",
    "            clusterings[algo] = G.community_label_propagation()\n",
    "        elif algo == 'ECG':\n",
    "            clusterings[algo] = G.community_ecg()\n",
    "        elif algo == 'Leiden':\n",
    "            clusterings[algo] = la.find_partition(G, la.ModularityVertexPartition)\n",
    "        elif algo == 'Leiden \\n+ weight':\n",
    "            clusterings[algo] = la.find_partition(G, la.ModularityVertexPartition, weights=weight)\n",
    "            \n",
    "        cluster_labels = {algo:np.array(cluster.membership) for algo, cluster in clusterings.items()}\n",
    "    return(clusterings, cluster_labels)       "
   ]
  },
  {
   "cell_type": "code",
   "execution_count": 7,
   "id": "7558e642-a8ed-44fd-b79b-69583a8e4363",
   "metadata": {},
   "outputs": [],
   "source": [
    "def evaluation_dataframe(cluster_labels, true_labels, raw_data, min_cluster_size=1):\n",
    "    eval_results = pd.DataFrame(\n",
    "        [\n",
    "            eval_clusters(algo_labels, true_labels, raw_data, cluster_method=algo, min_cluster_size=min_cluster_size)\n",
    "            for algo, algo_labels in cluster_labels.items() \n",
    "        ]\n",
    "    )\n",
    "    return(eval_results)"
   ]
  },
  {
   "cell_type": "code",
   "execution_count": 8,
   "id": "b9aad4b4-0ab7-4b1d-86ad-03f44f6fead0",
   "metadata": {},
   "outputs": [],
   "source": [
    "def evaluate_on_non_noise(clustering_labels_dict, skip_eval):\n",
    "    clustering_noise = dict()\n",
    "    for name, labels in clustering_labels_dict.items():\n",
    "        new_labels = labels.copy()\n",
    "        new_labels[skip_eval] = -1\n",
    "        clustering_noise[name] = new_labels\n",
    "    return(clustering_noise)"
   ]
  },
  {
   "cell_type": "code",
   "execution_count": 9,
   "id": "0512582c-dac1-401b-ae57-1179f7f20d57",
   "metadata": {},
   "outputs": [],
   "source": [
    "def print_summary(cluster_labels, G):\n",
    "    for method, cluster in cluster_labels.items():\n",
    "        print(f\"{method}: \\n\\tModularity: {G.modularity(cluster):.2f}, \\n\\tPartition size: {1+max(cluster)}\") "
   ]
  },
  {
   "cell_type": "code",
   "execution_count": 10,
   "id": "1d9ecc47-696c-4156-86a4-8c0edf8e5d87",
   "metadata": {},
   "outputs": [],
   "source": [
    "algo_list = ['Louvain', 'Louvain \\n+ weight', 'Label \\nPropagation', 'ECG', 'Leiden', 'Leiden \\n+ weight']\n",
    "algo_list = ['Label \\nPropagation', 'Louvain',  'ECG', 'Leiden']"
   ]
  },
  {
   "cell_type": "markdown",
   "id": "c5176aba-1a1b-4485-8ff8-34f0f230104c",
   "metadata": {
    "tags": []
   },
   "source": [
    "# Compare graph algorithms performance on different graph constructions"
   ]
  },
  {
   "cell_type": "code",
   "execution_count": 11,
   "id": "2e934e07-20d2-4700-9b96-559c9351f8da",
   "metadata": {},
   "outputs": [],
   "source": [
    "def graph_clustering_on_graph_variants(dataset_id):\n",
    "    raw_data, targets, dataset_name = get_dataset(dataset_id)\n",
    "    display(Markdown(f'## {dataset_name}'))\n",
    "\n",
    "    umap_rep = get_umap_vectors(dataset_id=dataset_id, raw_data=raw_data)\n",
    "    hd_umap_labels = h_dbscan(umap_rep, which_algo='hdbscan', dataset_id=dataset_id)\n",
    "    ari = adjusted_rand_score(targets, hd_umap_labels)\n",
    "    ami = adjusted_mutual_info_score(targets, hd_umap_labels)\n",
    "    print(f'{sum(hd_umap_labels<0)} noise vertices according to HDBSCAN')\n",
    "\n",
    "    results = []\n",
    "    # Graph from fuzzy union\n",
    "    G = get_umap_graph(raw_data, dataset_id=dataset_id, set_op_mix_ratio=1)\n",
    "    clusterings, clustering_labels  = run_graph_clustering_algorithm(algo_list, G)\n",
    "    graph_results = evaluation_dataframe(clustering_labels, targets, raw_data, min_cluster_size=5)\n",
    "    graph_results_union = graph_results.melt([\"Method\", \"Pct Clustered\"], var_name=\"Score Type\", value_name=\"Score\")\n",
    "    graph_results_union[\"Graph\"] = 'Fuzzy Union'\n",
    "    results.append(graph_results_union)\n",
    "\n",
    "    results_df = pd.concat(results)\n",
    "\n",
    "    return(results_df[results_df['Score Type']=='ARI'], ari)"
   ]
  },
  {
   "cell_type": "code",
   "execution_count": 71,
   "id": "28a7cb05-9847-4469-9344-bb7a33571e3d",
   "metadata": {},
   "outputs": [],
   "source": [
    "def umap_hdbscan_on_data(dataset_id):\n",
    "    raw_data, targets, dataset_name = get_dataset(dataset_id)\n",
    "    display(Markdown(f'## {dataset_name}'))\n",
    "\n",
    "    umap_rep = get_umap_vectors(dataset_id=dataset_id, raw_data=raw_data)\n",
    "    hd_umap_labels = h_dbscan(umap_rep, which_algo='hdbscan', dataset_id=dataset_id)\n",
    "    clustered_points = hd_umap_labels>=0\n",
    "    ari = adjusted_rand_score(targets[clustered_points], hd_umap_labels[clustered_points])\n",
    "    ami = adjusted_mutual_info_score(targets[clustered_points], hd_umap_labels[clustered_points])\n",
    "    pct_clustered = (np.sum(clustered_points))/len(clustered_points)\n",
    "    return({'Method':'UMAP+HDBSCAN', \n",
    "            'Pct Clustered':pct_clustered, \n",
    "            'Score Type': 'ARI',\n",
    "            'Score': ari,\n",
    "            'Graph': 'Fuzzy Union',\n",
    "            'Dataset' : dataset_name\n",
    "             })\n",
    "    "
   ]
  },
  {
   "cell_type": "code",
   "execution_count": 12,
   "id": "6f126c15-75c5-4502-841e-b328c50baa09",
   "metadata": {},
   "outputs": [
    {
     "data": {
      "text/markdown": [
       "## pendigits"
      ],
      "text/plain": [
       "<IPython.core.display.Markdown object>"
      ]
     },
     "metadata": {},
     "output_type": "display_data"
    },
    {
     "name": "stdout",
     "output_type": "stream",
     "text": [
      "37 noise vertices according to HDBSCAN\n"
     ]
    },
    {
     "data": {
      "text/markdown": [
       "## coil"
      ],
      "text/plain": [
       "<IPython.core.display.Markdown object>"
      ]
     },
     "metadata": {},
     "output_type": "display_data"
    },
    {
     "name": "stdout",
     "output_type": "stream",
     "text": [
      "14 noise vertices according to HDBSCAN\n"
     ]
    },
    {
     "data": {
      "text/markdown": [
       "## mnist"
      ],
      "text/plain": [
       "<IPython.core.display.Markdown object>"
      ]
     },
     "metadata": {},
     "output_type": "display_data"
    },
    {
     "name": "stdout",
     "output_type": "stream",
     "text": [
      "483 noise vertices according to HDBSCAN\n"
     ]
    },
    {
     "data": {
      "text/markdown": [
       "## usps"
      ],
      "text/plain": [
       "<IPython.core.display.Markdown object>"
      ]
     },
     "metadata": {},
     "output_type": "display_data"
    },
    {
     "name": "stdout",
     "output_type": "stream",
     "text": [
      "4 noise vertices according to HDBSCAN\n"
     ]
    },
    {
     "data": {
      "text/markdown": [
       "## buildings"
      ],
      "text/plain": [
       "<IPython.core.display.Markdown object>"
      ]
     },
     "metadata": {},
     "output_type": "display_data"
    },
    {
     "name": "stdout",
     "output_type": "stream",
     "text": [
      "363 noise vertices according to HDBSCAN\n"
     ]
    }
   ],
   "source": [
    "import warnings\n",
    "warnings.filterwarnings('ignore')\n",
    "results = dict()\n",
    "ARI = dict()\n",
    "for i in range(5):\n",
    "    results[i], ARI[i] = graph_clustering_on_graph_variants(dataset_id=i)"
   ]
  },
  {
   "cell_type": "code",
   "execution_count": 13,
   "id": "a7eb9802-ed99-4243-aa53-a7d3a202f458",
   "metadata": {},
   "outputs": [
    {
     "data": {
      "text/plain": [
       "{0:                 Method  Pct Clustered Score Type     Score        Graph\n",
       " 0  Label \\nPropagation            1.0        ARI  0.482163  Fuzzy Union\n",
       " 1              Louvain            1.0        ARI  0.882375  Fuzzy Union\n",
       " 2                  ECG            1.0        ARI  0.710837  Fuzzy Union\n",
       " 3               Leiden            1.0        ARI  0.886081  Fuzzy Union,\n",
       " 1:                 Method  Pct Clustered Score Type     Score        Graph\n",
       " 0  Label \\nPropagation        0.96875        ARI  0.202431  Fuzzy Union\n",
       " 1              Louvain        1.00000        ARI  0.748548  Fuzzy Union\n",
       " 2                  ECG        1.00000        ARI  0.449234  Fuzzy Union\n",
       " 3               Leiden        1.00000        ARI  0.742911  Fuzzy Union,\n",
       " 2:                 Method  Pct Clustered Score Type     Score        Graph\n",
       " 0  Label \\nPropagation            1.0        ARI  0.560835  Fuzzy Union\n",
       " 1              Louvain            1.0        ARI  0.803996  Fuzzy Union\n",
       " 2                  ECG            1.0        ARI  0.535584  Fuzzy Union\n",
       " 3               Leiden            1.0        ARI  0.793142  Fuzzy Union,\n",
       " 3:                 Method  Pct Clustered Score Type     Score        Graph\n",
       " 0  Label \\nPropagation            1.0        ARI  0.251918  Fuzzy Union\n",
       " 1              Louvain            1.0        ARI  0.787772  Fuzzy Union\n",
       " 2                  ECG            1.0        ARI  0.498481  Fuzzy Union\n",
       " 3               Leiden            1.0        ARI  0.792828  Fuzzy Union,\n",
       " 4:                 Method  Pct Clustered Score Type     Score        Graph\n",
       " 0  Label \\nPropagation            1.0        ARI  0.145508  Fuzzy Union\n",
       " 1              Louvain            1.0        ARI  0.278997  Fuzzy Union\n",
       " 2                  ECG            1.0        ARI  0.260039  Fuzzy Union\n",
       " 3               Leiden            1.0        ARI  0.281417  Fuzzy Union}"
      ]
     },
     "execution_count": 13,
     "metadata": {},
     "output_type": "execute_result"
    }
   ],
   "source": [
    "results"
   ]
  },
  {
   "cell_type": "code",
   "execution_count": 14,
   "id": "b4653761-30d4-47c8-a0a7-dedd3ef9ae47",
   "metadata": {},
   "outputs": [
    {
     "data": {
      "text/plain": [
       "{0: 0.9185149200427103,\n",
       " 1: 0.7910813366998825,\n",
       " 2: 0.8987078065717921,\n",
       " 3: 0.8824676944734986,\n",
       " 4: 0.2458851298996959}"
      ]
     },
     "execution_count": 14,
     "metadata": {},
     "output_type": "execute_result"
    }
   ],
   "source": [
    "ARI"
   ]
  },
  {
   "cell_type": "code",
   "execution_count": 43,
   "id": "73ff24d3-f136-43e6-9903-77d1076cd67d",
   "metadata": {},
   "outputs": [
    {
     "data": {
      "text/plain": [
       "<Figure size 640x480 with 0 Axes>"
      ]
     },
     "metadata": {},
     "output_type": "display_data"
    },
    {
     "data": {
      "text/plain": [
       "<Figure size 640x480 with 0 Axes>"
      ]
     },
     "metadata": {},
     "output_type": "display_data"
    },
    {
     "data": {
      "text/plain": [
       "<Figure size 640x480 with 0 Axes>"
      ]
     },
     "metadata": {},
     "output_type": "display_data"
    },
    {
     "data": {
      "text/plain": [
       "<Figure size 640x480 with 0 Axes>"
      ]
     },
     "metadata": {},
     "output_type": "display_data"
    },
    {
     "data": {
      "text/plain": [
       "<Figure size 640x480 with 0 Axes>"
      ]
     },
     "metadata": {},
     "output_type": "display_data"
    },
    {
     "data": {
      "image/png": "[encoded data removed]",
      "text/plain": [
       "<Figure size 640x480 with 1 Axes>"
      ]
     },
     "metadata": {},
     "output_type": "display_data"
    }
   ],
   "source": [
    "for i in range(5):\n",
    "    plt.clf()\n",
    "    fig, ax = plt.subplots()\n",
    "    fig.suptitle(data_set_list[i], fontsize=18)\n",
    "    ax = sns.barplot(data=results[i], y='Score', x='Method', hue='Method', dodge=False)\n",
    "    ax.set(xticklabels=[])\n",
    "    ax.set(xlabel=None)\n",
    "    ax.set(ylim=(0,1))\n",
    "    ax.axhline(ARI[i], label='UMAP+HDBSCAN')\n",
    "    ax.legend_.remove()\n",
    "    plt.savefig(f'figures/fuzzyUnion_graphclust_{data_set_list[i]}.png')"
   ]
  },
  {
   "cell_type": "code",
   "execution_count": 44,
   "id": "baef3e1c-7dc5-4068-8209-da026dc27974",
   "metadata": {},
   "outputs": [
    {
     "data": {
      "image/png": "[encoded data removed]",
      "text/plain": [
       "<Figure size 640x480 with 1 Axes>"
      ]
     },
     "metadata": {},
     "output_type": "display_data"
    }
   ],
   "source": [
    "handles, labels = ax.get_legend_handles_labels()\n",
    "legend = plt.legend(handles, labels, loc=3, framealpha=1, frameon=False)"
   ]
  },
  {
   "cell_type": "code",
   "execution_count": 46,
   "id": "8bd96d14-bbeb-4cc7-a868-8ee188a19d92",
   "metadata": {},
   "outputs": [],
   "source": [
    "def export_legend(legend, filename=\"figures/fuzzyUnion_graphclust_legend.png\"):\n",
    "    fig  = legend.figure\n",
    "    fig.canvas.draw()\n",
    "    bbox  = legend.get_window_extent().transformed(fig.dpi_scale_trans.inverted())\n",
    "    fig.savefig(filename, dpi=\"figure\", bbox_inches=bbox)\n",
    "\n",
    "export_legend(legend)\n",
    "plt.show()"
   ]
  },
  {
   "cell_type": "markdown",
   "id": "b077ea14-8b34-4df2-922a-6c8e7bdfd377",
   "metadata": {},
   "source": [
    "# Only Leiden"
   ]
  },
  {
   "cell_type": "code",
   "execution_count": 68,
   "id": "0b83d705-772e-48ea-aa5d-f915de7b6ee3",
   "metadata": {},
   "outputs": [],
   "source": [
    "all_results = results[0].copy()\n",
    "all_results['Dataset'] = data_set_list[0]\n",
    "for i in range(1,5):\n",
    "    tmp = results[i].copy()\n",
    "    tmp['Dataset'] = data_set_list[i]\n",
    "    all_results = pd.concat([all_results, tmp])"
   ]
  },
  {
   "cell_type": "code",
   "execution_count": 69,
   "id": "aebb1082-ef8c-4a45-8a45-9c4e311acbd2",
   "metadata": {},
   "outputs": [
    {
     "data": {
      "text/html": [
       "<div>\n",
       "<style scoped>\n",
       "    .dataframe tbody tr th:only-of-type {\n",
       "        vertical-align: middle;\n",
       "    }\n",
       "\n",
       "    .dataframe tbody tr th {\n",
       "        vertical-align: top;\n",
       "    }\n",
       "\n",
       "    .dataframe thead th {\n",
       "        text-align: right;\n",
       "    }\n",
       "</style>\n",
       "<table border=\"1\" class=\"dataframe\">\n",
       "  <thead>\n",
       "    <tr style=\"text-align: right;\">\n",
       "      <th></th>\n",
       "      <th>Method</th>\n",
       "      <th>Pct Clustered</th>\n",
       "      <th>Score Type</th>\n",
       "      <th>Score</th>\n",
       "      <th>Graph</th>\n",
       "      <th>Dataset</th>\n",
       "    </tr>\n",
       "  </thead>\n",
       "  <tbody>\n",
       "    <tr>\n",
       "      <th>0</th>\n",
       "      <td>Label \\nPropagation</td>\n",
       "      <td>1.00000</td>\n",
       "      <td>ARI</td>\n",
       "      <td>0.482163</td>\n",
       "      <td>Fuzzy Union</td>\n",
       "      <td>pendigits</td>\n",
       "    </tr>\n",
       "    <tr>\n",
       "      <th>1</th>\n",
       "      <td>Louvain</td>\n",
       "      <td>1.00000</td>\n",
       "      <td>ARI</td>\n",
       "      <td>0.882375</td>\n",
       "      <td>Fuzzy Union</td>\n",
       "      <td>pendigits</td>\n",
       "    </tr>\n",
       "    <tr>\n",
       "      <th>2</th>\n",
       "      <td>ECG</td>\n",
       "      <td>1.00000</td>\n",
       "      <td>ARI</td>\n",
       "      <td>0.710837</td>\n",
       "      <td>Fuzzy Union</td>\n",
       "      <td>pendigits</td>\n",
       "    </tr>\n",
       "    <tr>\n",
       "      <th>3</th>\n",
       "      <td>Leiden</td>\n",
       "      <td>1.00000</td>\n",
       "      <td>ARI</td>\n",
       "      <td>0.886081</td>\n",
       "      <td>Fuzzy Union</td>\n",
       "      <td>pendigits</td>\n",
       "    </tr>\n",
       "    <tr>\n",
       "      <th>0</th>\n",
       "      <td>Label \\nPropagation</td>\n",
       "      <td>0.96875</td>\n",
       "      <td>ARI</td>\n",
       "      <td>0.202431</td>\n",
       "      <td>Fuzzy Union</td>\n",
       "      <td>coil</td>\n",
       "    </tr>\n",
       "    <tr>\n",
       "      <th>1</th>\n",
       "      <td>Louvain</td>\n",
       "      <td>1.00000</td>\n",
       "      <td>ARI</td>\n",
       "      <td>0.748548</td>\n",
       "      <td>Fuzzy Union</td>\n",
       "      <td>coil</td>\n",
       "    </tr>\n",
       "    <tr>\n",
       "      <th>2</th>\n",
       "      <td>ECG</td>\n",
       "      <td>1.00000</td>\n",
       "      <td>ARI</td>\n",
       "      <td>0.449234</td>\n",
       "      <td>Fuzzy Union</td>\n",
       "      <td>coil</td>\n",
       "    </tr>\n",
       "    <tr>\n",
       "      <th>3</th>\n",
       "      <td>Leiden</td>\n",
       "      <td>1.00000</td>\n",
       "      <td>ARI</td>\n",
       "      <td>0.742911</td>\n",
       "      <td>Fuzzy Union</td>\n",
       "      <td>coil</td>\n",
       "    </tr>\n",
       "    <tr>\n",
       "      <th>0</th>\n",
       "      <td>Label \\nPropagation</td>\n",
       "      <td>1.00000</td>\n",
       "      <td>ARI</td>\n",
       "      <td>0.560835</td>\n",
       "      <td>Fuzzy Union</td>\n",
       "      <td>mnist</td>\n",
       "    </tr>\n",
       "    <tr>\n",
       "      <th>1</th>\n",
       "      <td>Louvain</td>\n",
       "      <td>1.00000</td>\n",
       "      <td>ARI</td>\n",
       "      <td>0.803996</td>\n",
       "      <td>Fuzzy Union</td>\n",
       "      <td>mnist</td>\n",
       "    </tr>\n",
       "    <tr>\n",
       "      <th>2</th>\n",
       "      <td>ECG</td>\n",
       "      <td>1.00000</td>\n",
       "      <td>ARI</td>\n",
       "      <td>0.535584</td>\n",
       "      <td>Fuzzy Union</td>\n",
       "      <td>mnist</td>\n",
       "    </tr>\n",
       "    <tr>\n",
       "      <th>3</th>\n",
       "      <td>Leiden</td>\n",
       "      <td>1.00000</td>\n",
       "      <td>ARI</td>\n",
       "      <td>0.793142</td>\n",
       "      <td>Fuzzy Union</td>\n",
       "      <td>mnist</td>\n",
       "    </tr>\n",
       "    <tr>\n",
       "      <th>0</th>\n",
       "      <td>Label \\nPropagation</td>\n",
       "      <td>1.00000</td>\n",
       "      <td>ARI</td>\n",
       "      <td>0.251918</td>\n",
       "      <td>Fuzzy Union</td>\n",
       "      <td>usps</td>\n",
       "    </tr>\n",
       "    <tr>\n",
       "      <th>1</th>\n",
       "      <td>Louvain</td>\n",
       "      <td>1.00000</td>\n",
       "      <td>ARI</td>\n",
       "      <td>0.787772</td>\n",
       "      <td>Fuzzy Union</td>\n",
       "      <td>usps</td>\n",
       "    </tr>\n",
       "    <tr>\n",
       "      <th>2</th>\n",
       "      <td>ECG</td>\n",
       "      <td>1.00000</td>\n",
       "      <td>ARI</td>\n",
       "      <td>0.498481</td>\n",
       "      <td>Fuzzy Union</td>\n",
       "      <td>usps</td>\n",
       "    </tr>\n",
       "    <tr>\n",
       "      <th>3</th>\n",
       "      <td>Leiden</td>\n",
       "      <td>1.00000</td>\n",
       "      <td>ARI</td>\n",
       "      <td>0.792828</td>\n",
       "      <td>Fuzzy Union</td>\n",
       "      <td>usps</td>\n",
       "    </tr>\n",
       "    <tr>\n",
       "      <th>0</th>\n",
       "      <td>Label \\nPropagation</td>\n",
       "      <td>1.00000</td>\n",
       "      <td>ARI</td>\n",
       "      <td>0.145508</td>\n",
       "      <td>Fuzzy Union</td>\n",
       "      <td>buildings</td>\n",
       "    </tr>\n",
       "    <tr>\n",
       "      <th>1</th>\n",
       "      <td>Louvain</td>\n",
       "      <td>1.00000</td>\n",
       "      <td>ARI</td>\n",
       "      <td>0.278997</td>\n",
       "      <td>Fuzzy Union</td>\n",
       "      <td>buildings</td>\n",
       "    </tr>\n",
       "    <tr>\n",
       "      <th>2</th>\n",
       "      <td>ECG</td>\n",
       "      <td>1.00000</td>\n",
       "      <td>ARI</td>\n",
       "      <td>0.260039</td>\n",
       "      <td>Fuzzy Union</td>\n",
       "      <td>buildings</td>\n",
       "    </tr>\n",
       "    <tr>\n",
       "      <th>3</th>\n",
       "      <td>Leiden</td>\n",
       "      <td>1.00000</td>\n",
       "      <td>ARI</td>\n",
       "      <td>0.281417</td>\n",
       "      <td>Fuzzy Union</td>\n",
       "      <td>buildings</td>\n",
       "    </tr>\n",
       "  </tbody>\n",
       "</table>\n",
       "</div>"
      ],
      "text/plain": [
       "                Method  Pct Clustered Score Type     Score        Graph  \\\n",
       "0  Label \\nPropagation        1.00000        ARI  0.482163  Fuzzy Union   \n",
       "1              Louvain        1.00000        ARI  0.882375  Fuzzy Union   \n",
       "2                  ECG        1.00000        ARI  0.710837  Fuzzy Union   \n",
       "3               Leiden        1.00000        ARI  0.886081  Fuzzy Union   \n",
       "0  Label \\nPropagation        0.96875        ARI  0.202431  Fuzzy Union   \n",
       "1              Louvain        1.00000        ARI  0.748548  Fuzzy Union   \n",
       "2                  ECG        1.00000        ARI  0.449234  Fuzzy Union   \n",
       "3               Leiden        1.00000        ARI  0.742911  Fuzzy Union   \n",
       "0  Label \\nPropagation        1.00000        ARI  0.560835  Fuzzy Union   \n",
       "1              Louvain        1.00000        ARI  0.803996  Fuzzy Union   \n",
       "2                  ECG        1.00000        ARI  0.535584  Fuzzy Union   \n",
       "3               Leiden        1.00000        ARI  0.793142  Fuzzy Union   \n",
       "0  Label \\nPropagation        1.00000        ARI  0.251918  Fuzzy Union   \n",
       "1              Louvain        1.00000        ARI  0.787772  Fuzzy Union   \n",
       "2                  ECG        1.00000        ARI  0.498481  Fuzzy Union   \n",
       "3               Leiden        1.00000        ARI  0.792828  Fuzzy Union   \n",
       "0  Label \\nPropagation        1.00000        ARI  0.145508  Fuzzy Union   \n",
       "1              Louvain        1.00000        ARI  0.278997  Fuzzy Union   \n",
       "2                  ECG        1.00000        ARI  0.260039  Fuzzy Union   \n",
       "3               Leiden        1.00000        ARI  0.281417  Fuzzy Union   \n",
       "\n",
       "     Dataset  \n",
       "0  pendigits  \n",
       "1  pendigits  \n",
       "2  pendigits  \n",
       "3  pendigits  \n",
       "0       coil  \n",
       "1       coil  \n",
       "2       coil  \n",
       "3       coil  \n",
       "0      mnist  \n",
       "1      mnist  \n",
       "2      mnist  \n",
       "3      mnist  \n",
       "0       usps  \n",
       "1       usps  \n",
       "2       usps  \n",
       "3       usps  \n",
       "0  buildings  \n",
       "1  buildings  \n",
       "2  buildings  \n",
       "3  buildings  "
      ]
     },
     "execution_count": 69,
     "metadata": {},
     "output_type": "execute_result"
    }
   ],
   "source": []
  },
  {
   "cell_type": "code",
   "execution_count": 73,
   "id": "1bc35ce8-b173-4850-9430-6648cf9fad8c",
   "metadata": {},
   "outputs": [
    {
     "data": {
      "text/markdown": [
       "## pendigits"
      ],
      "text/plain": [
       "<IPython.core.display.Markdown object>"
      ]
     },
     "metadata": {},
     "output_type": "display_data"
    },
    {
     "data": {
      "text/markdown": [
       "## coil"
      ],
      "text/plain": [
       "<IPython.core.display.Markdown object>"
      ]
     },
     "metadata": {},
     "output_type": "display_data"
    },
    {
     "data": {
      "text/markdown": [
       "## mnist"
      ],
      "text/plain": [
       "<IPython.core.display.Markdown object>"
      ]
     },
     "metadata": {},
     "output_type": "display_data"
    },
    {
     "data": {
      "text/markdown": [
       "## usps"
      ],
      "text/plain": [
       "<IPython.core.display.Markdown object>"
      ]
     },
     "metadata": {},
     "output_type": "display_data"
    },
    {
     "data": {
      "text/markdown": [
       "## buildings"
      ],
      "text/plain": [
       "<IPython.core.display.Markdown object>"
      ]
     },
     "metadata": {},
     "output_type": "display_data"
    }
   ],
   "source": [
    "baselines = pd.DataFrame([umap_hdbscan_on_data(i) for i in range(5)])"
   ]
  },
  {
   "cell_type": "code",
   "execution_count": 75,
   "id": "675ae54b-a602-4408-8459-e5f56efb791d",
   "metadata": {},
   "outputs": [],
   "source": [
    "df_to_plot = pd.concat([all_results[all_results.Method=='Leiden'], baselines])"
   ]
  },
  {
   "cell_type": "code",
   "execution_count": 82,
   "id": "ff97b37c-3241-448a-86cd-5eb474472bc7",
   "metadata": {},
   "outputs": [],
   "source": [
    "df_to_plot_tmp = df_to_plot.copy()"
   ]
  },
  {
   "cell_type": "code",
   "execution_count": 84,
   "id": "89e424c1-60a7-4079-9a72-51a7b1f3ec61",
   "metadata": {},
   "outputs": [],
   "source": [
    "df_to_plot.replace('Leiden','Graph Clustering', inplace=True)"
   ]
  },
  {
   "cell_type": "code",
   "execution_count": 86,
   "id": "8bd8b9ff-7d0a-4b42-a784-55b831b4407f",
   "metadata": {},
   "outputs": [
    {
     "data": {
      "text/html": [
       "<div>\n",
       "<style scoped>\n",
       "    .dataframe tbody tr th:only-of-type {\n",
       "        vertical-align: middle;\n",
       "    }\n",
       "\n",
       "    .dataframe tbody tr th {\n",
       "        vertical-align: top;\n",
       "    }\n",
       "\n",
       "    .dataframe thead th {\n",
       "        text-align: right;\n",
       "    }\n",
       "</style>\n",
       "<table border=\"1\" class=\"dataframe\">\n",
       "  <thead>\n",
       "    <tr style=\"text-align: right;\">\n",
       "      <th></th>\n",
       "      <th>Method</th>\n",
       "      <th>Pct Clustered</th>\n",
       "      <th>Score Type</th>\n",
       "      <th>Score</th>\n",
       "      <th>Graph</th>\n",
       "      <th>Dataset</th>\n",
       "    </tr>\n",
       "  </thead>\n",
       "  <tbody>\n",
       "    <tr>\n",
       "      <th>3</th>\n",
       "      <td>Graph Clustering</td>\n",
       "      <td>1.000000</td>\n",
       "      <td>ARI</td>\n",
       "      <td>0.886081</td>\n",
       "      <td>Fuzzy Union</td>\n",
       "      <td>pendigits</td>\n",
       "    </tr>\n",
       "    <tr>\n",
       "      <th>3</th>\n",
       "      <td>Graph Clustering</td>\n",
       "      <td>1.000000</td>\n",
       "      <td>ARI</td>\n",
       "      <td>0.742911</td>\n",
       "      <td>Fuzzy Union</td>\n",
       "      <td>coil</td>\n",
       "    </tr>\n",
       "    <tr>\n",
       "      <th>3</th>\n",
       "      <td>Graph Clustering</td>\n",
       "      <td>1.000000</td>\n",
       "      <td>ARI</td>\n",
       "      <td>0.793142</td>\n",
       "      <td>Fuzzy Union</td>\n",
       "      <td>mnist</td>\n",
       "    </tr>\n",
       "    <tr>\n",
       "      <th>3</th>\n",
       "      <td>Graph Clustering</td>\n",
       "      <td>1.000000</td>\n",
       "      <td>ARI</td>\n",
       "      <td>0.792828</td>\n",
       "      <td>Fuzzy Union</td>\n",
       "      <td>usps</td>\n",
       "    </tr>\n",
       "    <tr>\n",
       "      <th>3</th>\n",
       "      <td>Graph Clustering</td>\n",
       "      <td>1.000000</td>\n",
       "      <td>ARI</td>\n",
       "      <td>0.281417</td>\n",
       "      <td>Fuzzy Union</td>\n",
       "      <td>buildings</td>\n",
       "    </tr>\n",
       "    <tr>\n",
       "      <th>0</th>\n",
       "      <td>UMAP+HDBSCAN</td>\n",
       "      <td>0.979410</td>\n",
       "      <td>ARI</td>\n",
       "      <td>0.938519</td>\n",
       "      <td>Fuzzy Union</td>\n",
       "      <td>pendigits</td>\n",
       "    </tr>\n",
       "    <tr>\n",
       "      <th>1</th>\n",
       "      <td>UMAP+HDBSCAN</td>\n",
       "      <td>0.990278</td>\n",
       "      <td>ARI</td>\n",
       "      <td>0.784760</td>\n",
       "      <td>Fuzzy Union</td>\n",
       "      <td>coil</td>\n",
       "    </tr>\n",
       "    <tr>\n",
       "      <th>2</th>\n",
       "      <td>UMAP+HDBSCAN</td>\n",
       "      <td>0.986200</td>\n",
       "      <td>ARI</td>\n",
       "      <td>0.912489</td>\n",
       "      <td>Fuzzy Union</td>\n",
       "      <td>mnist</td>\n",
       "    </tr>\n",
       "    <tr>\n",
       "      <th>3</th>\n",
       "      <td>UMAP+HDBSCAN</td>\n",
       "      <td>0.999570</td>\n",
       "      <td>ARI</td>\n",
       "      <td>0.882797</td>\n",
       "      <td>Fuzzy Union</td>\n",
       "      <td>usps</td>\n",
       "    </tr>\n",
       "    <tr>\n",
       "      <th>4</th>\n",
       "      <td>UMAP+HDBSCAN</td>\n",
       "      <td>0.913116</td>\n",
       "      <td>ARI</td>\n",
       "      <td>0.314669</td>\n",
       "      <td>Fuzzy Union</td>\n",
       "      <td>buildings</td>\n",
       "    </tr>\n",
       "  </tbody>\n",
       "</table>\n",
       "</div>"
      ],
      "text/plain": [
       "             Method  Pct Clustered Score Type     Score        Graph  \\\n",
       "3  Graph Clustering       1.000000        ARI  0.886081  Fuzzy Union   \n",
       "3  Graph Clustering       1.000000        ARI  0.742911  Fuzzy Union   \n",
       "3  Graph Clustering       1.000000        ARI  0.793142  Fuzzy Union   \n",
       "3  Graph Clustering       1.000000        ARI  0.792828  Fuzzy Union   \n",
       "3  Graph Clustering       1.000000        ARI  0.281417  Fuzzy Union   \n",
       "0      UMAP+HDBSCAN       0.979410        ARI  0.938519  Fuzzy Union   \n",
       "1      UMAP+HDBSCAN       0.990278        ARI  0.784760  Fuzzy Union   \n",
       "2      UMAP+HDBSCAN       0.986200        ARI  0.912489  Fuzzy Union   \n",
       "3      UMAP+HDBSCAN       0.999570        ARI  0.882797  Fuzzy Union   \n",
       "4      UMAP+HDBSCAN       0.913116        ARI  0.314669  Fuzzy Union   \n",
       "\n",
       "     Dataset  \n",
       "3  pendigits  \n",
       "3       coil  \n",
       "3      mnist  \n",
       "3       usps  \n",
       "3  buildings  \n",
       "0  pendigits  \n",
       "1       coil  \n",
       "2      mnist  \n",
       "3       usps  \n",
       "4  buildings  "
      ]
     },
     "execution_count": 86,
     "metadata": {},
     "output_type": "execute_result"
    }
   ],
   "source": [
    "df_to_plot"
   ]
  },
  {
   "cell_type": "code",
   "execution_count": 85,
   "id": "a6681e3f-ff1c-4e8a-b681-5096a92eccc7",
   "metadata": {},
   "outputs": [
    {
     "data": {
      "image/png": "[encoded data removed]",
      "text/plain": [
       "<Figure size 640x480 with 1 Axes>"
      ]
     },
     "metadata": {},
     "output_type": "display_data"
    }
   ],
   "source": [
    "sns.barplot(df_to_plot, y='Score', x='Dataset', hue='Method')\n",
    "plt.savefig(f'figures/fuzzyUnion_graphclust_all_datasets.png')"
   ]
  },
  {
   "cell_type": "code",
   "execution_count": 121,
   "id": "848fc5c2-2ef9-4437-ba46-f3f43ecebd4d",
   "metadata": {},
   "outputs": [],
   "source": [
    "results_dataframe = df_to_plot[df_to_plot.Dataset != 'pendigits']"
   ]
  },
  {
   "cell_type": "code",
   "execution_count": 125,
   "id": "9f88e884-4c7d-40aa-957a-d4a8d05405f9",
   "metadata": {},
   "outputs": [
    {
     "data": {
      "image/png": "[encoded data removed]",
      "text/plain": [
       "<Figure size 800x800 with 1 Axes>"
      ]
     },
     "metadata": {},
     "output_type": "display_data"
    }
   ],
   "source": [
    "width=0.75\n",
    "colors=list(sns.color_palette())\n",
    "fig, ax = plt.subplots(figsize=(8 , 8))\n",
    "x_ticklabels = results_dataframe.Dataset.unique()\n",
    "x_positions = np.arange(len(x_ticklabels), dtype=np.float32) - width / 2\n",
    "dim_red_types = results_dataframe[\"Method\"].unique()\n",
    "bar_width = width / len(dim_red_types)\n",
    "for offset_idx, dim_red in enumerate(dim_red_types):\n",
    "    color = colors[offset_idx]\n",
    "    sub_dataframe = results_dataframe[\n",
    "        (results_dataframe[\"Method\"] == dim_red)\n",
    "    ]\n",
    "    ax.bar(\n",
    "        x=x_positions,\n",
    "        height=sub_dataframe[\"Score\"],\n",
    "        width=bar_width,\n",
    "        align=\"edge\",\n",
    "        color=[(*color, v) for v in sub_dataframe[\"Pct Clustered\"]],\n",
    "        label=dim_red,\n",
    "    )\n",
    "    ax.set_xlabel(\"Dataset\")\n",
    "    ax.set_xticks(np.arange(len(x_ticklabels)))\n",
    "    ax.set_xticklabels(x_ticklabels)\n",
    "    ax.set_ylabel(\"ARI\")\n",
    "    ax.set_title('Graph Clustering UMAP graph (Leiden)', fontsize=20)\n",
    "    ax.grid(visible=False, axis=\"x\")\n",
    "    ax.set_ylim([0, 1.05])\n",
    "    x_positions += bar_width\n",
    "\n",
    "if len(dim_red_types) > 1:\n",
    "    fig.legend(loc=\"center right\", bbox_to_anchor=(1.11, 0.75), borderaxespad=0.0, fontsize=20)\n",
    "\n",
    "# fig.tight_layout()\n",
    "# plt.savefig(f'figures/fuzzyUnion_graphclust_all_datasets.png')\n",
    "fig.savefig('figures/fuzzyUnion_graphclust_all_datasets.png', bbox_inches='tight')"
   ]
  },
  {
   "cell_type": "code",
   "execution_count": null,
   "id": "20b44fd0-e1af-49be-86bb-12fc5a71fd57",
   "metadata": {},
   "outputs": [],
   "source": []
  }
 ],
 "metadata": {
  "kernelspec": {
   "display_name": "HighDimensionalClustering",
   "language": "python",
   "name": "highdimensionalclustering"
  },
  "language_info": {
   "codemirror_mode": {
    "name": "ipython",
    "version": 3
   },
   "file_extension": ".py",
   "mimetype": "text/x-python",
   "name": "python",
   "nbconvert_exporter": "python",
   "pygments_lexer": "ipython3",
   "version": "3.7.15"
  }
 },
 "nbformat": 4,
 "nbformat_minor": 5
}
