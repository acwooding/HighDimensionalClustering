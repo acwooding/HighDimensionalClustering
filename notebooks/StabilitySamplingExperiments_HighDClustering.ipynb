{
 "cells": [
  {
   "cell_type": "code",
   "execution_count": 2,
   "id": "ed413bc4",
   "metadata": {},
   "outputs": [],
   "source": [
    "import numpy as np\n",
    "import pandas as pd\n",
    "import numba\n",
    "import sklearn.datasets\n",
    "import pynndescent\n",
    "import hdbscan\n",
    "import matplotlib.pyplot as plt\n",
    "import seaborn as sns\n",
    "import math\n",
    "import scipy.sparse\n",
    "import sklearn.metrics\n",
    "from matplotlib import pyplot\n",
    "from sklearn.inspection import DecisionBoundaryDisplay\n",
    "from matplotlib.gridspec import GridSpec\n",
    "from joblib import Parallel, delayed\n",
    "from time import time, ctime\n",
    "\n",
    "\n",
    "from collections import namedtuple\n",
    "from sklearn.preprocessing import normalize\n",
    "from sklearn.model_selection import cross_val_score, train_test_split, StratifiedShuffleSplit\n",
    "\n",
    "sns.set(rc={\"figure.figsize\":(12, 12)})"
   ]
  },
  {
   "cell_type": "markdown",
   "id": "1ed26f6e-2768-485a-9da9-c852abaf5924",
   "metadata": {},
   "source": [
    "# Load HighDimClusterer class"
   ]
  },
  {
   "cell_type": "code",
   "execution_count": 4,
   "id": "770f48f0-bb98-4f49-8db1-dc9c25995861",
   "metadata": {},
   "outputs": [
    {
     "name": "stderr",
     "output_type": "stream",
     "text": [
      "/work/home/vmpouli/.conda/envs/prob_high_d_clustering/lib/python3.11/site-packages/sklearn/datasets/_openml.py:1002: FutureWarning: The default value of `parser` will change from `'liac-arff'` to `'auto'` in 1.4. You can set `parser='auto'` to silence this warning. Therefore, an `ImportError` will be raised from 1.4 if the dataset is dense and pandas is not installed. Note that the pandas parser may return different data types. See the Notes Section in fetch_openml's API doc for details.\n",
      "  warn(\n"
     ]
    }
   ],
   "source": [
    "execfile('00-HighDimClusterer.py')"
   ]
  },
  {
   "cell_type": "markdown",
   "id": "474cfa3b",
   "metadata": {
    "tags": []
   },
   "source": [
    "## Experiments\n",
    "\n",
    "We'll run this algorithm (with tuned parameters) and compare it with a combination of UMAP and HDBSCAN (with tuned parameters). This algorithm was developed largely against MNIST, so it is perhaps somewhat overtuned to MNIST. You may want to substitute in your own favourite dataset instead; alhtough it should be \"high dimensional\" enough the not require Gamma distribution models (above about 10 should probably be enough)."
   ]
  },
  {
   "cell_type": "code",
   "execution_count": 23,
   "id": "1bef9e35",
   "metadata": {},
   "outputs": [
    {
     "name": "stderr",
     "output_type": "stream",
     "text": [
      "/work/home/jchealy/.conda/envs/hd_clustering/lib/python3.11/site-packages/sklearn/datasets/_openml.py:1002: FutureWarning: The default value of `parser` will change from `'liac-arff'` to `'auto'` in 1.4. You can set `parser='auto'` to silence this warning. Therefore, an `ImportError` will be raised from 1.4 if the dataset is dense and pandas is not installed. Note that the pandas parser may return different data types. See the Notes Section in fetch_openml's API doc for details.\n",
      "  warn(\n"
     ]
    }
   ],
   "source": [
    "mnist = sklearn.datasets.fetch_openml(\"mnist_784\")"
   ]
  },
  {
   "cell_type": "markdown",
   "id": "3f6af50d-d84d-4368-800e-d815e3f02331",
   "metadata": {},
   "source": [
    "## Parallel hyperparam search"
   ]
  },
  {
   "cell_type": "code",
   "execution_count": 24,
   "id": "f4b3c111-5f7d-4f65-945d-bf79c853c430",
   "metadata": {},
   "outputs": [],
   "source": [
    "def test_harness(param_dict, train_size, replications=5):\n",
    "    results_list = []\n",
    "    parameters = param_dict\n",
    "    ss = StratifiedShuffleSplit(n_splits=replications, train_size=train_size, random_state=42)\n",
    "    for i, (train_index, test_index) in enumerate(ss.split(X, y)): \n",
    "        clusterer = HighDimClusterer(**parameters)\n",
    "        start = time()\n",
    "        cluster_labels = clusterer.fit_predict(X[train_index,:])\n",
    "        results = parameters.copy()\n",
    "        results['iteration'] = i\n",
    "        results['train_size'] = train_size\n",
    "        results['duration'] = time()-start\n",
    "        results['adj_rand'] = sklearn.metrics.adjusted_rand_score(cluster_labels, y[train_index])\n",
    "        non_noise_index = cluster_labels!= -1\n",
    "        results['adj_rand_no_noise'] = sklearn.metrics.adjusted_rand_score(cluster_labels[non_noise_index], y[train_index][non_noise_index])\n",
    "        results['number_of_clusters'] = len(np.unique(cluster_labels))\n",
    "        results['proportion_of_noise'] = np.sum(cluster_labels==-1)/len(cluster_labels)\n",
    "        results_list.append(results)\n",
    "    return results_list"
   ]
  },
  {
   "cell_type": "code",
   "execution_count": 34,
   "id": "793dcc8d-ae27-41af-971a-a4eb9353ca0b",
   "metadata": {},
   "outputs": [],
   "source": [
    "from sklearn.model_selection import ShuffleSplit"
   ]
  },
  {
   "cell_type": "code",
   "execution_count": 35,
   "id": "9b1f4aa3-250e-4cd2-9190-e6f874e8ed58",
   "metadata": {},
   "outputs": [],
   "source": [
    "def test_harness_random(param_dict, train_size, replications=5):\n",
    "    results_list = []\n",
    "    parameters = param_dict\n",
    "    ss = ShuffleSplit(n_splits=replications, train_size=train_size, random_state=42)\n",
    "    for i, (train_index, test_index) in enumerate(ss.split(X)): \n",
    "        clusterer = HighDimClusterer(**parameters)\n",
    "        start = time()\n",
    "        cluster_labels = clusterer.fit_predict(X[train_index,:])\n",
    "        results = parameters.copy()\n",
    "        results['iteration'] = i\n",
    "        results['train_size'] = train_size\n",
    "        results['duration'] = time()-start\n",
    "        results['adj_rand'] = sklearn.metrics.adjusted_rand_score(cluster_labels, y[train_index])\n",
    "        non_noise_index = cluster_labels!= -1\n",
    "        results['adj_rand_no_noise'] = sklearn.metrics.adjusted_rand_score(cluster_labels[non_noise_index], y[train_index][non_noise_index])\n",
    "        results['number_of_clusters'] = len(np.unique(cluster_labels))\n",
    "        results['proportion_of_noise'] = np.sum(cluster_labels==-1)/len(cluster_labels)\n",
    "        results_list.append(results)\n",
    "    return results_list"
   ]
  },
  {
   "cell_type": "code",
   "execution_count": 35,
   "id": "7640b86f-88d3-492d-8501-e280dfd13ff2",
   "metadata": {},
   "outputs": [],
   "source": [
    "def test_harness_cv(param_dict, train_size, replications=5):\n",
    "    results_list = []\n",
    "    parameters = param_dict\n",
    "    ss = ShuffleSplit(n_splits=replications, train_size=train_size, random_state=42)\n",
    "    for i, (train_index, test_index) in enumerate(ss.split(X)): \n",
    "        clusterer = HighDimClusterer(**parameters)\n",
    "        start = time()\n",
    "        cluster_labels = clusterer.fit_predict(X[train_index,:])\n",
    "        results = parameters.copy()\n",
    "        results['iteration'] = i\n",
    "        results['train_size'] = train_size\n",
    "        results['duration'] = time()-start\n",
    "        results['adj_rand'] = sklearn.metrics.adjusted_rand_score(cluster_labels, y[train_index])\n",
    "        non_noise_index = cluster_labels!= -1\n",
    "        results['adj_rand_no_noise'] = sklearn.metrics.adjusted_rand_score(cluster_labels[non_noise_index], y[train_index][non_noise_index])\n",
    "        results['number_of_clusters'] = len(np.unique(cluster_labels))\n",
    "        results['proportion_of_noise'] = np.sum(cluster_labels==-1)/len(cluster_labels)\n",
    "        results_list.append(results)\n",
    "    return results_list"
   ]
  },
  {
   "cell_type": "code",
   "execution_count": 25,
   "id": "5e58b1ca-f08e-405b-9b15-284f6e4392b8",
   "metadata": {},
   "outputs": [],
   "source": [
    "from sklearn.model_selection import ParameterGrid\n",
    "from joblib import Parallel, delayed"
   ]
  },
  {
   "cell_type": "code",
   "execution_count": 26,
   "id": "0d940ee3-29ac-4577-8f25-d62537a48722",
   "metadata": {},
   "outputs": [
    {
     "data": {
      "text/plain": [
       "1"
      ]
     },
     "execution_count": 26,
     "metadata": {},
     "output_type": "execute_result"
    }
   ],
   "source": [
    "param_dict = {\n",
    "    'n_neighbors': [30],\n",
    "    'min_cluster_size': [800],\n",
    "    'min_prob': [1e-4],\n",
    "    'k': [1],\n",
    "    'model_prior_strength':[0.0],\n",
    "    'n_iter':[3],\n",
    "    'max_iter':[50],\n",
    "    'label_prior': [0.9],\n",
    "    'noise_prior': [0.1],\n",
    "    'max_total_weight':[64.0],\n",
    "    'tolerance':[1e-5],\n",
    "}\n",
    "param_list = ParameterGrid(param_dict)\n",
    "len(param_list)"
   ]
  },
  {
   "cell_type": "raw",
   "id": "5b491610-78e7-4568-89da-bddc446e9bfc",
   "metadata": {},
   "source": [
    "param_dict = {\n",
    "    'min_cluster_size': [600, 800, 1000, 1500],\n",
    "    'k': [1,2],\n",
    "}\n",
    "param_list = ParameterGrid(param_dict)\n",
    "len(param_list)"
   ]
  },
  {
   "cell_type": "code",
   "execution_count": 27,
   "id": "08303322-74b5-4576-a319-b15962dbc488",
   "metadata": {},
   "outputs": [],
   "source": [
    "import warnings\n",
    "with warnings.catch_warnings():\n",
    "    warnings.filterwarnings('ignore', r'Numba: Attempted to fork from a non-main thread, the TBB library may be in an invalid state in the child process.')"
   ]
  },
  {
   "cell_type": "code",
   "execution_count": 30,
   "id": "3fad02e4-2bb4-43f4-bd8f-16ccd9bd9dcd",
   "metadata": {},
   "outputs": [
    {
     "name": "stdout",
     "output_type": "stream",
     "text": [
      "train size = 0.9, n_runs = 100 done in 1053.472 seconds on 4 cores, time per run=0.095\n",
      "CPU times: user 261 ms, sys: 707 ms, total: 968 ms\n",
      "Wall time: 17min 33s\n"
     ]
    }
   ],
   "source": [
    "%%time\n",
    "numba.set_num_threads(1)\n",
    "cores = 4\n",
    "reps= 100\n",
    "X = np.array(mnist.data)\n",
    "y = np.array(mnist.target)\n",
    "train_sizes=[0.9] \n",
    "\n",
    "results_list = []\n",
    "for train_size in train_sizes:\n",
    "    total_runs = len(param_list)*reps\n",
    "    start_time = time()\n",
    "    results_list.append(list(np.concatenate(Parallel(n_jobs=cores)(delayed(test_harness)(param, train_size, replications=reps) for param in param_list))))\n",
    "    result_df = pd.DataFrame(list(np.concatenate(results_list)))\n",
    "    result_df.to_csv(f\"HyperParameterSearch_standardParams_train_size{train_size}_.csv\", index=False)\n",
    "    wall_time = time()-start_time\n",
    "    total_runs = len(param_list)*reps\n",
    "    print(f'train size = {train_size}, n_runs = {total_runs} done in {wall_time:.3f} seconds on {cores} cores, time per run={(total_runs/wall_time):0.3f}')"
   ]
  },
  {
   "cell_type": "code",
   "execution_count": 31,
   "id": "80fa3602-3fd7-46ce-95fa-c4389b7efab3",
   "metadata": {},
   "outputs": [],
   "source": [
    "df = pd.DataFrame(result_df)"
   ]
  },
  {
   "cell_type": "code",
   "execution_count": 33,
   "id": "70173be9-9504-4e85-ae0a-5a08afb0a25e",
   "metadata": {},
   "outputs": [
    {
     "data": {
      "text/plain": [
       "<Axes: >"
      ]
     },
     "execution_count": 33,
     "metadata": {},
     "output_type": "execute_result"
    },
    {
     "data": {
      "image/png": "[encoded data removed]",
      "text/plain": [
       "<Figure size 1200x1200 with 1 Axes>"
      ]
     },
     "metadata": {},
     "output_type": "display_data"
    }
   ],
   "source": [
    "sns.boxenplot(df.adj_rand_no_noise)"
   ]
  },
  {
   "cell_type": "code",
   "execution_count": null,
   "id": "5ddf59f8-1097-4cf1-acb8-ab61ed4b412e",
   "metadata": {},
   "outputs": [],
   "source": [
    "type(wall_time)"
   ]
  },
  {
   "cell_type": "code",
   "execution_count": null,
   "id": "382640f7-3eab-4d2c-a28a-5117648ae18e",
   "metadata": {},
   "outputs": [],
   "source": [
    "%%time\n",
    "numba.set_num_threads(1)\n",
    "cores = 4\n",
    "reps= 100\n",
    "X = np.array(mnist.data)\n",
    "y = np.array(mnist.target)\n",
    "train_sizes=[0.9] \n",
    "\n",
    "results_list_ss = []\n",
    "for train_size in train_sizes:\n",
    "    total_runs = len(param_list)*reps\n",
    "    start_time = time()\n",
    "    results_list_ss.append(list(np.concatenate(Parallel(n_jobs=cores)(delayed(test_harness_random)(param, train_size, replications=reps) for param in param_list))))\n",
    "    result_df = pd.DataFrame(list(np.concatenate(results_list_ss)))\n",
    "    result_df.to_csv(f\"HyperParameterSearch_standardParams_shuffleSplit_train_size{train_size}_.csv\", index=False)\n",
    "    wall_time = time()-start_time\n",
    "    total_runs = len(param_list)*reps\n",
    "    print(f'train size = {train_size}, n_runs = {total_runs} done in {wall_time:.3f} seconds on {cores} cores, time per run={(total_runs/wall_time):0.3f}')"
   ]
  },
  {
   "cell_type": "code",
   "execution_count": null,
   "id": "bec14e11-8da2-456a-897b-e44511321f0e",
   "metadata": {},
   "outputs": [],
   "source": [
    "print(f'train size = {train_size}, n_runs = {total_runs} done in {wall_time:.3f}')"
   ]
  },
  {
   "cell_type": "code",
   "execution_count": null,
   "id": "3d35378a-70c4-491d-a806-8194730d94ba",
   "metadata": {},
   "outputs": [],
   "source": [
    "result_df.shape"
   ]
  },
  {
   "cell_type": "code",
   "execution_count": null,
   "id": "b6a9ef92-7273-4ae2-96a4-8595eb483707",
   "metadata": {},
   "outputs": [],
   "source": [
    "result_df = pd.DataFrame(list(np.concatenate(results_list)))\n",
    "result_df.to_csv(\"HyperParameterSearch_September11_mark2.csv\", index=False)"
   ]
  },
  {
   "cell_type": "code",
   "execution_count": null,
   "id": "67c20a57-c800-4d70-8fa5-daeaf082c148",
   "metadata": {},
   "outputs": [],
   "source": [
    "print(f'runs = {len(result_df)} total time = {wall_time} average time = {wall_time/len(result_df)}')"
   ]
  },
  {
   "cell_type": "code",
   "execution_count": null,
   "id": "58a87a3d-f893-48f4-b3ca-f91b1ccd2264",
   "metadata": {},
   "outputs": [],
   "source": [
    "12960/(5.5*3600)"
   ]
  },
  {
   "cell_type": "code",
   "execution_count": null,
   "id": "9b00ba86-9455-46fc-a71c-2ee3abc1b315",
   "metadata": {},
   "outputs": [],
   "source": [
    "result_df.train_size.value_counts()"
   ]
  },
  {
   "cell_type": "code",
   "execution_count": null,
   "id": "a96fe50a-4fff-475d-bb28-3f4813ee09d0",
   "metadata": {},
   "outputs": [],
   "source": []
  }
 ],
 "metadata": {
  "kernelspec": {
   "display_name": "prob_high_d_clustering",
   "language": "python",
   "name": "prob_high_d_clustering"
  },
  "language_info": {
   "codemirror_mode": {
    "name": "ipython",
    "version": 3
   },
   "file_extension": ".py",
   "mimetype": "text/x-python",
   "name": "python",
   "nbconvert_exporter": "python",
   "pygments_lexer": "ipython3",
   "version": "3.11.4"
  }
 },
 "nbformat": 4,
 "nbformat_minor": 5
}
