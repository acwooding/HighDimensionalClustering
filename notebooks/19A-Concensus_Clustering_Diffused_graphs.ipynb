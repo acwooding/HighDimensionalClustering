{
 "cells": [
  {
   "cell_type": "markdown",
   "id": "e4e429df",
   "metadata": {
    "tags": []
   },
   "source": [
    "# Concensus clustering on Random Graphs\n",
    "\n",
    "The graph obtained via UMAP has weights that can be interpreted as the probability of the edge’s existence. These weights can be used to generate several unweighted random graphs obtained by keeping edges with a probability proportional to their weights. We are exploring the idea of using a consensus clustering by clustering each random graph separately and see if this turns out to be a good way to obtain good clusters of the high dimensional points.\n",
    "\n",
    "### What we want to try\n",
    "\n",
    "* Use HDBSCAN as the final clustering\n",
    "* Use connected components as the clustering of the random graphs\n",
    "* Use diffusion first"
   ]
  },
  {
   "cell_type": "markdown",
   "id": "7b04766b-700f-489d-ab0c-13750b87eb2c",
   "metadata": {},
   "source": [
    "## A summary of the results\n",
    "\n",
    "Ok, so that I remember what this was all about, I will write a few results up here.\n",
    "\n",
    "I used an ensemble of 20 members. I used different weak learners - Leiden or connected components on a graph obtained by randomly dropping edges of the original UMAP graph (the probability that an edge is kept is proportional to its UMAP weight). I combined the clusters obtained on the random graphs in a final graph where each edge is the proportion of times the two endpoints were put together in partitions of random graphs. As a final partition strategy we either use Leiden or HDBSCAN.\n",
    "\n",
    "| Dataset | Straight Leiden | Leiden (final), Leiden (random) | HDBSCAN (final), CC (random) | HDBSCAN (final), Leiden (random) | UMAP+HDBSCAN | \n",
    "| --- | ----------- | ----------- | ----------- |----------- |----------- | \n",
    "| pendigits | 0.89/0.91 | 0.87/0.91 | 0.05/0.24 | 0.87/0.91 | 0.92/0.93 |\n",
    "| coil | 0.75/0.88 | 0.76/0.89 | 0.60/0.89 | 0.81/0.95 | 0.79/0.94 |\n",
    "| mnist | 0.80/0.84 | 0.76/0.83 | 0.00/0.00 | 0.57/0.70 | 0.92/0.90 |\n",
    "| usps | 0.80/0.87 | 0.79/0.87 | 0.00/0.01 | 0.58/0.76 | 0.88/0.90 |\n",
    "| buildings | 0.29/0.61 | 0.29/0.63 | 0.00/0.08 | 0.21/0.60 | 0.34/0.68 |\n",
    "\n",
    "For all experiments, we removed more edges for the connected components than we did when using Leiden. \n",
    "* for Leiden: keep an edge ij if a randomly generated number between 0 and 1 is less than w_{ij}\n",
    "* for CC: keep and edge ij if a randomly generated number between 0 and 1.3 is less than w_{ij}\n",
    "\n",
    "The CC for Mnist did not work. The random graphs were not split into enough components. It varied between 1 and 11 components (mostly 4,5,6) resulting in many weight 1 edges in the final graph.\n",
    "\n",
    "The results show that some of these combinations work well for a given example or another. But overall, straight Leiden is a better option for all graphs."
   ]
  },
  {
   "cell_type": "code",
   "execution_count": 1,
   "id": "e4875757-c802-423c-8bf8-8efd45ff78e3",
   "metadata": {},
   "outputs": [
    {
     "name": "stdout",
     "output_type": "stream",
     "text": [
      "  concensus\u001b[m\n",
      "* \u001b[32mmaster\u001b[m\n"
     ]
    }
   ],
   "source": [
    "!git branch"
   ]
  },
  {
   "cell_type": "code",
   "execution_count": 2,
   "id": "52d3bdf4-9b88-4008-93e6-5e6f656e5b94",
   "metadata": {},
   "outputs": [
    {
     "name": "stdout",
     "output_type": "stream",
     "text": [
      "['pendigits', 'coil', 'mnist', 'usps', 'buildings', 'clusterable']\n"
     ]
    }
   ],
   "source": [
    "execfile('functions/data_specifics.py')\n",
    "execfile('functions/graph_functions.py')\n",
    "print(data_set_list)"
   ]
  },
  {
   "cell_type": "code",
   "execution_count": 3,
   "id": "84a03c0f",
   "metadata": {},
   "outputs": [],
   "source": [
    "from IPython.display import display, Markdown, Latex\n",
    "from sklearn.metrics import adjusted_rand_score, adjusted_mutual_info_score, silhouette_score\n",
    "from sklearn import cluster\n",
    "\n",
    "import numpy as np\n",
    "import pandas as pd\n",
    "\n",
    "import matplotlib.pyplot as plt\n",
    "import seaborn as sns\n",
    "import umap\n",
    "\n",
    "sns.set()"
   ]
  },
  {
   "cell_type": "code",
   "execution_count": 4,
   "id": "7575767a-2d03-4f6c-a39d-9553cdc465c3",
   "metadata": {},
   "outputs": [],
   "source": [
    "import leidenalg as la\n",
    "import igraph as ig\n",
    "from tqdm import tqdm"
   ]
  },
  {
   "cell_type": "markdown",
   "id": "fa3e0edb-43b9-4afe-8d0f-01b21faf3004",
   "metadata": {},
   "source": [
    "## Get data"
   ]
  },
  {
   "cell_type": "code",
   "execution_count": 5,
   "id": "87352309-e8d9-4c70-97ac-175132259798",
   "metadata": {},
   "outputs": [
    {
     "name": "stdout",
     "output_type": "stream",
     "text": [
      "coil\n"
     ]
    }
   ],
   "source": [
    "dataset_id=1\n",
    "raw_data, targets, dataset_name = get_dataset(dataset_id=dataset_id)\n",
    "\n",
    "k = get_dataset_params(dataset_id)['n_neighbors']\n",
    "print(data_set_list[dataset_id])"
   ]
  },
  {
   "cell_type": "code",
   "execution_count": 6,
   "id": "a7325b57-372d-4fd8-9d30-d9e200f76646",
   "metadata": {},
   "outputs": [],
   "source": [
    "symmetric_graph, _, _ = umap.umap_.fuzzy_simplicial_set(raw_data, n_neighbors=k, metric=\"euclidean\", random_state=42)\n",
    "A_umap = symmetric_graph\n",
    "# symmetric_graph[np.arange(symmetric_graph.shape[0]), np.arange(symmetric_graph.shape[0])] = 1.0\n",
    "umap_graph = symmetric_graph.copy()\n",
    "directed_graph, _, _ = umap.umap_.fuzzy_simplicial_set(raw_data, n_neighbors=k, metric=\"euclidean\", random_state=42, apply_set_operations=False)\n",
    "directed_graph = directed_graph.tocsr()"
   ]
  },
  {
   "cell_type": "markdown",
   "id": "51559c08-97cb-4779-b430-07231569f4f5",
   "metadata": {},
   "source": [
    "# Diffuse and prune"
   ]
  },
  {
   "cell_type": "code",
   "execution_count": 7,
   "id": "fc83240a-bd91-4605-a778-0e9d7ce34cee",
   "metadata": {},
   "outputs": [],
   "source": [
    "from sklearn.preprocessing import normalize\n",
    "import scipy.sparse.csgraph"
   ]
  },
  {
   "cell_type": "code",
   "execution_count": 8,
   "id": "e085d870-bc6f-4980-bf5e-090a736bc643",
   "metadata": {},
   "outputs": [
    {
     "name": "stdout",
     "output_type": "stream",
     "text": [
      "CPU times: user 74.8 ms, sys: 0 ns, total: 74.8 ms\n",
      "Wall time: 74.6 ms\n"
     ]
    },
    {
     "name": "stderr",
     "output_type": "stream",
     "text": [
      "/work/home/vmpouli/.conda/envs/HighDimensionalClustering/lib/python3.7/site-packages/scipy/sparse/_index.py:125: SparseEfficiencyWarning: Changing the sparsity structure of a csr_matrix is expensive. lil_matrix is more efficient.\n",
      "  self._set_arrayXarray(i, j, x)\n"
     ]
    }
   ],
   "source": [
    "%%time\n",
    "threshold = 0.01\n",
    "umap_graph = normalize(directed_graph, norm=\"l1\")\n",
    "new_graph = umap_graph * umap_graph# + umap_graph\n",
    "new_graph.setdiag(0)\n",
    "new_graph = normalize(new_graph, norm=\"l1\")\n",
    "new_graph.data[new_graph.data < threshold] = 0.0\n",
    "new_graph = normalize(new_graph, norm=\"l1\")\n",
    "new_graph.eliminate_zeros()\n",
    "new_graph = new_graph + new_graph.T - new_graph.multiply(new_graph.T)\n",
    "# new_graph = new_graph.maximum(new_graph.T)\n",
    "\n",
    "for i in range(20):\n",
    "    new_graph = umap_graph * new_graph# + umap_graph\n",
    "    # new_graph = new_graph * umap_graph\n",
    "    new_graph.setdiag(0)\n",
    "    new_graph = normalize(new_graph, norm=\"l1\")\n",
    "    new_graph.data[new_graph.data < threshold] = 0.0\n",
    "    new_graph = normalize(new_graph, norm=\"l1\")\n",
    "    new_graph.eliminate_zeros()\n",
    "    new_graph = new_graph + new_graph.T - new_graph.multiply(new_graph.T)\n",
    "\n",
    "    # new_graph = new_graph.maximum(new_graph.T)\n",
    "    \n",
    "# The new graph to the power 3 - still creating new paths\n",
    "new_graph = new_graph ** 3\n",
    "new_graph.data[new_graph.data < threshold] = 0.0\n",
    "new_graph.eliminate_zeros()"
   ]
  },
  {
   "cell_type": "markdown",
   "id": "c80b7cd3-20e1-4ef4-9490-b631788c1b48",
   "metadata": {},
   "source": [
    "# Using quantiles to threshold"
   ]
  },
  {
   "cell_type": "code",
   "execution_count": 133,
   "id": "8363ddd2-5a63-4139-87a3-9c263ffa2987",
   "metadata": {},
   "outputs": [],
   "source": [
    "def get_data_larger_quantile(A_csr, quantile):\n",
    "    row_quantiles = np.array([np.quantile(A_csr.data[A_csr.indptr[i]:A_csr.indptr[i+1]], quantile) for i in range(A_csr.shape[0])])\n",
    "    data_filter = np.hstack([np.array([A_csr.data[A_csr.indptr[i]:A_csr.indptr[i+1]]>row_quantiles[i]]) for i in range(A_csr.shape[0])])[0]\n",
    "    return(data_filter)"
   ]
  },
  {
   "cell_type": "code",
   "execution_count": 144,
   "id": "a4067731-6f31-45bb-9c0d-36a21fda0e9b",
   "metadata": {},
   "outputs": [
    {
     "name": "stderr",
     "output_type": "stream",
     "text": [
      "/work/home/vmpouli/.conda/envs/HighDimensionalClustering/lib/python3.7/site-packages/scipy/sparse/_index.py:125: SparseEfficiencyWarning: Changing the sparsity structure of a csr_matrix is expensive. lil_matrix is more efficient.\n",
      "  self._set_arrayXarray(i, j, x)\n"
     ]
    },
    {
     "name": "stdout",
     "output_type": "stream",
     "text": [
      "CPU times: user 1.9 s, sys: 43.8 ms, total: 1.94 s\n",
      "Wall time: 1.92 s\n"
     ]
    }
   ],
   "source": [
    "%%time\n",
    "threshold = 0.001\n",
    "quantiles = [0.2]*5 + [0.4]*5 + [0.6]*5 + [0.7]*5\n",
    "umap_graph = normalize(directed_graph, norm=\"l1\")\n",
    "new_graph = umap_graph * umap_graph# + umap_graph\n",
    "new_graph.setdiag(0)\n",
    "new_graph = normalize(new_graph, norm=\"l1\")\n",
    "new_graph.data[new_graph.data < threshold] = 0.0\n",
    "new_graph = normalize(new_graph, norm=\"l1\")\n",
    "new_graph.eliminate_zeros()\n",
    "new_graph = new_graph + new_graph.T - new_graph.multiply(new_graph.T)\n",
    "# new_graph = new_graph.maximum(new_graph.T)\n",
    "\n",
    "for i in range(len(quantiles)):\n",
    "    new_graph = umap_graph * new_graph# + umap_graph\n",
    "    # new_graph = new_graph * umap_graph\n",
    "    new_graph.setdiag(0)\n",
    "    new_graph = normalize(new_graph, norm=\"l1\")\n",
    "    data_filter = get_data_larger_quantile(new_graph, quantile=quantiles[i])\n",
    "    new_graph.data[~data_filter] = 0.0\n",
    "    new_graph = normalize(new_graph, norm=\"l1\")\n",
    "    new_graph.eliminate_zeros()\n",
    "    new_graph = new_graph + new_graph.T - new_graph.multiply(new_graph.T)\n",
    "\n",
    "    # new_graph = new_graph.maximum(new_graph.T)\n",
    "    \n",
    "# The new graph to the power 3 - still creating new paths\n",
    "new_graph = new_graph ** 3\n",
    "new_graph.data[new_graph.data < threshold] = 0.0\n",
    "new_graph.eliminate_zeros()"
   ]
  },
  {
   "cell_type": "code",
   "execution_count": 145,
   "id": "1fb1190a-6c97-473e-9cf9-0ea771f5fd50",
   "metadata": {},
   "outputs": [
    {
     "name": "stdout",
     "output_type": "stream",
     "text": [
      "5760 edges before diffusion/pruning\n",
      "33992 edges after diffusion/pruning\n"
     ]
    }
   ],
   "source": [
    "print(f'{umap_graph.nnz} edges before diffusion/pruning')\n",
    "print(f'{new_graph.nnz} edges after diffusion/pruning')"
   ]
  },
  {
   "cell_type": "markdown",
   "id": "a1eed3bb-71b1-4da8-a1ae-23d249841f15",
   "metadata": {},
   "source": [
    "# Leiden on diffused/pruned graph"
   ]
  },
  {
   "cell_type": "code",
   "execution_count": 146,
   "id": "d649a8bc-1745-46fe-a9b4-0ef274816caf",
   "metadata": {},
   "outputs": [
    {
     "data": {
      "text/plain": [
       "22"
      ]
     },
     "execution_count": 146,
     "metadata": {},
     "output_type": "execute_result"
    }
   ],
   "source": [
    "G_orig = ig.Graph.Adjacency(new_graph>0)\n",
    "clusters_orig = la.find_partition(G_orig, la.ModularityVertexPartition).membership\n",
    "max(clusters_orig)+1"
   ]
  },
  {
   "cell_type": "code",
   "execution_count": 147,
   "id": "d61d81c0-2043-4b40-a59f-2f23877bceb3",
   "metadata": {},
   "outputs": [
    {
     "name": "stdout",
     "output_type": "stream",
     "text": [
      "ARI = 0.7414817197809763 and AMI = 0.883355022137688\n"
     ]
    }
   ],
   "source": [
    "ari_orig = adjusted_rand_score(targets, clusters_orig)\n",
    "ami_orig = adjusted_mutual_info_score(targets, clusters_orig)\n",
    "print(f'ARI = {ari_orig} and AMI = {ami_orig}') "
   ]
  },
  {
   "cell_type": "markdown",
   "id": "774f8d8a-443d-44f6-987d-f0fbf955385f",
   "metadata": {},
   "source": [
    "# Build ensemble members\n",
    "\n",
    "We construct random graphs by flipping ( number_edges x ensemble_size) coins. Each flip determine if we keep a specific edge in a specific random graph."
   ]
  },
  {
   "cell_type": "code",
   "execution_count": 148,
   "id": "92cd2349-b025-446d-b34d-36099956254c",
   "metadata": {},
   "outputs": [
    {
     "name": "stdout",
     "output_type": "stream",
     "text": [
      "6590\n"
     ]
    }
   ],
   "source": [
    "ensemble_size = 20\n",
    "number_edges = len(A_umap.data)\n",
    "print(number_edges)"
   ]
  },
  {
   "cell_type": "code",
   "execution_count": 15,
   "id": "7ec24841-8fc0-4a33-acf8-070ae00c054e",
   "metadata": {},
   "outputs": [
    {
     "data": {
      "text/plain": [
       "(20, 6590)"
      ]
     },
     "execution_count": 15,
     "metadata": {},
     "output_type": "execute_result"
    }
   ],
   "source": [
    "coin_flips = np.random.rand(ensemble_size, number_edges)\n",
    "keep_edges = coin_flips < A_umap.data\n",
    "keep_edges.shape"
   ]
  },
  {
   "cell_type": "markdown",
   "id": "c62925c2-150f-421d-b325-4a6e13d20ae1",
   "metadata": {},
   "source": [
    "Proportion of edges kept in each random graph"
   ]
  },
  {
   "cell_type": "code",
   "execution_count": 16,
   "id": "d7d00204-ffe9-4b09-baf4-bd883e01de6c",
   "metadata": {},
   "outputs": [
    {
     "data": {
      "text/plain": [
       "array([0.6552352 , 0.66388467, 0.6629742 , 0.65705615, 0.66616085,\n",
       "       0.66145675, 0.65417299, 0.65614568, 0.65022762, 0.65371775,\n",
       "       0.66009105, 0.65918058, 0.6599393 , 0.6616085 , 0.65902883,\n",
       "       0.65553869, 0.65250379, 0.66373293, 0.6538695 , 0.66358118])"
      ]
     },
     "execution_count": 16,
     "metadata": {},
     "output_type": "execute_result"
    }
   ],
   "source": [
    "np.sum(keep_edges, axis=1)/number_edges"
   ]
  },
  {
   "cell_type": "markdown",
   "id": "ded7f316-fa5d-4fe9-b966-b1c26fb9fe55",
   "metadata": {},
   "source": [
    "Number of times edges are part of the random graphs"
   ]
  },
  {
   "cell_type": "code",
   "execution_count": 17,
   "id": "e7dae735-2b3b-4c2b-94a4-86066bfa6aa8",
   "metadata": {},
   "outputs": [
    {
     "data": {
      "text/plain": [
       "<AxesSubplot:ylabel='Count'>"
      ]
     },
     "execution_count": 17,
     "metadata": {},
     "output_type": "execute_result"
    },
    {
     "data": {
      "image/png": "[encoded data removed]",
      "text/plain": [
       "<Figure size 640x480 with 1 Axes>"
      ]
     },
     "metadata": {},
     "output_type": "display_data"
    }
   ],
   "source": [
    "sns.histplot(np.sum(keep_edges, axis=0))"
   ]
  },
  {
   "cell_type": "markdown",
   "id": "ad6ef808-534e-4092-8870-7a0023c566de",
   "metadata": {},
   "source": [
    "# Cluster the random graphs using Leiden"
   ]
  },
  {
   "cell_type": "code",
   "execution_count": 18,
   "id": "13d52a1f-48e8-45ab-a2c7-6453b59a96d7",
   "metadata": {},
   "outputs": [
    {
     "name": "stderr",
     "output_type": "stream",
     "text": [
      "100%|██████████| 20/20 [00:00<00:00, 41.00it/s]\n"
     ]
    }
   ],
   "source": [
    "clusters = dict()\n",
    "for i in tqdm(range(ensemble_size)):\n",
    "    A = A_umap.copy()\n",
    "    A.data = keep_edges[i]\n",
    "    A.eliminate_zeros()\n",
    "    G = ig.Graph.Adjacency(A, mode='undirected')\n",
    "    clusters[i] = la.find_partition(G, la.ModularityVertexPartition).membership"
   ]
  },
  {
   "cell_type": "code",
   "execution_count": 19,
   "id": "130aaeae-1249-4cde-9fbb-f9297180fca8",
   "metadata": {},
   "outputs": [
    {
     "name": "stdout",
     "output_type": "stream",
     "text": [
      "39\n",
      "38\n",
      "38\n",
      "37\n",
      "38\n",
      "34\n",
      "38\n",
      "39\n",
      "37\n",
      "40\n",
      "36\n",
      "38\n",
      "38\n",
      "37\n",
      "38\n",
      "40\n",
      "41\n",
      "37\n",
      "38\n",
      "38\n"
     ]
    }
   ],
   "source": [
    "for i in range(ensemble_size):\n",
    "    print(max(clusters[i])+1)"
   ]
  },
  {
   "cell_type": "markdown",
   "id": "0b746268-0d16-4053-a719-5cff3d6b7390",
   "metadata": {},
   "source": [
    "Get the concensus counts for each row"
   ]
  },
  {
   "cell_type": "code",
   "execution_count": 21,
   "id": "9326c182-5b55-48b3-9001-a69bd0cb70af",
   "metadata": {},
   "outputs": [],
   "source": [
    "A_umap_coo = A_umap.tocoo()\n",
    "rows = A_umap_coo.row\n",
    "cols = A_umap_coo.col\n",
    "concensus_counts = np.array([0]*number_edges)\n",
    "for cl in range(ensemble_size):\n",
    "    concensus_counts = concensus_counts+np.array( [int(clusters[cl][rows[i]]==clusters[cl][cols[i]]) for i in range(number_edges)] )"
   ]
  },
  {
   "cell_type": "code",
   "execution_count": 22,
   "id": "ba5696f9-cc25-4fb7-8d1e-e434570941d8",
   "metadata": {},
   "outputs": [
    {
     "data": {
      "text/plain": [
       "<AxesSubplot:ylabel='Count'>"
      ]
     },
     "execution_count": 22,
     "metadata": {},
     "output_type": "execute_result"
    },
    {
     "data": {
      "image/png": "[encoded data removed]",
      "text/plain": [
       "<Figure size 640x480 with 1 Axes>"
      ]
     },
     "metadata": {},
     "output_type": "display_data"
    }
   ],
   "source": [
    "sns.histplot(concensus_counts)"
   ]
  },
  {
   "cell_type": "code",
   "execution_count": 23,
   "id": "5729fdb4-081b-460a-b690-9b7fdc96842a",
   "metadata": {},
   "outputs": [],
   "source": [
    "A_results = A_umap_coo.copy()\n",
    "A_results.data = concensus_counts/(ensemble_size+1)"
   ]
  },
  {
   "cell_type": "markdown",
   "id": "2b2987a6-8171-4acc-98e2-03f16071e7b5",
   "metadata": {},
   "source": [
    "# Another clustering of random graphs using connected components"
   ]
  },
  {
   "cell_type": "code",
   "execution_count": 24,
   "id": "aca75ab9-e950-4aa2-a32d-d731fff50129",
   "metadata": {},
   "outputs": [],
   "source": [
    "keep_edges_cc = coin_flips < A_umap.data/1.3"
   ]
  },
  {
   "cell_type": "code",
   "execution_count": 25,
   "id": "5784cf85-ed94-41db-905e-e7944f7e9f46",
   "metadata": {},
   "outputs": [
    {
     "name": "stderr",
     "output_type": "stream",
     "text": [
      "100%|██████████| 20/20 [00:00<00:00, 3934.43it/s]\n"
     ]
    }
   ],
   "source": [
    "clusters_cc = dict()\n",
    "for i in tqdm(range(ensemble_size)):\n",
    "    A = A_umap.copy()\n",
    "    A.data = keep_edges_cc[i]\n",
    "    A.eliminate_zeros()\n",
    "    n_components, components = scipy.sparse.csgraph.connected_components(A)\n",
    "    clusters_cc[i] = components"
   ]
  },
  {
   "cell_type": "code",
   "execution_count": 26,
   "id": "3991e7ca-4453-4379-8c07-dedceb5c400d",
   "metadata": {},
   "outputs": [
    {
     "name": "stdout",
     "output_type": "stream",
     "text": [
      "18\n",
      "15\n",
      "22\n",
      "17\n",
      "16\n",
      "16\n",
      "18\n",
      "21\n",
      "14\n",
      "19\n",
      "18\n",
      "17\n",
      "18\n",
      "18\n",
      "21\n",
      "22\n",
      "17\n",
      "15\n",
      "19\n",
      "15\n"
     ]
    }
   ],
   "source": [
    "for i in range(ensemble_size):\n",
    "    print(max(clusters_cc[i])+1)"
   ]
  },
  {
   "cell_type": "code",
   "execution_count": 27,
   "id": "eb1fcbf1-59a3-460c-bdb0-3378cc6a1468",
   "metadata": {},
   "outputs": [],
   "source": [
    "A_umap_coo = A_umap.tocoo()\n",
    "rows = A_umap_coo.row\n",
    "cols = A_umap_coo.col\n",
    "concensus_counts_cc = np.array([0]*number_edges)\n",
    "for cl in range(ensemble_size):\n",
    "    concensus_counts_cc = concensus_counts_cc+np.array( [int(clusters_cc[cl][rows[i]]==clusters_cc[cl][cols[i]]) for i in range(number_edges)] )"
   ]
  },
  {
   "cell_type": "code",
   "execution_count": 28,
   "id": "b4ebf4b6-2df0-43cd-8152-d489b55d82a8",
   "metadata": {},
   "outputs": [
    {
     "data": {
      "text/plain": [
       "<AxesSubplot:ylabel='Count'>"
      ]
     },
     "execution_count": 28,
     "metadata": {},
     "output_type": "execute_result"
    },
    {
     "data": {
      "image/png": "[encoded data removed]",
      "text/plain": [
       "<Figure size 640x480 with 1 Axes>"
      ]
     },
     "metadata": {},
     "output_type": "display_data"
    }
   ],
   "source": [
    "sns.histplot(concensus_counts_cc)"
   ]
  },
  {
   "cell_type": "code",
   "execution_count": 29,
   "id": "771bc5ca-2dce-4480-b538-daf6c2d71c39",
   "metadata": {},
   "outputs": [],
   "source": [
    "A_results_cc = A_umap_coo.copy()\n",
    "A_results_cc.data = concensus_counts_cc/(ensemble_size+1)"
   ]
  },
  {
   "cell_type": "markdown",
   "id": "1f9f6cf6-6a89-486c-8516-96608b3d82f8",
   "metadata": {},
   "source": [
    "# Concencus\n",
    "\n",
    "Build a final graph with weights being equal to the proportion of times the end points of the edge were put in the same clusters."
   ]
  },
  {
   "cell_type": "markdown",
   "id": "11792f01-f780-432f-ad87-2f7e66afc790",
   "metadata": {},
   "source": [
    "# Evaluate final clusters with Leiden"
   ]
  },
  {
   "cell_type": "code",
   "execution_count": 45,
   "id": "303e5b08-ef2e-4f66-b21f-3a05b7989ed3",
   "metadata": {},
   "outputs": [],
   "source": [
    "G = ig.Graph.Weighted_Adjacency(A_results)\n",
    "lei_labels = la.find_partition(G, la.ModularityVertexPartition, weights='weight').membership"
   ]
  },
  {
   "cell_type": "code",
   "execution_count": 46,
   "id": "6bb4b7d7-f98d-4646-a3d2-036bdf25ba89",
   "metadata": {},
   "outputs": [
    {
     "name": "stdout",
     "output_type": "stream",
     "text": [
      "30\n",
      "20\n"
     ]
    }
   ],
   "source": [
    "print(max(lei_labels)+1)\n",
    "print(max(targets)-min(targets)+1)"
   ]
  },
  {
   "cell_type": "code",
   "execution_count": 47,
   "id": "15f920eb-f112-4542-9b84-21f48dd42d6b",
   "metadata": {},
   "outputs": [
    {
     "name": "stdout",
     "output_type": "stream",
     "text": [
      "ARI = 0.7719570651320211 and AMI = 0.8923308175801956\n"
     ]
    }
   ],
   "source": [
    "labels = lei_labels\n",
    "ari_lei = adjusted_rand_score(targets, labels)\n",
    "ami_lei = adjusted_mutual_info_score(targets, labels)\n",
    "print(f'ARI = {ari_lei} and AMI = {ami_lei}') "
   ]
  },
  {
   "cell_type": "markdown",
   "id": "81e8f896-c249-434e-96ed-3b9a40986f88",
   "metadata": {},
   "source": [
    "# Evaluate final clusters with HDBSCAN"
   ]
  },
  {
   "cell_type": "code",
   "execution_count": 35,
   "id": "bebcc0b1-bfe6-4f83-a56c-34e64e276f67",
   "metadata": {},
   "outputs": [],
   "source": [
    "def hdbscan_on_graph(distance_graph):\n",
    "    if scipy.sparse.csgraph.connected_components(distance_graph)[0] > 1:\n",
    "        n_components, components = scipy.sparse.csgraph.connected_components(distance_graph)\n",
    "        rj_labels = np.full(distance_graph.shape[0], -1, dtype=np.int64)\n",
    "        for i in range(n_components):\n",
    "            if np.sum(components == i) <= 90:\n",
    "                subgraph_labels = np.zeros(np.sum(components == i), dtype=np.int64)\n",
    "            else:\n",
    "                subgraph = distance_graph[components == i, :][:, components == i]\n",
    "                subgraph_labels = hdbscan.HDBSCAN(metric=\"precomputed\", min_samples=2, min_cluster_size=30, allow_single_cluster=subgraph.shape[0] < 300).fit_predict(subgraph)\n",
    "            subgraph_labels[subgraph_labels >= 0] += (rj_labels.max() + 1)\n",
    "            rj_labels[components == i] = subgraph_labels\n",
    "            print(i, np.sum(components == i), Counter(subgraph_labels))\n",
    "    else:\n",
    "        rj_labels = hdbscan.HDBSCAN(metric=\"precomputed\", min_samples=2, min_cluster_size=30).fit_predict(distance_graph)\n",
    "    return(rj_labels)"
   ]
  },
  {
   "cell_type": "code",
   "execution_count": 36,
   "id": "55db42ff-cb2d-4cdb-8ef6-4cbd24d9ca97",
   "metadata": {},
   "outputs": [],
   "source": [
    "import hdbscan\n",
    "from collections import Counter"
   ]
  },
  {
   "cell_type": "code",
   "execution_count": 37,
   "id": "45386540-9f83-40b1-bc84-587b1d67fc5a",
   "metadata": {},
   "outputs": [
    {
     "name": "stdout",
     "output_type": "stream",
     "text": [
      "0\n"
     ]
    }
   ],
   "source": [
    "distance_graph = A_results.tocsr().copy()\n",
    "# distance_graph = distance_graph + distance_graph * distance_graph + distance_graph * distance_graph * distance_graph\n",
    "# distance_graph = distance_graph * distance_graph\n",
    "print(np.sum(distance_graph.data > 1))\n",
    "distance_graph.eliminate_zeros()\n",
    "distance_graph.data = -np.log(distance_graph.data)"
   ]
  },
  {
   "cell_type": "code",
   "execution_count": 38,
   "id": "fd76a738-a6c1-4a3f-9da9-200386410c00",
   "metadata": {},
   "outputs": [
    {
     "name": "stdout",
     "output_type": "stream",
     "text": [
      "0 72 Counter({0: 72})\n",
      "1 72 Counter({1: 72})\n",
      "2 72 Counter({2: 72})\n",
      "3 72 Counter({3: 72})\n",
      "4 72 Counter({4: 72})\n",
      "5 504 Counter({5: 72, 8: 72, 9: 72, 13: 63, 11: 47, 12: 40, 6: 38, -1: 36, 7: 34, 10: 30})\n",
      "6 72 Counter({14: 72})\n",
      "7 72 Counter({15: 72})\n",
      "8 72 Counter({16: 72})\n",
      "9 72 Counter({17: 72})\n",
      "10 72 Counter({18: 72})\n",
      "11 144 Counter({19: 131, -1: 13})\n",
      "12 72 Counter({20: 72})\n"
     ]
    }
   ],
   "source": [
    "hdb_labels = hdbscan_on_graph(distance_graph)"
   ]
  },
  {
   "cell_type": "code",
   "execution_count": 39,
   "id": "5551e39b-562c-44f2-8850-4dc0b4042147",
   "metadata": {},
   "outputs": [
    {
     "name": "stdout",
     "output_type": "stream",
     "text": [
      "ARI = 0.8500358314005967 and AMI = 0.9243289204369654\n"
     ]
    }
   ],
   "source": [
    "ari_hdb = adjusted_rand_score(targets, hdb_labels)\n",
    "ami_hdb = adjusted_mutual_info_score(targets, hdb_labels)\n",
    "print(f'ARI = {ari_hdb} and AMI = {ami_hdb}') "
   ]
  },
  {
   "cell_type": "markdown",
   "id": "03eafb86-18bb-41e8-b205-c61f0ce4211d",
   "metadata": {},
   "source": [
    "With CC instead"
   ]
  },
  {
   "cell_type": "code",
   "execution_count": 40,
   "id": "8746a279-c024-4d26-b2c8-afdab0006b4e",
   "metadata": {},
   "outputs": [
    {
     "name": "stdout",
     "output_type": "stream",
     "text": [
      "0\n"
     ]
    }
   ],
   "source": [
    "distance_graph = A_results_cc.tocsr().copy()\n",
    "# distance_graph = distance_graph + distance_graph * distance_graph + distance_graph * distance_graph * distance_graph\n",
    "# distance_graph = distance_graph * distance_graph\n",
    "print(np.sum(distance_graph.data > 1))\n",
    "distance_graph.eliminate_zeros()\n",
    "distance_graph.data = -np.log(distance_graph.data)"
   ]
  },
  {
   "cell_type": "code",
   "execution_count": 41,
   "id": "90969e2d-21a1-4964-b0a6-d6acf04f3e24",
   "metadata": {},
   "outputs": [
    {
     "name": "stdout",
     "output_type": "stream",
     "text": [
      "0 72 Counter({0: 72})\n",
      "1 72 Counter({1: 72})\n",
      "2 72 Counter({2: 72})\n",
      "3 72 Counter({3: 72})\n",
      "4 72 Counter({4: 72})\n",
      "5 504 Counter({7: 271, 8: 74, 5: 72, 6: 72, -1: 15})\n",
      "6 72 Counter({9: 72})\n",
      "7 72 Counter({10: 72})\n",
      "8 72 Counter({11: 72})\n",
      "9 72 Counter({12: 72})\n",
      "10 72 Counter({13: 72})\n",
      "11 144 Counter({14: 144})\n",
      "12 72 Counter({15: 72})\n"
     ]
    }
   ],
   "source": [
    "hdb_cc_labels = hdbscan_on_graph(distance_graph)"
   ]
  },
  {
   "cell_type": "code",
   "execution_count": 42,
   "id": "83f82b9c-86dc-471b-a421-71219df039a0",
   "metadata": {},
   "outputs": [
    {
     "name": "stdout",
     "output_type": "stream",
     "text": [
      "ARI = 0.7356158995366591 and AMI = 0.9363811588284873\n"
     ]
    }
   ],
   "source": [
    "evaluate_on = ( hdb_cc_labels>=0 )\n",
    "ari_hdb_cc = adjusted_rand_score(targets[evaluate_on], hdb_cc_labels[evaluate_on])\n",
    "ami_hdb_cc = adjusted_mutual_info_score(targets[evaluate_on], hdb_cc_labels[evaluate_on])\n",
    "print(f'ARI = {ari_hdb_cc} and AMI = {ami_hdb_cc}') "
   ]
  },
  {
   "cell_type": "markdown",
   "id": "5c0dcc73-4050-45aa-ab1f-2a1b990f37d1",
   "metadata": {},
   "source": [
    "# Compare against UMAP+HDBSCAN"
   ]
  },
  {
   "cell_type": "code",
   "execution_count": 43,
   "id": "d98a9778-7ea0-43fc-8a77-d29f1533ead7",
   "metadata": {},
   "outputs": [
    {
     "name": "stderr",
     "output_type": "stream",
     "text": [
      "/work/home/vmpouli/.conda/envs/HighDimensionalClustering/lib/python3.7/site-packages/sklearn/manifold/_spectral_embedding.py:261: UserWarning: Graph is not fully connected, spectral embedding may not work as expected.\n",
      "  \"Graph is not fully connected, spectral embedding may not work as expected.\"\n"
     ]
    },
    {
     "name": "stdout",
     "output_type": "stream",
     "text": [
      "ARI = 0.7964599133236414 and AMI = 0.9461476533161096\n"
     ]
    }
   ],
   "source": [
    "umap_rep = get_umap_vectors(dataset_id=dataset_id, raw_data=raw_data)\n",
    "hd_umap_labels = h_dbscan(umap_rep, which_algo='hdbscan', dataset_id=dataset_id)\n",
    "evaluate_on = ( hd_umap_labels>=0 ) \n",
    "ari_baseline = adjusted_rand_score(targets[evaluate_on], hd_umap_labels[evaluate_on])\n",
    "ami_baseline = adjusted_mutual_info_score(targets[evaluate_on], hd_umap_labels[evaluate_on])\n",
    "print(f'ARI = {ari_baseline} and AMI = {ami_baseline}') "
   ]
  },
  {
   "cell_type": "code",
   "execution_count": 48,
   "id": "eb92cca0-1fa4-480f-862c-547299300ca1",
   "metadata": {},
   "outputs": [
    {
     "name": "stdout",
     "output_type": "stream",
     "text": [
      "| coil | 0.78/0.94 | 0.77/0.89 | 0.74/0.94 | 0.85/0.92 | 0.80/0.95 |\n"
     ]
    }
   ],
   "source": [
    "print(f'| {data_set_list[dataset_id]} | {ari_orig:.2f}/{ami_orig:.2f} | {ari_lei:.2f}/{ami_lei:.2f} | {ari_hdb_cc:.2f}/{ami_hdb_cc:.2f} | {ari_hdb:.2f}/{ami_hdb:.2f} | {ari_baseline:.2f}/{ami_baseline:.2f} |')"
   ]
  },
  {
   "cell_type": "code",
   "execution_count": null,
   "id": "95b20d17-43e0-406d-bc03-4651260173c1",
   "metadata": {},
   "outputs": [],
   "source": []
  }
 ],
 "metadata": {
  "kernelspec": {
   "display_name": "HighDimensionalClustering",
   "language": "python",
   "name": "highdimensionalclustering"
  },
  "language_info": {
   "codemirror_mode": {
    "name": "ipython",
    "version": 3
   },
   "file_extension": ".py",
   "mimetype": "text/x-python",
   "name": "python",
   "nbconvert_exporter": "python",
   "pygments_lexer": "ipython3",
   "version": "3.7.16"
  }
 },
 "nbformat": 4,
 "nbformat_minor": 5
}
